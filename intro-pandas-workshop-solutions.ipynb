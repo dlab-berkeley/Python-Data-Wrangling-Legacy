{
 "cells": [
  {
   "cell_type": "markdown",
   "id": "cce1408f",
   "metadata": {},
   "source": [
    "# `pandas`\n",
    "\n",
    "This workshop's goal&mdash;which is facilitated by this Jupyter notebook&mdash;is to give attendees the confidence to use `pandas` in their research projects. Basic familiarity with Python *is* assumed.\n",
    "\n",
    "`pandas` is designed to make it easier to work with structured data. Most of the analyses you might perform will likely involve using tabular data, e.g., from .csv files or relational databases (e.g., SQL). The `DataFrame` object in `pandas` is \"a two-dimensional tabular, column-oriented data structure with both row and column labels.\"\n",
    "\n",
    "If you're curious:\n",
    "\n",
    ">The `pandas` name itself is derived from *panel data*, an econometrics term for multidimensional structured data sets, and *Python data analysis* itself. After getting introduced, you can consult the full [`pandas` documentation](http://pandas.pydata.org/pandas-docs/stable/).\n",
    "\n",
    "To motivate this workshop, we'll work with example data and go through the various steps you might need to prepare data for analysis. You'll (hopefully) realize that doing this type of work is much more difficult using Python's built-in data structures."
   ]
  },
  {
   "cell_type": "markdown",
   "id": "1e484854",
   "metadata": {},
   "source": [
    "### Table of Contents\n",
    "\n",
    "1 - [The DataFrame](#section1)<br>\n",
    "\n",
    "2 - [Rename, Index, and Slice](#section2)<br>\n",
    "\n",
    "3 - [Data Analysis](#section3)<br>\n",
    "\n",
    "4 - [Data Manipulation](#section4)<br>\n",
    "\n",
    "5 - [Groupby](#section5)<br>\n",
    "\n",
    "6 - [Concatenation & Joins](#section6)<br>\n",
    "\n",
    "7- [Plotting](#section7)<br>"
   ]
  },
  {
   "cell_type": "markdown",
   "id": "60aa8cb6",
   "metadata": {},
   "source": [
    "## 1. The DataFrame <a id=\"section1\"/>\n",
    "The data used in these examples is available in the following [GitHub repository](https://github.com/dlab-berkeley/introduction-to-pandas). If you've [cloned that repo](https://www.atlassian.com/git/tutorials/setting-up-a-repository/git-clone), which is the recommended approach, you'll have everything you need to run this notebook. Otherwise, you can download the data file(s) from the above link. (Note: this notebook assumes that the data files are in a directory named `data/` found within your current working directory.)\n",
    "\n",
    "We plan on working with a variety of datasets ranging from unemployment statistics to happiness measures to pokemon attributes and more.\n",
    "\n",
    "Let's begin by importing `pandas` using the conventional abbreviation."
   ]
  },
  {
   "cell_type": "code",
   "execution_count": 343,
   "id": "e099ec5c",
   "metadata": {},
   "outputs": [],
   "source": [
    "import pandas as pd\n",
    "import matplotlib.pyplot as plt\n",
    "plt.style.use('ggplot')"
   ]
  },
  {
   "cell_type": "markdown",
   "id": "65398cda",
   "metadata": {},
   "source": [
    "The `read_csv()` function in `pandas` allows us to easily import our data. By default, it assumes the data is comma-delimited. However, you can specify the delimiter used in your data (e.g., tab, semicolon, pipe, etc.). There are several parameters that you can specify. See the documentation [here](http://pandas.pydata.org/pandas-docs/stable/generated/pandas.read_csv.html). `read_csv()` returns a `DataFrame`.\n",
    "\n",
    "Notice that we call `read_csv()` using the `pd` abbreviation from the import statement above."
   ]
  },
  {
   "cell_type": "code",
   "execution_count": 344,
   "id": "b93dd725",
   "metadata": {},
   "outputs": [],
   "source": [
    "unemployment = pd.read_csv('data/country_total.csv')"
   ]
  },
  {
   "cell_type": "markdown",
   "id": "5c822b80",
   "metadata": {},
   "source": [
    "Great! You've created a `pandas` `DataFrame`. We can look at our data by using the `.head()` method. By default, this shows the header (column names) and the first five rows. Passing an integer, $n$, to `.head()` returns that number of rows. "
   ]
  },
  {
   "cell_type": "code",
   "execution_count": 345,
   "id": "4fbfbf15",
   "metadata": {},
   "outputs": [
    {
     "data": {
      "text/html": [
       "<div>\n",
       "<style scoped>\n",
       "    .dataframe tbody tr th:only-of-type {\n",
       "        vertical-align: middle;\n",
       "    }\n",
       "\n",
       "    .dataframe tbody tr th {\n",
       "        vertical-align: top;\n",
       "    }\n",
       "\n",
       "    .dataframe thead th {\n",
       "        text-align: right;\n",
       "    }\n",
       "</style>\n",
       "<table border=\"1\" class=\"dataframe\">\n",
       "  <thead>\n",
       "    <tr style=\"text-align: right;\">\n",
       "      <th></th>\n",
       "      <th>country</th>\n",
       "      <th>seasonality</th>\n",
       "      <th>month</th>\n",
       "      <th>unemployment</th>\n",
       "      <th>unemployment_rate</th>\n",
       "    </tr>\n",
       "  </thead>\n",
       "  <tbody>\n",
       "    <tr>\n",
       "      <th>0</th>\n",
       "      <td>at</td>\n",
       "      <td>nsa</td>\n",
       "      <td>1993.01</td>\n",
       "      <td>171000</td>\n",
       "      <td>4.5</td>\n",
       "    </tr>\n",
       "    <tr>\n",
       "      <th>1</th>\n",
       "      <td>at</td>\n",
       "      <td>nsa</td>\n",
       "      <td>1993.02</td>\n",
       "      <td>175000</td>\n",
       "      <td>4.6</td>\n",
       "    </tr>\n",
       "    <tr>\n",
       "      <th>2</th>\n",
       "      <td>at</td>\n",
       "      <td>nsa</td>\n",
       "      <td>1993.03</td>\n",
       "      <td>166000</td>\n",
       "      <td>4.4</td>\n",
       "    </tr>\n",
       "    <tr>\n",
       "      <th>3</th>\n",
       "      <td>at</td>\n",
       "      <td>nsa</td>\n",
       "      <td>1993.04</td>\n",
       "      <td>157000</td>\n",
       "      <td>4.1</td>\n",
       "    </tr>\n",
       "    <tr>\n",
       "      <th>4</th>\n",
       "      <td>at</td>\n",
       "      <td>nsa</td>\n",
       "      <td>1993.05</td>\n",
       "      <td>147000</td>\n",
       "      <td>3.9</td>\n",
       "    </tr>\n",
       "  </tbody>\n",
       "</table>\n",
       "</div>"
      ],
      "text/plain": [
       "  country seasonality    month  unemployment  unemployment_rate\n",
       "0      at         nsa  1993.01        171000                4.5\n",
       "1      at         nsa  1993.02        175000                4.6\n",
       "2      at         nsa  1993.03        166000                4.4\n",
       "3      at         nsa  1993.04        157000                4.1\n",
       "4      at         nsa  1993.05        147000                3.9"
      ]
     },
     "execution_count": 345,
     "metadata": {},
     "output_type": "execute_result"
    }
   ],
   "source": [
    "unemployment.head()"
   ]
  },
  {
   "cell_type": "markdown",
   "id": "fc13bb62",
   "metadata": {},
   "source": [
    "DataFrames all have a method called `tail` that takes an integer as an argument and returns a new DataFrame. Before using `tail`, can you guess at what it does? Try using `tail`; was your guess correct?"
   ]
  },
  {
   "cell_type": "code",
   "execution_count": 346,
   "id": "1bbce6ae",
   "metadata": {},
   "outputs": [
    {
     "data": {
      "text/html": [
       "<div>\n",
       "<style scoped>\n",
       "    .dataframe tbody tr th:only-of-type {\n",
       "        vertical-align: middle;\n",
       "    }\n",
       "\n",
       "    .dataframe tbody tr th {\n",
       "        vertical-align: top;\n",
       "    }\n",
       "\n",
       "    .dataframe thead th {\n",
       "        text-align: right;\n",
       "    }\n",
       "</style>\n",
       "<table border=\"1\" class=\"dataframe\">\n",
       "  <thead>\n",
       "    <tr style=\"text-align: right;\">\n",
       "      <th></th>\n",
       "      <th>country</th>\n",
       "      <th>seasonality</th>\n",
       "      <th>month</th>\n",
       "      <th>unemployment</th>\n",
       "      <th>unemployment_rate</th>\n",
       "    </tr>\n",
       "  </thead>\n",
       "  <tbody>\n",
       "    <tr>\n",
       "      <th>20791</th>\n",
       "      <td>uk</td>\n",
       "      <td>trend</td>\n",
       "      <td>2010.06</td>\n",
       "      <td>2429000</td>\n",
       "      <td>7.7</td>\n",
       "    </tr>\n",
       "    <tr>\n",
       "      <th>20792</th>\n",
       "      <td>uk</td>\n",
       "      <td>trend</td>\n",
       "      <td>2010.07</td>\n",
       "      <td>2422000</td>\n",
       "      <td>7.7</td>\n",
       "    </tr>\n",
       "    <tr>\n",
       "      <th>20793</th>\n",
       "      <td>uk</td>\n",
       "      <td>trend</td>\n",
       "      <td>2010.08</td>\n",
       "      <td>2429000</td>\n",
       "      <td>7.7</td>\n",
       "    </tr>\n",
       "    <tr>\n",
       "      <th>20794</th>\n",
       "      <td>uk</td>\n",
       "      <td>trend</td>\n",
       "      <td>2010.09</td>\n",
       "      <td>2447000</td>\n",
       "      <td>7.8</td>\n",
       "    </tr>\n",
       "    <tr>\n",
       "      <th>20795</th>\n",
       "      <td>uk</td>\n",
       "      <td>trend</td>\n",
       "      <td>2010.10</td>\n",
       "      <td>2455000</td>\n",
       "      <td>7.8</td>\n",
       "    </tr>\n",
       "  </tbody>\n",
       "</table>\n",
       "</div>"
      ],
      "text/plain": [
       "      country seasonality    month  unemployment  unemployment_rate\n",
       "20791      uk       trend  2010.06       2429000                7.7\n",
       "20792      uk       trend  2010.07       2422000                7.7\n",
       "20793      uk       trend  2010.08       2429000                7.7\n",
       "20794      uk       trend  2010.09       2447000                7.8\n",
       "20795      uk       trend  2010.10       2455000                7.8"
      ]
     },
     "execution_count": 346,
     "metadata": {},
     "output_type": "execute_result"
    }
   ],
   "source": [
    "unemployment.tail()"
   ]
  },
  {
   "cell_type": "markdown",
   "id": "e1b3c1f8",
   "metadata": {},
   "source": [
    "To find the number of rows, you can use the `shape` attribute."
   ]
  },
  {
   "cell_type": "code",
   "execution_count": 347,
   "id": "2c1fdad3",
   "metadata": {},
   "outputs": [
    {
     "data": {
      "text/plain": [
       "(20796, 5)"
      ]
     },
     "execution_count": 347,
     "metadata": {},
     "output_type": "execute_result"
    }
   ],
   "source": [
    "unemployment.shape"
   ]
  },
  {
   "cell_type": "markdown",
   "id": "53308243",
   "metadata": {},
   "source": [
    "There are 20,796 rows and 5 columns."
   ]
  },
  {
   "cell_type": "markdown",
   "id": "b6926237",
   "metadata": {},
   "source": [
    "The `.info()` method is an incredibly useful diagnostic tool for when you're getting to know a new dataset."
   ]
  },
  {
   "cell_type": "code",
   "execution_count": 348,
   "id": "17c54840",
   "metadata": {},
   "outputs": [
    {
     "name": "stdout",
     "output_type": "stream",
     "text": [
      "<class 'pandas.core.frame.DataFrame'>\n",
      "RangeIndex: 20796 entries, 0 to 20795\n",
      "Data columns (total 5 columns):\n",
      " #   Column             Non-Null Count  Dtype  \n",
      "---  ------             --------------  -----  \n",
      " 0   country            20796 non-null  object \n",
      " 1   seasonality        20796 non-null  object \n",
      " 2   month              20796 non-null  float64\n",
      " 3   unemployment       20796 non-null  int64  \n",
      " 4   unemployment_rate  19851 non-null  float64\n",
      "dtypes: float64(2), int64(1), object(2)\n",
      "memory usage: 812.5+ KB\n"
     ]
    }
   ],
   "source": [
    "unemployment.info()"
   ]
  },
  {
   "cell_type": "markdown",
   "id": "de3d9a41",
   "metadata": {},
   "source": [
    "`.info()` tells us:\n",
    "- Number of rows and columns\n",
    "- The data type of each column and the tally of each datatype.\n",
    "- The number of non-null values. If those numbers are less than the number of total rows then that column has null values.\n",
    "- The size of the dataframe in kilobytes."
   ]
  },
  {
   "cell_type": "markdown",
   "id": "62398327",
   "metadata": {},
   "source": [
    "The attributes of `.columns` and `.dtypes` return the column names and data types."
   ]
  },
  {
   "cell_type": "code",
   "execution_count": 349,
   "id": "9955c045",
   "metadata": {},
   "outputs": [
    {
     "data": {
      "text/plain": [
       "Index(['country', 'seasonality', 'month', 'unemployment', 'unemployment_rate'], dtype='object')"
      ]
     },
     "execution_count": 349,
     "metadata": {},
     "output_type": "execute_result"
    }
   ],
   "source": [
    "#Column names\n",
    "unemployment.columns"
   ]
  },
  {
   "cell_type": "code",
   "execution_count": 350,
   "id": "f0236c86",
   "metadata": {},
   "outputs": [
    {
     "data": {
      "text/plain": [
       "country               object\n",
       "seasonality           object\n",
       "month                float64\n",
       "unemployment           int64\n",
       "unemployment_rate    float64\n",
       "dtype: object"
      ]
     },
     "execution_count": 350,
     "metadata": {},
     "output_type": "execute_result"
    }
   ],
   "source": [
    "#Data types\n",
    "unemployment.dtypes"
   ]
  },
  {
   "cell_type": "markdown",
   "id": "e6770369",
   "metadata": {},
   "source": [
    "`read_csv` is [a very flexible method](https://pandas.pydata.org/pandas-docs/version/0.23/generated/pandas.read_csv.html); it also allows us to import data using a URL as the file path. \n",
    "\n",
    "A csv file with data on world countries and their abbreviations is located at [https://raw.githubusercontent.com/dlab-berkeley/introduction-to-pandas/master/data/countries.csv](https://raw.githubusercontent.com/dlab-berkeley/introduction-to-pandas/master/data/countries.csv) (saved as a string variable `countries_url` below)."
   ]
  },
  {
   "cell_type": "code",
   "execution_count": 351,
   "id": "8b9b0fa1",
   "metadata": {},
   "outputs": [
    {
     "name": "stdout",
     "output_type": "stream",
     "text": [
      "<class 'pandas.core.frame.DataFrame'>\n",
      "RangeIndex: 30 entries, 0 to 29\n",
      "Data columns (total 8 columns):\n",
      " #   Column               Non-Null Count  Dtype  \n",
      "---  ------               --------------  -----  \n",
      " 0   country              30 non-null     object \n",
      " 1   google_country_code  30 non-null     object \n",
      " 2   country_group        30 non-null     object \n",
      " 3   name_en              30 non-null     object \n",
      " 4   name_fr              30 non-null     object \n",
      " 5   name_de              30 non-null     object \n",
      " 6   latitude             30 non-null     float64\n",
      " 7   longitude            30 non-null     float64\n",
      "dtypes: float64(2), object(6)\n",
      "memory usage: 2.0+ KB\n"
     ]
    }
   ],
   "source": [
    "countries = pd.read_csv('https://raw.githubusercontent.com/dlab-berkeley/introduction-to-pandas/master/data/countries.csv'\n",
    ")\n",
    "countries.info()"
   ]
  },
  {
   "cell_type": "markdown",
   "id": "d1248afb",
   "metadata": {},
   "source": [
    "## 2. Rename, Indexing, Dropping, and Slicing <a id=\"section2\"/>\n",
    "Back to the entire unemployment data set. You may have noticed that the `month` column also includes the year. Let's go ahead and rename it."
   ]
  },
  {
   "cell_type": "code",
   "execution_count": 352,
   "id": "5ba4e113",
   "metadata": {},
   "outputs": [
    {
     "data": {
      "text/html": [
       "<div>\n",
       "<style scoped>\n",
       "    .dataframe tbody tr th:only-of-type {\n",
       "        vertical-align: middle;\n",
       "    }\n",
       "\n",
       "    .dataframe tbody tr th {\n",
       "        vertical-align: top;\n",
       "    }\n",
       "\n",
       "    .dataframe thead th {\n",
       "        text-align: right;\n",
       "    }\n",
       "</style>\n",
       "<table border=\"1\" class=\"dataframe\">\n",
       "  <thead>\n",
       "    <tr style=\"text-align: right;\">\n",
       "      <th></th>\n",
       "      <th>country</th>\n",
       "      <th>seasonality</th>\n",
       "      <th>month</th>\n",
       "      <th>unemployment</th>\n",
       "      <th>unemployment_rate</th>\n",
       "    </tr>\n",
       "  </thead>\n",
       "  <tbody>\n",
       "    <tr>\n",
       "      <th>0</th>\n",
       "      <td>at</td>\n",
       "      <td>nsa</td>\n",
       "      <td>1993.01</td>\n",
       "      <td>171000</td>\n",
       "      <td>4.5</td>\n",
       "    </tr>\n",
       "    <tr>\n",
       "      <th>1</th>\n",
       "      <td>at</td>\n",
       "      <td>nsa</td>\n",
       "      <td>1993.02</td>\n",
       "      <td>175000</td>\n",
       "      <td>4.6</td>\n",
       "    </tr>\n",
       "    <tr>\n",
       "      <th>2</th>\n",
       "      <td>at</td>\n",
       "      <td>nsa</td>\n",
       "      <td>1993.03</td>\n",
       "      <td>166000</td>\n",
       "      <td>4.4</td>\n",
       "    </tr>\n",
       "    <tr>\n",
       "      <th>3</th>\n",
       "      <td>at</td>\n",
       "      <td>nsa</td>\n",
       "      <td>1993.04</td>\n",
       "      <td>157000</td>\n",
       "      <td>4.1</td>\n",
       "    </tr>\n",
       "    <tr>\n",
       "      <th>4</th>\n",
       "      <td>at</td>\n",
       "      <td>nsa</td>\n",
       "      <td>1993.05</td>\n",
       "      <td>147000</td>\n",
       "      <td>3.9</td>\n",
       "    </tr>\n",
       "  </tbody>\n",
       "</table>\n",
       "</div>"
      ],
      "text/plain": [
       "  country seasonality    month  unemployment  unemployment_rate\n",
       "0      at         nsa  1993.01        171000                4.5\n",
       "1      at         nsa  1993.02        175000                4.6\n",
       "2      at         nsa  1993.03        166000                4.4\n",
       "3      at         nsa  1993.04        157000                4.1\n",
       "4      at         nsa  1993.05        147000                3.9"
      ]
     },
     "execution_count": 352,
     "metadata": {},
     "output_type": "execute_result"
    }
   ],
   "source": [
    "unemployment.head()"
   ]
  },
  {
   "cell_type": "code",
   "execution_count": 353,
   "id": "28f21cd7",
   "metadata": {},
   "outputs": [],
   "source": [
    "unemployment.rename(columns={'month' : 'year_month'}, inplace=True)"
   ]
  },
  {
   "cell_type": "markdown",
   "id": "d30ff51d",
   "metadata": {},
   "source": [
    "The `.rename()` method allows you to modify index labels and/or column names. As you can see, we passed a `dict` to the `columns` parameter, with the original name as the key and the new name as the value. Importantly, we also set the `inplace` parameter to `True`, which modifies the *actual* `DataFrame`, not a copy of it.\n",
    "\n",
    "To select a single column we can either use bracket (`[]`) or dot notation (referred to as *attribute access*)."
   ]
  },
  {
   "cell_type": "code",
   "execution_count": 354,
   "id": "c0799fd0",
   "metadata": {},
   "outputs": [
    {
     "data": {
      "text/plain": [
       "0    1993.01\n",
       "1    1993.02\n",
       "2    1993.03\n",
       "3    1993.04\n",
       "4    1993.05\n",
       "Name: year_month, dtype: float64"
      ]
     },
     "execution_count": 354,
     "metadata": {},
     "output_type": "execute_result"
    }
   ],
   "source": [
    "unemployment['year_month'].head()"
   ]
  },
  {
   "cell_type": "code",
   "execution_count": 355,
   "id": "4d5ca050",
   "metadata": {},
   "outputs": [
    {
     "data": {
      "text/plain": [
       "0    1993.01\n",
       "1    1993.02\n",
       "2    1993.03\n",
       "3    1993.04\n",
       "4    1993.05\n",
       "Name: year_month, dtype: float64"
      ]
     },
     "execution_count": 355,
     "metadata": {},
     "output_type": "execute_result"
    }
   ],
   "source": [
    "unemployment.year_month.head()"
   ]
  },
  {
   "cell_type": "markdown",
   "id": "4e7edf89",
   "metadata": {},
   "source": [
    "It is preferrable to use the bracket notation as a column name might inadvertently have the same name as a `DataFrame` (or `Series`) method. In addition, only bracket notation can be used to create a new column. If you try and use attribute access to create a new column, you'll create a new attribute, *not* a new column.\n",
    "\n",
    "When selecting a single column, we have a `pandas` `Series` object, which is a single vector of data (e.g., a NumPy array) with \"an associated array of data labels, called its *index*.\" A `DataFrame` also has an index. In our example, the indices are an array of sequential integers, which is the default. You can find them in the left-most position, without a column label.\n",
    "\n",
    "Indices need not be a sequence of integers. They can, for example, be dates or strings. Note that indices do *not* need to be unique."
   ]
  },
  {
   "cell_type": "code",
   "execution_count": null,
   "id": "101440cb",
   "metadata": {},
   "outputs": [],
   "source": []
  },
  {
   "cell_type": "markdown",
   "id": "a04ffaa3",
   "metadata": {},
   "source": [
    "We can select multiple columns by effectively slicing the dataframe with a list of columns"
   ]
  },
  {
   "cell_type": "code",
   "execution_count": 356,
   "id": "c3a1f313",
   "metadata": {},
   "outputs": [
    {
     "data": {
      "text/html": [
       "<div>\n",
       "<style scoped>\n",
       "    .dataframe tbody tr th:only-of-type {\n",
       "        vertical-align: middle;\n",
       "    }\n",
       "\n",
       "    .dataframe tbody tr th {\n",
       "        vertical-align: top;\n",
       "    }\n",
       "\n",
       "    .dataframe thead th {\n",
       "        text-align: right;\n",
       "    }\n",
       "</style>\n",
       "<table border=\"1\" class=\"dataframe\">\n",
       "  <thead>\n",
       "    <tr style=\"text-align: right;\">\n",
       "      <th></th>\n",
       "      <th>year_month</th>\n",
       "      <th>unemployment</th>\n",
       "    </tr>\n",
       "  </thead>\n",
       "  <tbody>\n",
       "    <tr>\n",
       "      <th>0</th>\n",
       "      <td>1993.01</td>\n",
       "      <td>171000</td>\n",
       "    </tr>\n",
       "    <tr>\n",
       "      <th>1</th>\n",
       "      <td>1993.02</td>\n",
       "      <td>175000</td>\n",
       "    </tr>\n",
       "    <tr>\n",
       "      <th>2</th>\n",
       "      <td>1993.03</td>\n",
       "      <td>166000</td>\n",
       "    </tr>\n",
       "    <tr>\n",
       "      <th>3</th>\n",
       "      <td>1993.04</td>\n",
       "      <td>157000</td>\n",
       "    </tr>\n",
       "    <tr>\n",
       "      <th>4</th>\n",
       "      <td>1993.05</td>\n",
       "      <td>147000</td>\n",
       "    </tr>\n",
       "  </tbody>\n",
       "</table>\n",
       "</div>"
      ],
      "text/plain": [
       "   year_month  unemployment\n",
       "0     1993.01        171000\n",
       "1     1993.02        175000\n",
       "2     1993.03        166000\n",
       "3     1993.04        157000\n",
       "4     1993.05        147000"
      ]
     },
     "execution_count": 356,
     "metadata": {},
     "output_type": "execute_result"
    }
   ],
   "source": [
    "unemployment[[\"year_month\", \"unemployment\"]].head()"
   ]
  },
  {
   "cell_type": "markdown",
   "id": "5fafa051",
   "metadata": {},
   "source": [
    "Deleting columns is done with the `.drop()` method. **This method is used for the index and columns** therefore we must specify `axis = 1` to tell pandas to drop a column."
   ]
  },
  {
   "cell_type": "code",
   "execution_count": 357,
   "id": "92436234",
   "metadata": {},
   "outputs": [
    {
     "data": {
      "text/html": [
       "<div>\n",
       "<style scoped>\n",
       "    .dataframe tbody tr th:only-of-type {\n",
       "        vertical-align: middle;\n",
       "    }\n",
       "\n",
       "    .dataframe tbody tr th {\n",
       "        vertical-align: top;\n",
       "    }\n",
       "\n",
       "    .dataframe thead th {\n",
       "        text-align: right;\n",
       "    }\n",
       "</style>\n",
       "<table border=\"1\" class=\"dataframe\">\n",
       "  <thead>\n",
       "    <tr style=\"text-align: right;\">\n",
       "      <th></th>\n",
       "      <th>country</th>\n",
       "      <th>seasonality</th>\n",
       "      <th>year_month</th>\n",
       "      <th>unemployment_rate</th>\n",
       "    </tr>\n",
       "  </thead>\n",
       "  <tbody>\n",
       "    <tr>\n",
       "      <th>0</th>\n",
       "      <td>at</td>\n",
       "      <td>nsa</td>\n",
       "      <td>1993.01</td>\n",
       "      <td>4.5</td>\n",
       "    </tr>\n",
       "    <tr>\n",
       "      <th>1</th>\n",
       "      <td>at</td>\n",
       "      <td>nsa</td>\n",
       "      <td>1993.02</td>\n",
       "      <td>4.6</td>\n",
       "    </tr>\n",
       "    <tr>\n",
       "      <th>2</th>\n",
       "      <td>at</td>\n",
       "      <td>nsa</td>\n",
       "      <td>1993.03</td>\n",
       "      <td>4.4</td>\n",
       "    </tr>\n",
       "    <tr>\n",
       "      <th>3</th>\n",
       "      <td>at</td>\n",
       "      <td>nsa</td>\n",
       "      <td>1993.04</td>\n",
       "      <td>4.1</td>\n",
       "    </tr>\n",
       "    <tr>\n",
       "      <th>4</th>\n",
       "      <td>at</td>\n",
       "      <td>nsa</td>\n",
       "      <td>1993.05</td>\n",
       "      <td>3.9</td>\n",
       "    </tr>\n",
       "  </tbody>\n",
       "</table>\n",
       "</div>"
      ],
      "text/plain": [
       "  country seasonality  year_month  unemployment_rate\n",
       "0      at         nsa     1993.01                4.5\n",
       "1      at         nsa     1993.02                4.6\n",
       "2      at         nsa     1993.03                4.4\n",
       "3      at         nsa     1993.04                4.1\n",
       "4      at         nsa     1993.05                3.9"
      ]
     },
     "execution_count": 357,
     "metadata": {},
     "output_type": "execute_result"
    }
   ],
   "source": [
    "unemployment.drop(\"unemployment\", axis = 1).head()"
   ]
  },
  {
   "cell_type": "code",
   "execution_count": 358,
   "id": "d0767c14",
   "metadata": {},
   "outputs": [
    {
     "data": {
      "text/html": [
       "<div>\n",
       "<style scoped>\n",
       "    .dataframe tbody tr th:only-of-type {\n",
       "        vertical-align: middle;\n",
       "    }\n",
       "\n",
       "    .dataframe tbody tr th {\n",
       "        vertical-align: top;\n",
       "    }\n",
       "\n",
       "    .dataframe thead th {\n",
       "        text-align: right;\n",
       "    }\n",
       "</style>\n",
       "<table border=\"1\" class=\"dataframe\">\n",
       "  <thead>\n",
       "    <tr style=\"text-align: right;\">\n",
       "      <th></th>\n",
       "      <th>country</th>\n",
       "      <th>year_month</th>\n",
       "      <th>unemployment_rate</th>\n",
       "    </tr>\n",
       "  </thead>\n",
       "  <tbody>\n",
       "    <tr>\n",
       "      <th>0</th>\n",
       "      <td>at</td>\n",
       "      <td>1993.01</td>\n",
       "      <td>4.5</td>\n",
       "    </tr>\n",
       "    <tr>\n",
       "      <th>1</th>\n",
       "      <td>at</td>\n",
       "      <td>1993.02</td>\n",
       "      <td>4.6</td>\n",
       "    </tr>\n",
       "    <tr>\n",
       "      <th>2</th>\n",
       "      <td>at</td>\n",
       "      <td>1993.03</td>\n",
       "      <td>4.4</td>\n",
       "    </tr>\n",
       "    <tr>\n",
       "      <th>3</th>\n",
       "      <td>at</td>\n",
       "      <td>1993.04</td>\n",
       "      <td>4.1</td>\n",
       "    </tr>\n",
       "    <tr>\n",
       "      <th>4</th>\n",
       "      <td>at</td>\n",
       "      <td>1993.05</td>\n",
       "      <td>3.9</td>\n",
       "    </tr>\n",
       "  </tbody>\n",
       "</table>\n",
       "</div>"
      ],
      "text/plain": [
       "  country  year_month  unemployment_rate\n",
       "0      at     1993.01                4.5\n",
       "1      at     1993.02                4.6\n",
       "2      at     1993.03                4.4\n",
       "3      at     1993.04                4.1\n",
       "4      at     1993.05                3.9"
      ]
     },
     "execution_count": 358,
     "metadata": {},
     "output_type": "execute_result"
    }
   ],
   "source": [
    "#Multiple columns\n",
    "unemployment.drop([\"unemployment\", \"seasonality\"], axis = 1).head()"
   ]
  },
  {
   "cell_type": "markdown",
   "id": "4c2baf75",
   "metadata": {},
   "source": [
    "This change isn't permanent because `inplace=False`. "
   ]
  },
  {
   "cell_type": "code",
   "execution_count": 359,
   "id": "655b048a",
   "metadata": {},
   "outputs": [],
   "source": [
    "#Permanently drop a column\n",
    "#unemployment.drop(\"unemployment\", axis = 1, inplace=True)"
   ]
  },
  {
   "cell_type": "code",
   "execution_count": null,
   "id": "f07655ed",
   "metadata": {},
   "outputs": [],
   "source": []
  },
  {
   "cell_type": "code",
   "execution_count": null,
   "id": "f05e4646",
   "metadata": {},
   "outputs": [],
   "source": []
  },
  {
   "cell_type": "markdown",
   "id": "659cc047",
   "metadata": {},
   "source": [
    "Look at a few more useful ways to index data&mdash;that is, select rows.\n",
    "\n",
    "`.loc` primarily works with string labels. It accepts a single label, a list (or array) of labels, or a slice of labels (e.g., `'a' : 'f'`).\n",
    "\n",
    "Let's create a `DataFrame` to see how this works. (This is based on an [example](https://github.com/fonnesbeck/scipy2015_tutorial/blob/master/notebooks/1.%20Data%20Preparation.ipynb) from Chris Fonnesbeck's [Computational Statistics II Tutorial](https://github.com/fonnesbeck/scipy2015_tutorial).)"
   ]
  },
  {
   "cell_type": "code",
   "execution_count": 360,
   "id": "bbe5518f",
   "metadata": {},
   "outputs": [],
   "source": [
    "bacteria = pd.DataFrame({'bacteria_counts' : [632, 1638, 569, 115],\n",
    "                         'other_feature' : [438, 833, 234, 298]},\n",
    "                         index=['Firmicutes', 'Proteobacteria', 'Actinobacteria', 'Bacteroidetes'])"
   ]
  },
  {
   "cell_type": "markdown",
   "id": "7d1849e3",
   "metadata": {},
   "source": [
    "Notice that we pass in a `dict`, where the keys correspond to column names and the values to the data. In this example, we've also set the indices&mdash;strings in this case&mdash;to be the taxon of each bacterium."
   ]
  },
  {
   "cell_type": "code",
   "execution_count": 361,
   "id": "3f0a742d",
   "metadata": {},
   "outputs": [
    {
     "data": {
      "text/html": [
       "<div>\n",
       "<style scoped>\n",
       "    .dataframe tbody tr th:only-of-type {\n",
       "        vertical-align: middle;\n",
       "    }\n",
       "\n",
       "    .dataframe tbody tr th {\n",
       "        vertical-align: top;\n",
       "    }\n",
       "\n",
       "    .dataframe thead th {\n",
       "        text-align: right;\n",
       "    }\n",
       "</style>\n",
       "<table border=\"1\" class=\"dataframe\">\n",
       "  <thead>\n",
       "    <tr style=\"text-align: right;\">\n",
       "      <th></th>\n",
       "      <th>bacteria_counts</th>\n",
       "      <th>other_feature</th>\n",
       "    </tr>\n",
       "  </thead>\n",
       "  <tbody>\n",
       "    <tr>\n",
       "      <th>Firmicutes</th>\n",
       "      <td>632</td>\n",
       "      <td>438</td>\n",
       "    </tr>\n",
       "    <tr>\n",
       "      <th>Proteobacteria</th>\n",
       "      <td>1638</td>\n",
       "      <td>833</td>\n",
       "    </tr>\n",
       "    <tr>\n",
       "      <th>Actinobacteria</th>\n",
       "      <td>569</td>\n",
       "      <td>234</td>\n",
       "    </tr>\n",
       "    <tr>\n",
       "      <th>Bacteroidetes</th>\n",
       "      <td>115</td>\n",
       "      <td>298</td>\n",
       "    </tr>\n",
       "  </tbody>\n",
       "</table>\n",
       "</div>"
      ],
      "text/plain": [
       "                bacteria_counts  other_feature\n",
       "Firmicutes                  632            438\n",
       "Proteobacteria             1638            833\n",
       "Actinobacteria              569            234\n",
       "Bacteroidetes               115            298"
      ]
     },
     "execution_count": 361,
     "metadata": {},
     "output_type": "execute_result"
    }
   ],
   "source": [
    "bacteria"
   ]
  },
  {
   "cell_type": "markdown",
   "id": "f305ae85",
   "metadata": {},
   "source": [
    "Now, if we're interested in the values (row) associated with \"Actinobacteria,\" we can use `.loc` and the index name."
   ]
  },
  {
   "cell_type": "code",
   "execution_count": 362,
   "id": "7ce0f3a5",
   "metadata": {},
   "outputs": [
    {
     "data": {
      "text/plain": [
       "bacteria_counts    569\n",
       "other_feature      234\n",
       "Name: Actinobacteria, dtype: int64"
      ]
     },
     "execution_count": 362,
     "metadata": {},
     "output_type": "execute_result"
    }
   ],
   "source": [
    "bacteria.loc['Actinobacteria']"
   ]
  },
  {
   "cell_type": "markdown",
   "id": "566d8393",
   "metadata": {},
   "source": [
    "This returns the column values for the specified row. Interestingly, we could have also used \"positional indexing,\" even though the indices are strings."
   ]
  },
  {
   "cell_type": "code",
   "execution_count": 363,
   "id": "ea202eb8",
   "metadata": {},
   "outputs": [
    {
     "data": {
      "text/html": [
       "<div>\n",
       "<style scoped>\n",
       "    .dataframe tbody tr th:only-of-type {\n",
       "        vertical-align: middle;\n",
       "    }\n",
       "\n",
       "    .dataframe tbody tr th {\n",
       "        vertical-align: top;\n",
       "    }\n",
       "\n",
       "    .dataframe thead th {\n",
       "        text-align: right;\n",
       "    }\n",
       "</style>\n",
       "<table border=\"1\" class=\"dataframe\">\n",
       "  <thead>\n",
       "    <tr style=\"text-align: right;\">\n",
       "      <th></th>\n",
       "      <th>bacteria_counts</th>\n",
       "      <th>other_feature</th>\n",
       "    </tr>\n",
       "  </thead>\n",
       "  <tbody>\n",
       "    <tr>\n",
       "      <th>Actinobacteria</th>\n",
       "      <td>569</td>\n",
       "      <td>234</td>\n",
       "    </tr>\n",
       "  </tbody>\n",
       "</table>\n",
       "</div>"
      ],
      "text/plain": [
       "                bacteria_counts  other_feature\n",
       "Actinobacteria              569            234"
      ]
     },
     "execution_count": 363,
     "metadata": {},
     "output_type": "execute_result"
    }
   ],
   "source": [
    "bacteria[2:3]"
   ]
  },
  {
   "cell_type": "markdown",
   "id": "13fa26dc",
   "metadata": {},
   "source": [
    "The difference is that the former returns a `Series` because we selected a single lable, while the latter returns a `DataFrame` because we selected a range of positions.\n",
    "\n",
    "Let's return to our unemployment data. Another indexing option, `.iloc`, primarily works with integer positions. To select specific rows, we can do the following."
   ]
  },
  {
   "cell_type": "code",
   "execution_count": 364,
   "id": "43758389",
   "metadata": {},
   "outputs": [
    {
     "data": {
      "text/html": [
       "<div>\n",
       "<style scoped>\n",
       "    .dataframe tbody tr th:only-of-type {\n",
       "        vertical-align: middle;\n",
       "    }\n",
       "\n",
       "    .dataframe tbody tr th {\n",
       "        vertical-align: top;\n",
       "    }\n",
       "\n",
       "    .dataframe thead th {\n",
       "        text-align: right;\n",
       "    }\n",
       "</style>\n",
       "<table border=\"1\" class=\"dataframe\">\n",
       "  <thead>\n",
       "    <tr style=\"text-align: right;\">\n",
       "      <th></th>\n",
       "      <th>country</th>\n",
       "      <th>seasonality</th>\n",
       "      <th>year_month</th>\n",
       "      <th>unemployment</th>\n",
       "      <th>unemployment_rate</th>\n",
       "    </tr>\n",
       "  </thead>\n",
       "  <tbody>\n",
       "    <tr>\n",
       "      <th>1</th>\n",
       "      <td>at</td>\n",
       "      <td>nsa</td>\n",
       "      <td>1993.02</td>\n",
       "      <td>175000</td>\n",
       "      <td>4.6</td>\n",
       "    </tr>\n",
       "    <tr>\n",
       "      <th>5</th>\n",
       "      <td>at</td>\n",
       "      <td>nsa</td>\n",
       "      <td>1993.06</td>\n",
       "      <td>134000</td>\n",
       "      <td>3.5</td>\n",
       "    </tr>\n",
       "    <tr>\n",
       "      <th>6</th>\n",
       "      <td>at</td>\n",
       "      <td>nsa</td>\n",
       "      <td>1993.07</td>\n",
       "      <td>128000</td>\n",
       "      <td>3.4</td>\n",
       "    </tr>\n",
       "    <tr>\n",
       "      <th>9</th>\n",
       "      <td>at</td>\n",
       "      <td>nsa</td>\n",
       "      <td>1993.10</td>\n",
       "      <td>141000</td>\n",
       "      <td>3.7</td>\n",
       "    </tr>\n",
       "  </tbody>\n",
       "</table>\n",
       "</div>"
      ],
      "text/plain": [
       "  country seasonality  year_month  unemployment  unemployment_rate\n",
       "1      at         nsa     1993.02        175000                4.6\n",
       "5      at         nsa     1993.06        134000                3.5\n",
       "6      at         nsa     1993.07        128000                3.4\n",
       "9      at         nsa     1993.10        141000                3.7"
      ]
     },
     "execution_count": 364,
     "metadata": {},
     "output_type": "execute_result"
    }
   ],
   "source": [
    "unemployment.iloc[[1, 5, 6, 9]]"
   ]
  },
  {
   "cell_type": "markdown",
   "id": "8d685b34",
   "metadata": {},
   "source": [
    "We can select a range of rows and specify the step value."
   ]
  },
  {
   "cell_type": "code",
   "execution_count": 365,
   "id": "adb0d883",
   "metadata": {},
   "outputs": [
    {
     "data": {
      "text/html": [
       "<div>\n",
       "<style scoped>\n",
       "    .dataframe tbody tr th:only-of-type {\n",
       "        vertical-align: middle;\n",
       "    }\n",
       "\n",
       "    .dataframe tbody tr th {\n",
       "        vertical-align: top;\n",
       "    }\n",
       "\n",
       "    .dataframe thead th {\n",
       "        text-align: right;\n",
       "    }\n",
       "</style>\n",
       "<table border=\"1\" class=\"dataframe\">\n",
       "  <thead>\n",
       "    <tr style=\"text-align: right;\">\n",
       "      <th></th>\n",
       "      <th>country</th>\n",
       "      <th>seasonality</th>\n",
       "      <th>year_month</th>\n",
       "      <th>unemployment</th>\n",
       "      <th>unemployment_rate</th>\n",
       "    </tr>\n",
       "  </thead>\n",
       "  <tbody>\n",
       "    <tr>\n",
       "      <th>25</th>\n",
       "      <td>at</td>\n",
       "      <td>nsa</td>\n",
       "      <td>1995.02</td>\n",
       "      <td>174000</td>\n",
       "      <td>4.5</td>\n",
       "    </tr>\n",
       "    <tr>\n",
       "      <th>30</th>\n",
       "      <td>at</td>\n",
       "      <td>nsa</td>\n",
       "      <td>1995.07</td>\n",
       "      <td>123000</td>\n",
       "      <td>3.3</td>\n",
       "    </tr>\n",
       "    <tr>\n",
       "      <th>35</th>\n",
       "      <td>at</td>\n",
       "      <td>nsa</td>\n",
       "      <td>1995.12</td>\n",
       "      <td>175000</td>\n",
       "      <td>4.7</td>\n",
       "    </tr>\n",
       "    <tr>\n",
       "      <th>40</th>\n",
       "      <td>at</td>\n",
       "      <td>nsa</td>\n",
       "      <td>1996.05</td>\n",
       "      <td>159000</td>\n",
       "      <td>4.3</td>\n",
       "    </tr>\n",
       "    <tr>\n",
       "      <th>45</th>\n",
       "      <td>at</td>\n",
       "      <td>nsa</td>\n",
       "      <td>1996.10</td>\n",
       "      <td>146000</td>\n",
       "      <td>3.9</td>\n",
       "    </tr>\n",
       "  </tbody>\n",
       "</table>\n",
       "</div>"
      ],
      "text/plain": [
       "   country seasonality  year_month  unemployment  unemployment_rate\n",
       "25      at         nsa     1995.02        174000                4.5\n",
       "30      at         nsa     1995.07        123000                3.3\n",
       "35      at         nsa     1995.12        175000                4.7\n",
       "40      at         nsa     1996.05        159000                4.3\n",
       "45      at         nsa     1996.10        146000                3.9"
      ]
     },
     "execution_count": 365,
     "metadata": {},
     "output_type": "execute_result"
    }
   ],
   "source": [
    "unemployment.iloc[25:50:5]"
   ]
  },
  {
   "cell_type": "markdown",
   "id": "1ce6ec38",
   "metadata": {},
   "source": [
    "(Note: As is typical in Python, the end position is not included. Therefore, we don't see the row associated with the index 50.)\n",
    "\n",
    "Indexing is important. You'll use it a lot. Below, we'll show how to index based on data values.\n",
    "\n"
   ]
  },
  {
   "cell_type": "markdown",
   "id": "b9ba08d2",
   "metadata": {},
   "source": [
    "The \"other_feature\" column in our `bacteria` table isn't very descriptive. Suppose we know that \"other_feature\" refers to a second set of bacteria count observations. Use the `rename` method to give \"other_feature\" a more descriptive name."
   ]
  },
  {
   "cell_type": "code",
   "execution_count": 366,
   "id": "c16b45d7",
   "metadata": {},
   "outputs": [
    {
     "data": {
      "text/html": [
       "<div>\n",
       "<style scoped>\n",
       "    .dataframe tbody tr th:only-of-type {\n",
       "        vertical-align: middle;\n",
       "    }\n",
       "\n",
       "    .dataframe tbody tr th {\n",
       "        vertical-align: top;\n",
       "    }\n",
       "\n",
       "    .dataframe thead th {\n",
       "        text-align: right;\n",
       "    }\n",
       "</style>\n",
       "<table border=\"1\" class=\"dataframe\">\n",
       "  <thead>\n",
       "    <tr style=\"text-align: right;\">\n",
       "      <th></th>\n",
       "      <th>bacteria_counts</th>\n",
       "      <th>second_count</th>\n",
       "    </tr>\n",
       "  </thead>\n",
       "  <tbody>\n",
       "    <tr>\n",
       "      <th>Firmicutes</th>\n",
       "      <td>632</td>\n",
       "      <td>438</td>\n",
       "    </tr>\n",
       "    <tr>\n",
       "      <th>Proteobacteria</th>\n",
       "      <td>1638</td>\n",
       "      <td>833</td>\n",
       "    </tr>\n",
       "    <tr>\n",
       "      <th>Actinobacteria</th>\n",
       "      <td>569</td>\n",
       "      <td>234</td>\n",
       "    </tr>\n",
       "    <tr>\n",
       "      <th>Bacteroidetes</th>\n",
       "      <td>115</td>\n",
       "      <td>298</td>\n",
       "    </tr>\n",
       "  </tbody>\n",
       "</table>\n",
       "</div>"
      ],
      "text/plain": [
       "                bacteria_counts  second_count\n",
       "Firmicutes                  632           438\n",
       "Proteobacteria             1638           833\n",
       "Actinobacteria              569           234\n",
       "Bacteroidetes               115           298"
      ]
     },
     "execution_count": 366,
     "metadata": {},
     "output_type": "execute_result"
    }
   ],
   "source": [
    "# rename \"other_feature\" in bacteria\n",
    "bacteria.rename(columns={'other_feature':'second_count'}, inplace=True)\n",
    "bacteria"
   ]
  },
  {
   "cell_type": "markdown",
   "id": "2871215c",
   "metadata": {},
   "source": [
    "### Challenge 1A: Indexing to get a specific value\n",
    "\n",
    "Both `loc` and `iloc` can be used to select a particular value if they are given two arguments. The first argument is the name (when using `loc`) or index number (when using `iloc`) of the *row* you want, while the second argument is the name or index number of the *column* you want.\n",
    "\n",
    "Using `loc`, select \"Bacteroidetes\" and \"bacteria_counts\" to get the count of Bacteroidetes."
   ]
  },
  {
   "cell_type": "code",
   "execution_count": 367,
   "id": "8ed4f2c5",
   "metadata": {},
   "outputs": [
    {
     "data": {
      "text/plain": [
       "115"
      ]
     },
     "execution_count": 367,
     "metadata": {},
     "output_type": "execute_result"
    }
   ],
   "source": [
    "bacteria.loc['Bacteroidetes', 'bacteria_counts']"
   ]
  },
  {
   "cell_type": "markdown",
   "id": "92a2499d",
   "metadata": {},
   "source": [
    "How could you do the same task using `iloc`?"
   ]
  },
  {
   "cell_type": "code",
   "execution_count": 368,
   "id": "67f2a00b",
   "metadata": {},
   "outputs": [
    {
     "data": {
      "text/plain": [
       "115"
      ]
     },
     "execution_count": 368,
     "metadata": {},
     "output_type": "execute_result"
    }
   ],
   "source": [
    "bacteria.iloc[3,0]"
   ]
  },
  {
   "cell_type": "code",
   "execution_count": null,
   "id": "ee2fcfe0",
   "metadata": {},
   "outputs": [],
   "source": []
  },
  {
   "cell_type": "code",
   "execution_count": 369,
   "id": "bd2cec2c",
   "metadata": {},
   "outputs": [
    {
     "data": {
      "text/plain": [
       "Bacteroidetes    115\n",
       "Name: bacteria_counts, dtype: int64"
      ]
     },
     "execution_count": 369,
     "metadata": {},
     "output_type": "execute_result"
    }
   ],
   "source": [
    "bacteria[3:4]['bacteria_counts']"
   ]
  },
  {
   "cell_type": "markdown",
   "id": "4b2d9406",
   "metadata": {},
   "source": [
    "### Challenge 1B: Indexing multiple rows and columns\n",
    "\n",
    "Both `loc` and `iloc` can be used to select subsets of columns *and* rows at the same time if they are given lists (and/or slices, for `iloc`] as their two arguments. \n",
    "\n",
    "Using `iloc` on the `unemployment` DataFrame, get:\n",
    "* every row starting at row 4 and ending at row 7\n",
    "* the 0th, 2nd, and 3rd columns"
   ]
  },
  {
   "cell_type": "code",
   "execution_count": 370,
   "id": "6665eebf",
   "metadata": {},
   "outputs": [
    {
     "data": {
      "text/html": [
       "<div>\n",
       "<style scoped>\n",
       "    .dataframe tbody tr th:only-of-type {\n",
       "        vertical-align: middle;\n",
       "    }\n",
       "\n",
       "    .dataframe tbody tr th {\n",
       "        vertical-align: top;\n",
       "    }\n",
       "\n",
       "    .dataframe thead th {\n",
       "        text-align: right;\n",
       "    }\n",
       "</style>\n",
       "<table border=\"1\" class=\"dataframe\">\n",
       "  <thead>\n",
       "    <tr style=\"text-align: right;\">\n",
       "      <th></th>\n",
       "      <th>country</th>\n",
       "      <th>year_month</th>\n",
       "      <th>unemployment</th>\n",
       "    </tr>\n",
       "  </thead>\n",
       "  <tbody>\n",
       "    <tr>\n",
       "      <th>3</th>\n",
       "      <td>at</td>\n",
       "      <td>1993.04</td>\n",
       "      <td>157000</td>\n",
       "    </tr>\n",
       "    <tr>\n",
       "      <th>4</th>\n",
       "      <td>at</td>\n",
       "      <td>1993.05</td>\n",
       "      <td>147000</td>\n",
       "    </tr>\n",
       "    <tr>\n",
       "      <th>5</th>\n",
       "      <td>at</td>\n",
       "      <td>1993.06</td>\n",
       "      <td>134000</td>\n",
       "    </tr>\n",
       "    <tr>\n",
       "      <th>6</th>\n",
       "      <td>at</td>\n",
       "      <td>1993.07</td>\n",
       "      <td>128000</td>\n",
       "    </tr>\n",
       "  </tbody>\n",
       "</table>\n",
       "</div>"
      ],
      "text/plain": [
       "  country  year_month  unemployment\n",
       "3      at     1993.04        157000\n",
       "4      at     1993.05        147000\n",
       "5      at     1993.06        134000\n",
       "6      at     1993.07        128000"
      ]
     },
     "execution_count": 370,
     "metadata": {},
     "output_type": "execute_result"
    }
   ],
   "source": [
    "unemployment.iloc[3:7,[0,2,3]]"
   ]
  },
  {
   "cell_type": "markdown",
   "id": "89366765",
   "metadata": {},
   "source": [
    "Repeat same task but with `loc`"
   ]
  },
  {
   "cell_type": "code",
   "execution_count": 371,
   "id": "6c5c72db",
   "metadata": {},
   "outputs": [
    {
     "data": {
      "text/html": [
       "<div>\n",
       "<style scoped>\n",
       "    .dataframe tbody tr th:only-of-type {\n",
       "        vertical-align: middle;\n",
       "    }\n",
       "\n",
       "    .dataframe tbody tr th {\n",
       "        vertical-align: top;\n",
       "    }\n",
       "\n",
       "    .dataframe thead th {\n",
       "        text-align: right;\n",
       "    }\n",
       "</style>\n",
       "<table border=\"1\" class=\"dataframe\">\n",
       "  <thead>\n",
       "    <tr style=\"text-align: right;\">\n",
       "      <th></th>\n",
       "      <th>country</th>\n",
       "      <th>year_month</th>\n",
       "      <th>unemployment</th>\n",
       "    </tr>\n",
       "  </thead>\n",
       "  <tbody>\n",
       "    <tr>\n",
       "      <th>3</th>\n",
       "      <td>at</td>\n",
       "      <td>1993.04</td>\n",
       "      <td>157000</td>\n",
       "    </tr>\n",
       "    <tr>\n",
       "      <th>4</th>\n",
       "      <td>at</td>\n",
       "      <td>1993.05</td>\n",
       "      <td>147000</td>\n",
       "    </tr>\n",
       "    <tr>\n",
       "      <th>5</th>\n",
       "      <td>at</td>\n",
       "      <td>1993.06</td>\n",
       "      <td>134000</td>\n",
       "    </tr>\n",
       "    <tr>\n",
       "      <th>6</th>\n",
       "      <td>at</td>\n",
       "      <td>1993.07</td>\n",
       "      <td>128000</td>\n",
       "    </tr>\n",
       "    <tr>\n",
       "      <th>7</th>\n",
       "      <td>at</td>\n",
       "      <td>1993.08</td>\n",
       "      <td>130000</td>\n",
       "    </tr>\n",
       "  </tbody>\n",
       "</table>\n",
       "</div>"
      ],
      "text/plain": [
       "  country  year_month  unemployment\n",
       "3      at     1993.04        157000\n",
       "4      at     1993.05        147000\n",
       "5      at     1993.06        134000\n",
       "6      at     1993.07        128000\n",
       "7      at     1993.08        130000"
      ]
     },
     "execution_count": 371,
     "metadata": {},
     "output_type": "execute_result"
    }
   ],
   "source": [
    "unemployment.loc[3:7,['country', 'year_month', 'unemployment']]"
   ]
  },
  {
   "cell_type": "markdown",
   "id": "ba1bbbdc",
   "metadata": {},
   "source": [
    "Uh-oh, those are different! Why? Because using slices in `.loc` treats the end position in the slice inclusively, while slicing with `.iloc` (and on the dataframe itself!) treats the end position in the slice exclusively (as Python lists and `numpy` does).\n",
    "\n",
    "So, we need to do this:"
   ]
  },
  {
   "cell_type": "code",
   "execution_count": 372,
   "id": "d673e9e5",
   "metadata": {},
   "outputs": [
    {
     "data": {
      "text/html": [
       "<div>\n",
       "<style scoped>\n",
       "    .dataframe tbody tr th:only-of-type {\n",
       "        vertical-align: middle;\n",
       "    }\n",
       "\n",
       "    .dataframe tbody tr th {\n",
       "        vertical-align: top;\n",
       "    }\n",
       "\n",
       "    .dataframe thead th {\n",
       "        text-align: right;\n",
       "    }\n",
       "</style>\n",
       "<table border=\"1\" class=\"dataframe\">\n",
       "  <thead>\n",
       "    <tr style=\"text-align: right;\">\n",
       "      <th></th>\n",
       "      <th>country</th>\n",
       "      <th>year_month</th>\n",
       "      <th>unemployment</th>\n",
       "    </tr>\n",
       "  </thead>\n",
       "  <tbody>\n",
       "    <tr>\n",
       "      <th>3</th>\n",
       "      <td>at</td>\n",
       "      <td>1993.04</td>\n",
       "      <td>157000</td>\n",
       "    </tr>\n",
       "    <tr>\n",
       "      <th>4</th>\n",
       "      <td>at</td>\n",
       "      <td>1993.05</td>\n",
       "      <td>147000</td>\n",
       "    </tr>\n",
       "    <tr>\n",
       "      <th>5</th>\n",
       "      <td>at</td>\n",
       "      <td>1993.06</td>\n",
       "      <td>134000</td>\n",
       "    </tr>\n",
       "    <tr>\n",
       "      <th>6</th>\n",
       "      <td>at</td>\n",
       "      <td>1993.07</td>\n",
       "      <td>128000</td>\n",
       "    </tr>\n",
       "  </tbody>\n",
       "</table>\n",
       "</div>"
      ],
      "text/plain": [
       "  country  year_month  unemployment\n",
       "3      at     1993.04        157000\n",
       "4      at     1993.05        147000\n",
       "5      at     1993.06        134000\n",
       "6      at     1993.07        128000"
      ]
     },
     "execution_count": 372,
     "metadata": {},
     "output_type": "execute_result"
    }
   ],
   "source": [
    "unemployment.loc[3:6,['country', 'year_month', 'unemployment']]"
   ]
  },
  {
   "cell_type": "markdown",
   "id": "cb425d4a",
   "metadata": {},
   "source": [
    "### Boolean Indexing or Conditional Filtering \n",
    "Suppose we wanted to construct a dataframe for a specific country and above a certain unemployment rate threshold"
   ]
  },
  {
   "cell_type": "markdown",
   "id": "5d89917c",
   "metadata": {},
   "source": [
    "**Task**: Return a dataframe where the unemployment rate is greater than 9.0 for the country of France?\n",
    "\n",
    "- Step 1: Grab rows belonging to France\n",
    "- Step 2: Grab rows where unemployment rate is greater than 9.0%\n",
    "- Step 3: Use the two conditions to filter or index the `unemployment` dataframe."
   ]
  },
  {
   "cell_type": "code",
   "execution_count": 373,
   "id": "9fd3b9fd",
   "metadata": {},
   "outputs": [],
   "source": [
    "#select unemployment rate and country columns\n",
    "unemployment_rate = unemployment.unemployment_rate\n",
    "country = unemployment.country"
   ]
  },
  {
   "cell_type": "code",
   "execution_count": 374,
   "id": "4a7f19bc",
   "metadata": {},
   "outputs": [
    {
     "data": {
      "text/plain": [
       "0        False\n",
       "1        False\n",
       "2        False\n",
       "3        False\n",
       "4        False\n",
       "         ...  \n",
       "20791    False\n",
       "20792    False\n",
       "20793    False\n",
       "20794    False\n",
       "20795    False\n",
       "Name: unemployment_rate, Length: 20796, dtype: bool"
      ]
     },
     "execution_count": 374,
     "metadata": {},
     "output_type": "execute_result"
    }
   ],
   "source": [
    "#create a boolean mask for un rate\n",
    "unemployment_rate>9.0"
   ]
  },
  {
   "cell_type": "markdown",
   "id": "d106e7df",
   "metadata": {},
   "source": [
    "The mask produces an array of boolean values equal to the length of the original dataframe"
   ]
  },
  {
   "cell_type": "code",
   "execution_count": 375,
   "id": "20def65c",
   "metadata": {},
   "outputs": [
    {
     "data": {
      "text/plain": [
       "0        False\n",
       "1        False\n",
       "2        False\n",
       "3        False\n",
       "4        False\n",
       "         ...  \n",
       "20791    False\n",
       "20792    False\n",
       "20793    False\n",
       "20794    False\n",
       "20795    False\n",
       "Name: country, Length: 20796, dtype: bool"
      ]
     },
     "execution_count": 375,
     "metadata": {},
     "output_type": "execute_result"
    }
   ],
   "source": [
    "#create boolean mask for country\n",
    "country == 'fr'"
   ]
  },
  {
   "cell_type": "markdown",
   "id": "3f56218f",
   "metadata": {},
   "source": [
    "First let's filter the `unemployment_rate` series using our threshold of 9.0"
   ]
  },
  {
   "cell_type": "code",
   "execution_count": 376,
   "id": "f6db0412",
   "metadata": {},
   "outputs": [
    {
     "data": {
      "text/html": [
       "<div>\n",
       "<style scoped>\n",
       "    .dataframe tbody tr th:only-of-type {\n",
       "        vertical-align: middle;\n",
       "    }\n",
       "\n",
       "    .dataframe tbody tr th {\n",
       "        vertical-align: top;\n",
       "    }\n",
       "\n",
       "    .dataframe thead th {\n",
       "        text-align: right;\n",
       "    }\n",
       "</style>\n",
       "<table border=\"1\" class=\"dataframe\">\n",
       "  <thead>\n",
       "    <tr style=\"text-align: right;\">\n",
       "      <th></th>\n",
       "      <th>country</th>\n",
       "      <th>seasonality</th>\n",
       "      <th>year_month</th>\n",
       "      <th>unemployment</th>\n",
       "      <th>unemployment_rate</th>\n",
       "    </tr>\n",
       "  </thead>\n",
       "  <tbody>\n",
       "    <tr>\n",
       "      <th>648</th>\n",
       "      <td>be</td>\n",
       "      <td>nsa</td>\n",
       "      <td>1983.01</td>\n",
       "      <td>404000</td>\n",
       "      <td>10.6</td>\n",
       "    </tr>\n",
       "    <tr>\n",
       "      <th>649</th>\n",
       "      <td>be</td>\n",
       "      <td>nsa</td>\n",
       "      <td>1983.02</td>\n",
       "      <td>402000</td>\n",
       "      <td>10.5</td>\n",
       "    </tr>\n",
       "    <tr>\n",
       "      <th>650</th>\n",
       "      <td>be</td>\n",
       "      <td>nsa</td>\n",
       "      <td>1983.03</td>\n",
       "      <td>396000</td>\n",
       "      <td>10.4</td>\n",
       "    </tr>\n",
       "    <tr>\n",
       "      <th>651</th>\n",
       "      <td>be</td>\n",
       "      <td>nsa</td>\n",
       "      <td>1983.04</td>\n",
       "      <td>389000</td>\n",
       "      <td>10.2</td>\n",
       "    </tr>\n",
       "    <tr>\n",
       "      <th>652</th>\n",
       "      <td>be</td>\n",
       "      <td>nsa</td>\n",
       "      <td>1983.05</td>\n",
       "      <td>383000</td>\n",
       "      <td>10.1</td>\n",
       "    </tr>\n",
       "    <tr>\n",
       "      <th>...</th>\n",
       "      <td>...</td>\n",
       "      <td>...</td>\n",
       "      <td>...</td>\n",
       "      <td>...</td>\n",
       "      <td>...</td>\n",
       "    </tr>\n",
       "    <tr>\n",
       "      <th>20598</th>\n",
       "      <td>uk</td>\n",
       "      <td>trend</td>\n",
       "      <td>1994.05</td>\n",
       "      <td>2663000</td>\n",
       "      <td>9.5</td>\n",
       "    </tr>\n",
       "    <tr>\n",
       "      <th>20599</th>\n",
       "      <td>uk</td>\n",
       "      <td>trend</td>\n",
       "      <td>1994.06</td>\n",
       "      <td>2642000</td>\n",
       "      <td>9.4</td>\n",
       "    </tr>\n",
       "    <tr>\n",
       "      <th>20600</th>\n",
       "      <td>uk</td>\n",
       "      <td>trend</td>\n",
       "      <td>1994.07</td>\n",
       "      <td>2611000</td>\n",
       "      <td>9.3</td>\n",
       "    </tr>\n",
       "    <tr>\n",
       "      <th>20601</th>\n",
       "      <td>uk</td>\n",
       "      <td>trend</td>\n",
       "      <td>1994.08</td>\n",
       "      <td>2574000</td>\n",
       "      <td>9.2</td>\n",
       "    </tr>\n",
       "    <tr>\n",
       "      <th>20602</th>\n",
       "      <td>uk</td>\n",
       "      <td>trend</td>\n",
       "      <td>1994.09</td>\n",
       "      <td>2539000</td>\n",
       "      <td>9.1</td>\n",
       "    </tr>\n",
       "  </tbody>\n",
       "</table>\n",
       "<p>6736 rows × 5 columns</p>\n",
       "</div>"
      ],
      "text/plain": [
       "      country seasonality  year_month  unemployment  unemployment_rate\n",
       "648        be         nsa     1983.01        404000               10.6\n",
       "649        be         nsa     1983.02        402000               10.5\n",
       "650        be         nsa     1983.03        396000               10.4\n",
       "651        be         nsa     1983.04        389000               10.2\n",
       "652        be         nsa     1983.05        383000               10.1\n",
       "...       ...         ...         ...           ...                ...\n",
       "20598      uk       trend     1994.05       2663000                9.5\n",
       "20599      uk       trend     1994.06       2642000                9.4\n",
       "20600      uk       trend     1994.07       2611000                9.3\n",
       "20601      uk       trend     1994.08       2574000                9.2\n",
       "20602      uk       trend     1994.09       2539000                9.1\n",
       "\n",
       "[6736 rows x 5 columns]"
      ]
     },
     "execution_count": 376,
     "metadata": {},
     "output_type": "execute_result"
    }
   ],
   "source": [
    "#We pass in the boolean mask like we're slicing the dataframe\n",
    "unemployment[unemployment_rate>9]"
   ]
  },
  {
   "cell_type": "markdown",
   "id": "49756d02",
   "metadata": {},
   "source": [
    "This returns a dataframe where value under unemployment rate is greater than 9.0."
   ]
  },
  {
   "cell_type": "code",
   "execution_count": 377,
   "id": "f5ed6a91",
   "metadata": {},
   "outputs": [
    {
     "data": {
      "text/html": [
       "<div>\n",
       "<style scoped>\n",
       "    .dataframe tbody tr th:only-of-type {\n",
       "        vertical-align: middle;\n",
       "    }\n",
       "\n",
       "    .dataframe tbody tr th {\n",
       "        vertical-align: top;\n",
       "    }\n",
       "\n",
       "    .dataframe thead th {\n",
       "        text-align: right;\n",
       "    }\n",
       "</style>\n",
       "<table border=\"1\" class=\"dataframe\">\n",
       "  <thead>\n",
       "    <tr style=\"text-align: right;\">\n",
       "      <th></th>\n",
       "      <th>country</th>\n",
       "      <th>seasonality</th>\n",
       "      <th>year_month</th>\n",
       "      <th>unemployment</th>\n",
       "      <th>unemployment_rate</th>\n",
       "    </tr>\n",
       "  </thead>\n",
       "  <tbody>\n",
       "    <tr>\n",
       "      <th>6831</th>\n",
       "      <td>fr</td>\n",
       "      <td>nsa</td>\n",
       "      <td>1983.01</td>\n",
       "      <td>1834000</td>\n",
       "      <td>7.8</td>\n",
       "    </tr>\n",
       "    <tr>\n",
       "      <th>6832</th>\n",
       "      <td>fr</td>\n",
       "      <td>nsa</td>\n",
       "      <td>1983.02</td>\n",
       "      <td>1807000</td>\n",
       "      <td>7.7</td>\n",
       "    </tr>\n",
       "    <tr>\n",
       "      <th>6833</th>\n",
       "      <td>fr</td>\n",
       "      <td>nsa</td>\n",
       "      <td>1983.03</td>\n",
       "      <td>1754000</td>\n",
       "      <td>7.4</td>\n",
       "    </tr>\n",
       "    <tr>\n",
       "      <th>6834</th>\n",
       "      <td>fr</td>\n",
       "      <td>nsa</td>\n",
       "      <td>1983.04</td>\n",
       "      <td>1705000</td>\n",
       "      <td>7.2</td>\n",
       "    </tr>\n",
       "    <tr>\n",
       "      <th>6835</th>\n",
       "      <td>fr</td>\n",
       "      <td>nsa</td>\n",
       "      <td>1983.05</td>\n",
       "      <td>1680000</td>\n",
       "      <td>7.1</td>\n",
       "    </tr>\n",
       "    <tr>\n",
       "      <th>...</th>\n",
       "      <td>...</td>\n",
       "      <td>...</td>\n",
       "      <td>...</td>\n",
       "      <td>...</td>\n",
       "      <td>...</td>\n",
       "    </tr>\n",
       "    <tr>\n",
       "      <th>7834</th>\n",
       "      <td>fr</td>\n",
       "      <td>trend</td>\n",
       "      <td>2010.08</td>\n",
       "      <td>2835000</td>\n",
       "      <td>9.7</td>\n",
       "    </tr>\n",
       "    <tr>\n",
       "      <th>7835</th>\n",
       "      <td>fr</td>\n",
       "      <td>trend</td>\n",
       "      <td>2010.09</td>\n",
       "      <td>2833000</td>\n",
       "      <td>9.7</td>\n",
       "    </tr>\n",
       "    <tr>\n",
       "      <th>7836</th>\n",
       "      <td>fr</td>\n",
       "      <td>trend</td>\n",
       "      <td>2010.10</td>\n",
       "      <td>2831000</td>\n",
       "      <td>9.7</td>\n",
       "    </tr>\n",
       "    <tr>\n",
       "      <th>7837</th>\n",
       "      <td>fr</td>\n",
       "      <td>trend</td>\n",
       "      <td>2010.11</td>\n",
       "      <td>2842000</td>\n",
       "      <td>9.7</td>\n",
       "    </tr>\n",
       "    <tr>\n",
       "      <th>7838</th>\n",
       "      <td>fr</td>\n",
       "      <td>trend</td>\n",
       "      <td>2010.12</td>\n",
       "      <td>2842000</td>\n",
       "      <td>9.7</td>\n",
       "    </tr>\n",
       "  </tbody>\n",
       "</table>\n",
       "<p>1008 rows × 5 columns</p>\n",
       "</div>"
      ],
      "text/plain": [
       "     country seasonality  year_month  unemployment  unemployment_rate\n",
       "6831      fr         nsa     1983.01       1834000                7.8\n",
       "6832      fr         nsa     1983.02       1807000                7.7\n",
       "6833      fr         nsa     1983.03       1754000                7.4\n",
       "6834      fr         nsa     1983.04       1705000                7.2\n",
       "6835      fr         nsa     1983.05       1680000                7.1\n",
       "...      ...         ...         ...           ...                ...\n",
       "7834      fr       trend     2010.08       2835000                9.7\n",
       "7835      fr       trend     2010.09       2833000                9.7\n",
       "7836      fr       trend     2010.10       2831000                9.7\n",
       "7837      fr       trend     2010.11       2842000                9.7\n",
       "7838      fr       trend     2010.12       2842000                9.7\n",
       "\n",
       "[1008 rows x 5 columns]"
      ]
     },
     "execution_count": 377,
     "metadata": {},
     "output_type": "execute_result"
    }
   ],
   "source": [
    "#Country version using france\n",
    "unemployment[country=='fr']"
   ]
  },
  {
   "cell_type": "markdown",
   "id": "3253deed",
   "metadata": {},
   "source": [
    "Now let's combine the two!"
   ]
  },
  {
   "cell_type": "code",
   "execution_count": 378,
   "id": "076d5416",
   "metadata": {},
   "outputs": [
    {
     "data": {
      "text/html": [
       "<div>\n",
       "<style scoped>\n",
       "    .dataframe tbody tr th:only-of-type {\n",
       "        vertical-align: middle;\n",
       "    }\n",
       "\n",
       "    .dataframe tbody tr th {\n",
       "        vertical-align: top;\n",
       "    }\n",
       "\n",
       "    .dataframe thead th {\n",
       "        text-align: right;\n",
       "    }\n",
       "</style>\n",
       "<table border=\"1\" class=\"dataframe\">\n",
       "  <thead>\n",
       "    <tr style=\"text-align: right;\">\n",
       "      <th></th>\n",
       "      <th>country</th>\n",
       "      <th>seasonality</th>\n",
       "      <th>year_month</th>\n",
       "      <th>unemployment</th>\n",
       "      <th>unemployment_rate</th>\n",
       "    </tr>\n",
       "  </thead>\n",
       "  <tbody>\n",
       "    <tr>\n",
       "      <th>6844</th>\n",
       "      <td>fr</td>\n",
       "      <td>nsa</td>\n",
       "      <td>1984.02</td>\n",
       "      <td>2168000</td>\n",
       "      <td>9.1</td>\n",
       "    </tr>\n",
       "    <tr>\n",
       "      <th>6845</th>\n",
       "      <td>fr</td>\n",
       "      <td>nsa</td>\n",
       "      <td>1984.03</td>\n",
       "      <td>2169000</td>\n",
       "      <td>9.1</td>\n",
       "    </tr>\n",
       "    <tr>\n",
       "      <th>6851</th>\n",
       "      <td>fr</td>\n",
       "      <td>nsa</td>\n",
       "      <td>1984.09</td>\n",
       "      <td>2267000</td>\n",
       "      <td>9.2</td>\n",
       "    </tr>\n",
       "    <tr>\n",
       "      <th>6852</th>\n",
       "      <td>fr</td>\n",
       "      <td>nsa</td>\n",
       "      <td>1984.10</td>\n",
       "      <td>2401000</td>\n",
       "      <td>9.9</td>\n",
       "    </tr>\n",
       "    <tr>\n",
       "      <th>6853</th>\n",
       "      <td>fr</td>\n",
       "      <td>nsa</td>\n",
       "      <td>1984.11</td>\n",
       "      <td>2438000</td>\n",
       "      <td>10.0</td>\n",
       "    </tr>\n",
       "    <tr>\n",
       "      <th>...</th>\n",
       "      <td>...</td>\n",
       "      <td>...</td>\n",
       "      <td>...</td>\n",
       "      <td>...</td>\n",
       "      <td>...</td>\n",
       "    </tr>\n",
       "    <tr>\n",
       "      <th>7834</th>\n",
       "      <td>fr</td>\n",
       "      <td>trend</td>\n",
       "      <td>2010.08</td>\n",
       "      <td>2835000</td>\n",
       "      <td>9.7</td>\n",
       "    </tr>\n",
       "    <tr>\n",
       "      <th>7835</th>\n",
       "      <td>fr</td>\n",
       "      <td>trend</td>\n",
       "      <td>2010.09</td>\n",
       "      <td>2833000</td>\n",
       "      <td>9.7</td>\n",
       "    </tr>\n",
       "    <tr>\n",
       "      <th>7836</th>\n",
       "      <td>fr</td>\n",
       "      <td>trend</td>\n",
       "      <td>2010.10</td>\n",
       "      <td>2831000</td>\n",
       "      <td>9.7</td>\n",
       "    </tr>\n",
       "    <tr>\n",
       "      <th>7837</th>\n",
       "      <td>fr</td>\n",
       "      <td>trend</td>\n",
       "      <td>2010.11</td>\n",
       "      <td>2842000</td>\n",
       "      <td>9.7</td>\n",
       "    </tr>\n",
       "    <tr>\n",
       "      <th>7838</th>\n",
       "      <td>fr</td>\n",
       "      <td>trend</td>\n",
       "      <td>2010.12</td>\n",
       "      <td>2842000</td>\n",
       "      <td>9.7</td>\n",
       "    </tr>\n",
       "  </tbody>\n",
       "</table>\n",
       "<p>648 rows × 5 columns</p>\n",
       "</div>"
      ],
      "text/plain": [
       "     country seasonality  year_month  unemployment  unemployment_rate\n",
       "6844      fr         nsa     1984.02       2168000                9.1\n",
       "6845      fr         nsa     1984.03       2169000                9.1\n",
       "6851      fr         nsa     1984.09       2267000                9.2\n",
       "6852      fr         nsa     1984.10       2401000                9.9\n",
       "6853      fr         nsa     1984.11       2438000               10.0\n",
       "...      ...         ...         ...           ...                ...\n",
       "7834      fr       trend     2010.08       2835000                9.7\n",
       "7835      fr       trend     2010.09       2833000                9.7\n",
       "7836      fr       trend     2010.10       2831000                9.7\n",
       "7837      fr       trend     2010.11       2842000                9.7\n",
       "7838      fr       trend     2010.12       2842000                9.7\n",
       "\n",
       "[648 rows x 5 columns]"
      ]
     },
     "execution_count": 378,
     "metadata": {},
     "output_type": "execute_result"
    }
   ],
   "source": [
    "#Wrap both boolean masks in parentheses and use an & sign to make their conditions exclusive\n",
    "unemployment[(unemployment.unemployment_rate>9.0) & (unemployment.country == 'fr')]"
   ]
  },
  {
   "cell_type": "code",
   "execution_count": null,
   "id": "2a91f026",
   "metadata": {},
   "outputs": [],
   "source": []
  },
  {
   "cell_type": "markdown",
   "id": "b49890a5",
   "metadata": {},
   "source": [
    "### Challenge 2: Slicing Census Data\n",
    "\n",
    "Using the pre-loaded the census dataset featuring a collection of US counties and their socio-economic attribues, answer the following questions \n",
    "\n",
    "- Create a subset dataframe using loc containing the following columns: State, County, WorkAtHome, MeanCommute\n",
    "- Create a dataframe of counties exclusively from each of the following counties: Kansas, Maryland, Oregon\n",
    "- How many counties in California have a total population greater than 250000"
   ]
  },
  {
   "cell_type": "code",
   "execution_count": 379,
   "id": "d944247a",
   "metadata": {},
   "outputs": [
    {
     "data": {
      "text/html": [
       "<div>\n",
       "<style scoped>\n",
       "    .dataframe tbody tr th:only-of-type {\n",
       "        vertical-align: middle;\n",
       "    }\n",
       "\n",
       "    .dataframe tbody tr th {\n",
       "        vertical-align: top;\n",
       "    }\n",
       "\n",
       "    .dataframe thead th {\n",
       "        text-align: right;\n",
       "    }\n",
       "</style>\n",
       "<table border=\"1\" class=\"dataframe\">\n",
       "  <thead>\n",
       "    <tr style=\"text-align: right;\">\n",
       "      <th></th>\n",
       "      <th>CensusId</th>\n",
       "      <th>State</th>\n",
       "      <th>County</th>\n",
       "      <th>TotalPop</th>\n",
       "      <th>Men</th>\n",
       "      <th>Women</th>\n",
       "      <th>Hispanic</th>\n",
       "      <th>White</th>\n",
       "      <th>Black</th>\n",
       "      <th>Native</th>\n",
       "      <th>...</th>\n",
       "      <th>Walk</th>\n",
       "      <th>OtherTransp</th>\n",
       "      <th>WorkAtHome</th>\n",
       "      <th>MeanCommute</th>\n",
       "      <th>Employed</th>\n",
       "      <th>PrivateWork</th>\n",
       "      <th>PublicWork</th>\n",
       "      <th>SelfEmployed</th>\n",
       "      <th>FamilyWork</th>\n",
       "      <th>Unemployment</th>\n",
       "    </tr>\n",
       "  </thead>\n",
       "  <tbody>\n",
       "    <tr>\n",
       "      <th>0</th>\n",
       "      <td>1001</td>\n",
       "      <td>Alabama</td>\n",
       "      <td>Autauga</td>\n",
       "      <td>55221</td>\n",
       "      <td>26745</td>\n",
       "      <td>28476</td>\n",
       "      <td>2.6</td>\n",
       "      <td>75.8</td>\n",
       "      <td>18.5</td>\n",
       "      <td>0.4</td>\n",
       "      <td>...</td>\n",
       "      <td>0.5</td>\n",
       "      <td>1.3</td>\n",
       "      <td>1.8</td>\n",
       "      <td>26.5</td>\n",
       "      <td>23986</td>\n",
       "      <td>73.6</td>\n",
       "      <td>20.9</td>\n",
       "      <td>5.5</td>\n",
       "      <td>0.0</td>\n",
       "      <td>7.6</td>\n",
       "    </tr>\n",
       "    <tr>\n",
       "      <th>1</th>\n",
       "      <td>1003</td>\n",
       "      <td>Alabama</td>\n",
       "      <td>Baldwin</td>\n",
       "      <td>195121</td>\n",
       "      <td>95314</td>\n",
       "      <td>99807</td>\n",
       "      <td>4.5</td>\n",
       "      <td>83.1</td>\n",
       "      <td>9.5</td>\n",
       "      <td>0.6</td>\n",
       "      <td>...</td>\n",
       "      <td>1.0</td>\n",
       "      <td>1.4</td>\n",
       "      <td>3.9</td>\n",
       "      <td>26.4</td>\n",
       "      <td>85953</td>\n",
       "      <td>81.5</td>\n",
       "      <td>12.3</td>\n",
       "      <td>5.8</td>\n",
       "      <td>0.4</td>\n",
       "      <td>7.5</td>\n",
       "    </tr>\n",
       "    <tr>\n",
       "      <th>2</th>\n",
       "      <td>1005</td>\n",
       "      <td>Alabama</td>\n",
       "      <td>Barbour</td>\n",
       "      <td>26932</td>\n",
       "      <td>14497</td>\n",
       "      <td>12435</td>\n",
       "      <td>4.6</td>\n",
       "      <td>46.2</td>\n",
       "      <td>46.7</td>\n",
       "      <td>0.2</td>\n",
       "      <td>...</td>\n",
       "      <td>1.8</td>\n",
       "      <td>1.5</td>\n",
       "      <td>1.6</td>\n",
       "      <td>24.1</td>\n",
       "      <td>8597</td>\n",
       "      <td>71.8</td>\n",
       "      <td>20.8</td>\n",
       "      <td>7.3</td>\n",
       "      <td>0.1</td>\n",
       "      <td>17.6</td>\n",
       "    </tr>\n",
       "    <tr>\n",
       "      <th>3</th>\n",
       "      <td>1007</td>\n",
       "      <td>Alabama</td>\n",
       "      <td>Bibb</td>\n",
       "      <td>22604</td>\n",
       "      <td>12073</td>\n",
       "      <td>10531</td>\n",
       "      <td>2.2</td>\n",
       "      <td>74.5</td>\n",
       "      <td>21.4</td>\n",
       "      <td>0.4</td>\n",
       "      <td>...</td>\n",
       "      <td>0.6</td>\n",
       "      <td>1.5</td>\n",
       "      <td>0.7</td>\n",
       "      <td>28.8</td>\n",
       "      <td>8294</td>\n",
       "      <td>76.8</td>\n",
       "      <td>16.1</td>\n",
       "      <td>6.7</td>\n",
       "      <td>0.4</td>\n",
       "      <td>8.3</td>\n",
       "    </tr>\n",
       "    <tr>\n",
       "      <th>4</th>\n",
       "      <td>1009</td>\n",
       "      <td>Alabama</td>\n",
       "      <td>Blount</td>\n",
       "      <td>57710</td>\n",
       "      <td>28512</td>\n",
       "      <td>29198</td>\n",
       "      <td>8.6</td>\n",
       "      <td>87.9</td>\n",
       "      <td>1.5</td>\n",
       "      <td>0.3</td>\n",
       "      <td>...</td>\n",
       "      <td>0.9</td>\n",
       "      <td>0.4</td>\n",
       "      <td>2.3</td>\n",
       "      <td>34.9</td>\n",
       "      <td>22189</td>\n",
       "      <td>82.0</td>\n",
       "      <td>13.5</td>\n",
       "      <td>4.2</td>\n",
       "      <td>0.4</td>\n",
       "      <td>7.7</td>\n",
       "    </tr>\n",
       "  </tbody>\n",
       "</table>\n",
       "<p>5 rows × 37 columns</p>\n",
       "</div>"
      ],
      "text/plain": [
       "   CensusId    State   County  TotalPop    Men  Women  Hispanic  White  Black  \\\n",
       "0      1001  Alabama  Autauga     55221  26745  28476       2.6   75.8   18.5   \n",
       "1      1003  Alabama  Baldwin    195121  95314  99807       4.5   83.1    9.5   \n",
       "2      1005  Alabama  Barbour     26932  14497  12435       4.6   46.2   46.7   \n",
       "3      1007  Alabama     Bibb     22604  12073  10531       2.2   74.5   21.4   \n",
       "4      1009  Alabama   Blount     57710  28512  29198       8.6   87.9    1.5   \n",
       "\n",
       "   Native  ...  Walk  OtherTransp  WorkAtHome  MeanCommute  Employed  \\\n",
       "0     0.4  ...   0.5          1.3         1.8         26.5     23986   \n",
       "1     0.6  ...   1.0          1.4         3.9         26.4     85953   \n",
       "2     0.2  ...   1.8          1.5         1.6         24.1      8597   \n",
       "3     0.4  ...   0.6          1.5         0.7         28.8      8294   \n",
       "4     0.3  ...   0.9          0.4         2.3         34.9     22189   \n",
       "\n",
       "   PrivateWork  PublicWork  SelfEmployed  FamilyWork  Unemployment  \n",
       "0         73.6        20.9           5.5         0.0           7.6  \n",
       "1         81.5        12.3           5.8         0.4           7.5  \n",
       "2         71.8        20.8           7.3         0.1          17.6  \n",
       "3         76.8        16.1           6.7         0.4           8.3  \n",
       "4         82.0        13.5           4.2         0.4           7.7  \n",
       "\n",
       "[5 rows x 37 columns]"
      ]
     },
     "execution_count": 379,
     "metadata": {},
     "output_type": "execute_result"
    }
   ],
   "source": [
    "census = pd.read_csv(\"data/census_data.csv\")\n",
    "census.head()"
   ]
  },
  {
   "cell_type": "code",
   "execution_count": 380,
   "id": "10006e5d",
   "metadata": {},
   "outputs": [
    {
     "data": {
      "text/html": [
       "<div>\n",
       "<style scoped>\n",
       "    .dataframe tbody tr th:only-of-type {\n",
       "        vertical-align: middle;\n",
       "    }\n",
       "\n",
       "    .dataframe tbody tr th {\n",
       "        vertical-align: top;\n",
       "    }\n",
       "\n",
       "    .dataframe thead th {\n",
       "        text-align: right;\n",
       "    }\n",
       "</style>\n",
       "<table border=\"1\" class=\"dataframe\">\n",
       "  <thead>\n",
       "    <tr style=\"text-align: right;\">\n",
       "      <th></th>\n",
       "      <th>State</th>\n",
       "      <th>County</th>\n",
       "      <th>WorkAtHome</th>\n",
       "      <th>MeanCommute</th>\n",
       "    </tr>\n",
       "  </thead>\n",
       "  <tbody>\n",
       "    <tr>\n",
       "      <th>0</th>\n",
       "      <td>Alabama</td>\n",
       "      <td>Autauga</td>\n",
       "      <td>1.8</td>\n",
       "      <td>26.5</td>\n",
       "    </tr>\n",
       "    <tr>\n",
       "      <th>1</th>\n",
       "      <td>Alabama</td>\n",
       "      <td>Baldwin</td>\n",
       "      <td>3.9</td>\n",
       "      <td>26.4</td>\n",
       "    </tr>\n",
       "    <tr>\n",
       "      <th>2</th>\n",
       "      <td>Alabama</td>\n",
       "      <td>Barbour</td>\n",
       "      <td>1.6</td>\n",
       "      <td>24.1</td>\n",
       "    </tr>\n",
       "    <tr>\n",
       "      <th>3</th>\n",
       "      <td>Alabama</td>\n",
       "      <td>Bibb</td>\n",
       "      <td>0.7</td>\n",
       "      <td>28.8</td>\n",
       "    </tr>\n",
       "    <tr>\n",
       "      <th>4</th>\n",
       "      <td>Alabama</td>\n",
       "      <td>Blount</td>\n",
       "      <td>2.3</td>\n",
       "      <td>34.9</td>\n",
       "    </tr>\n",
       "  </tbody>\n",
       "</table>\n",
       "</div>"
      ],
      "text/plain": [
       "     State   County  WorkAtHome  MeanCommute\n",
       "0  Alabama  Autauga         1.8         26.5\n",
       "1  Alabama  Baldwin         3.9         26.4\n",
       "2  Alabama  Barbour         1.6         24.1\n",
       "3  Alabama     Bibb         0.7         28.8\n",
       "4  Alabama   Blount         2.3         34.9"
      ]
     },
     "execution_count": 380,
     "metadata": {},
     "output_type": "execute_result"
    }
   ],
   "source": [
    "census_subset = census[[\"State\", \"County\", \"WorkAtHome\", \"MeanCommute\"]]\n",
    "census_subset.head()"
   ]
  },
  {
   "cell_type": "code",
   "execution_count": 381,
   "id": "9f8ef737",
   "metadata": {},
   "outputs": [],
   "source": [
    "kansas = census[census.State == \"Kansas\"]\n",
    "maryland = census[census.State == \"Maryland\"]\n",
    "oregon = census[census.State == \"Oregon\"]"
   ]
  },
  {
   "cell_type": "code",
   "execution_count": 382,
   "id": "5bcab93f",
   "metadata": {},
   "outputs": [
    {
     "data": {
      "text/plain": [
       "26"
      ]
     },
     "execution_count": 382,
     "metadata": {},
     "output_type": "execute_result"
    }
   ],
   "source": [
    "census[(census.State == \"California\") & (census.TotalPop >= 250000)].shape[0]"
   ]
  },
  {
   "cell_type": "code",
   "execution_count": null,
   "id": "e9c47753",
   "metadata": {},
   "outputs": [],
   "source": []
  },
  {
   "cell_type": "code",
   "execution_count": null,
   "id": "2cbeada1",
   "metadata": {},
   "outputs": [],
   "source": []
  },
  {
   "cell_type": "markdown",
   "id": "be3be2b3",
   "metadata": {},
   "source": [
    "## 3. Data Analysis <a id=\"section3\"/>"
   ]
  },
  {
   "cell_type": "markdown",
   "id": "9f284b05",
   "metadata": {},
   "source": [
    "Pandas is great for conducting exploratory data analysis. We need to find a the mean of a column or count the proportions of a categorical variable's items, pandas is your go-to tool. "
   ]
  },
  {
   "cell_type": "markdown",
   "id": "60d7029d",
   "metadata": {},
   "source": [
    "Let's introduce a new dataset: movies"
   ]
  },
  {
   "cell_type": "code",
   "execution_count": 383,
   "id": "3d32cdbb",
   "metadata": {},
   "outputs": [],
   "source": [
    "path = \"data/movies.csv\""
   ]
  },
  {
   "cell_type": "code",
   "execution_count": 384,
   "id": "b74090f9",
   "metadata": {},
   "outputs": [
    {
     "data": {
      "text/html": [
       "<div>\n",
       "<style scoped>\n",
       "    .dataframe tbody tr th:only-of-type {\n",
       "        vertical-align: middle;\n",
       "    }\n",
       "\n",
       "    .dataframe tbody tr th {\n",
       "        vertical-align: top;\n",
       "    }\n",
       "\n",
       "    .dataframe thead th {\n",
       "        text-align: right;\n",
       "    }\n",
       "</style>\n",
       "<table border=\"1\" class=\"dataframe\">\n",
       "  <thead>\n",
       "    <tr style=\"text-align: right;\">\n",
       "      <th></th>\n",
       "      <th>Rank</th>\n",
       "      <th>Title</th>\n",
       "      <th>Description</th>\n",
       "      <th>Director</th>\n",
       "      <th>Actors</th>\n",
       "      <th>Year</th>\n",
       "      <th>Runtime Minutes</th>\n",
       "      <th>Rating</th>\n",
       "      <th>Votes</th>\n",
       "      <th>Production Budget</th>\n",
       "      <th>Revenue Millions</th>\n",
       "      <th>Metascore</th>\n",
       "      <th>Genre1</th>\n",
       "      <th>Genre2</th>\n",
       "      <th>Genre3</th>\n",
       "    </tr>\n",
       "  </thead>\n",
       "  <tbody>\n",
       "    <tr>\n",
       "      <th>0</th>\n",
       "      <td>1</td>\n",
       "      <td>Guardians of the Galaxy</td>\n",
       "      <td>A group of intergalactic criminals are forced ...</td>\n",
       "      <td>James Gunn</td>\n",
       "      <td>Chris Pratt, Vin Diesel, Bradley Cooper, Zoe S...</td>\n",
       "      <td>2014</td>\n",
       "      <td>121</td>\n",
       "      <td>8.1</td>\n",
       "      <td>757074</td>\n",
       "      <td>170000000</td>\n",
       "      <td>333.13</td>\n",
       "      <td>76.0</td>\n",
       "      <td>Action</td>\n",
       "      <td>Adventure</td>\n",
       "      <td>Sci-Fi</td>\n",
       "    </tr>\n",
       "    <tr>\n",
       "      <th>1</th>\n",
       "      <td>2</td>\n",
       "      <td>Prometheus</td>\n",
       "      <td>Following clues to the origin of mankind, a te...</td>\n",
       "      <td>Ridley Scott</td>\n",
       "      <td>Noomi Rapace, Logan Marshall-Green, Michael Fa...</td>\n",
       "      <td>2012</td>\n",
       "      <td>124</td>\n",
       "      <td>7.0</td>\n",
       "      <td>485820</td>\n",
       "      <td>125000000</td>\n",
       "      <td>126.46</td>\n",
       "      <td>65.0</td>\n",
       "      <td>Adventure</td>\n",
       "      <td>Mystery</td>\n",
       "      <td>Sci-Fi</td>\n",
       "    </tr>\n",
       "    <tr>\n",
       "      <th>2</th>\n",
       "      <td>3</td>\n",
       "      <td>Sing</td>\n",
       "      <td>In a city of humanoid animals, a hustling thea...</td>\n",
       "      <td>Christophe Lourdelet</td>\n",
       "      <td>Matthew McConaughey,Reese Witherspoon, Seth Ma...</td>\n",
       "      <td>2016</td>\n",
       "      <td>108</td>\n",
       "      <td>7.2</td>\n",
       "      <td>60545</td>\n",
       "      <td>75000000</td>\n",
       "      <td>270.32</td>\n",
       "      <td>59.0</td>\n",
       "      <td>Animation</td>\n",
       "      <td>Comedy</td>\n",
       "      <td>Family</td>\n",
       "    </tr>\n",
       "    <tr>\n",
       "      <th>3</th>\n",
       "      <td>4</td>\n",
       "      <td>Suicide Squad</td>\n",
       "      <td>A secret government agency recruits some of th...</td>\n",
       "      <td>David Ayer</td>\n",
       "      <td>Will Smith, Jared Leto, Margot Robbie, Viola D...</td>\n",
       "      <td>2016</td>\n",
       "      <td>123</td>\n",
       "      <td>6.2</td>\n",
       "      <td>393727</td>\n",
       "      <td>175000000</td>\n",
       "      <td>325.02</td>\n",
       "      <td>40.0</td>\n",
       "      <td>Action</td>\n",
       "      <td>Adventure</td>\n",
       "      <td>Fantasy</td>\n",
       "    </tr>\n",
       "    <tr>\n",
       "      <th>4</th>\n",
       "      <td>5</td>\n",
       "      <td>The Great Wall</td>\n",
       "      <td>European mercenaries searching for black powde...</td>\n",
       "      <td>Yimou Zhang</td>\n",
       "      <td>Matt Damon, Tian Jing, Willem Dafoe, Andy Lau</td>\n",
       "      <td>2016</td>\n",
       "      <td>103</td>\n",
       "      <td>6.1</td>\n",
       "      <td>56036</td>\n",
       "      <td>150000000</td>\n",
       "      <td>45.13</td>\n",
       "      <td>42.0</td>\n",
       "      <td>Action</td>\n",
       "      <td>Adventure</td>\n",
       "      <td>Fantasy</td>\n",
       "    </tr>\n",
       "  </tbody>\n",
       "</table>\n",
       "</div>"
      ],
      "text/plain": [
       "   Rank                    Title  \\\n",
       "0     1  Guardians of the Galaxy   \n",
       "1     2               Prometheus   \n",
       "2     3                     Sing   \n",
       "3     4            Suicide Squad   \n",
       "4     5           The Great Wall   \n",
       "\n",
       "                                         Description              Director  \\\n",
       "0  A group of intergalactic criminals are forced ...            James Gunn   \n",
       "1  Following clues to the origin of mankind, a te...          Ridley Scott   \n",
       "2  In a city of humanoid animals, a hustling thea...  Christophe Lourdelet   \n",
       "3  A secret government agency recruits some of th...            David Ayer   \n",
       "4  European mercenaries searching for black powde...           Yimou Zhang   \n",
       "\n",
       "                                              Actors  Year  Runtime Minutes  \\\n",
       "0  Chris Pratt, Vin Diesel, Bradley Cooper, Zoe S...  2014              121   \n",
       "1  Noomi Rapace, Logan Marshall-Green, Michael Fa...  2012              124   \n",
       "2  Matthew McConaughey,Reese Witherspoon, Seth Ma...  2016              108   \n",
       "3  Will Smith, Jared Leto, Margot Robbie, Viola D...  2016              123   \n",
       "4      Matt Damon, Tian Jing, Willem Dafoe, Andy Lau  2016              103   \n",
       "\n",
       "   Rating   Votes  Production Budget  Revenue Millions  Metascore     Genre1  \\\n",
       "0     8.1  757074          170000000            333.13       76.0     Action   \n",
       "1     7.0  485820          125000000            126.46       65.0  Adventure   \n",
       "2     7.2   60545           75000000            270.32       59.0  Animation   \n",
       "3     6.2  393727          175000000            325.02       40.0     Action   \n",
       "4     6.1   56036          150000000             45.13       42.0     Action   \n",
       "\n",
       "      Genre2   Genre3  \n",
       "0  Adventure   Sci-Fi  \n",
       "1    Mystery   Sci-Fi  \n",
       "2     Comedy   Family  \n",
       "3  Adventure  Fantasy  \n",
       "4  Adventure  Fantasy  "
      ]
     },
     "execution_count": 384,
     "metadata": {},
     "output_type": "execute_result"
    }
   ],
   "source": [
    "movies = pd.read_csv(path)\n",
    "movies.head()"
   ]
  },
  {
   "cell_type": "code",
   "execution_count": 385,
   "id": "6066e33f",
   "metadata": {},
   "outputs": [
    {
     "name": "stdout",
     "output_type": "stream",
     "text": [
      "<class 'pandas.core.frame.DataFrame'>\n",
      "RangeIndex: 650 entries, 0 to 649\n",
      "Data columns (total 15 columns):\n",
      " #   Column             Non-Null Count  Dtype  \n",
      "---  ------             --------------  -----  \n",
      " 0   Rank               650 non-null    int64  \n",
      " 1   Title              650 non-null    object \n",
      " 2   Description        650 non-null    object \n",
      " 3   Director           650 non-null    object \n",
      " 4   Actors             650 non-null    object \n",
      " 5   Year               650 non-null    int64  \n",
      " 6   Runtime Minutes    650 non-null    int64  \n",
      " 7   Rating             650 non-null    float64\n",
      " 8   Votes              650 non-null    int64  \n",
      " 9   Production Budget  650 non-null    int64  \n",
      " 10  Revenue Millions   635 non-null    float64\n",
      " 11  Metascore          622 non-null    float64\n",
      " 12  Genre1             650 non-null    object \n",
      " 13  Genre2             612 non-null    object \n",
      " 14  Genre3             487 non-null    object \n",
      "dtypes: float64(3), int64(5), object(7)\n",
      "memory usage: 76.3+ KB\n"
     ]
    }
   ],
   "source": [
    "movies.info()"
   ]
  },
  {
   "cell_type": "code",
   "execution_count": null,
   "id": "70d592cd",
   "metadata": {},
   "outputs": [],
   "source": []
  },
  {
   "cell_type": "markdown",
   "id": "fb1d48d1",
   "metadata": {},
   "source": [
    "Before we move ahead let's fix the column names"
   ]
  },
  {
   "cell_type": "code",
   "execution_count": 386,
   "id": "5f4dca56",
   "metadata": {},
   "outputs": [
    {
     "data": {
      "text/html": [
       "<div>\n",
       "<style scoped>\n",
       "    .dataframe tbody tr th:only-of-type {\n",
       "        vertical-align: middle;\n",
       "    }\n",
       "\n",
       "    .dataframe tbody tr th {\n",
       "        vertical-align: top;\n",
       "    }\n",
       "\n",
       "    .dataframe thead th {\n",
       "        text-align: right;\n",
       "    }\n",
       "</style>\n",
       "<table border=\"1\" class=\"dataframe\">\n",
       "  <thead>\n",
       "    <tr style=\"text-align: right;\">\n",
       "      <th></th>\n",
       "      <th>rank</th>\n",
       "      <th>title</th>\n",
       "      <th>description</th>\n",
       "      <th>director</th>\n",
       "      <th>actors</th>\n",
       "      <th>year</th>\n",
       "      <th>runtime_minutes</th>\n",
       "      <th>rating</th>\n",
       "      <th>votes</th>\n",
       "      <th>production_budget</th>\n",
       "      <th>revenue_millions</th>\n",
       "      <th>metascore</th>\n",
       "      <th>genre1</th>\n",
       "      <th>genre2</th>\n",
       "      <th>genre3</th>\n",
       "    </tr>\n",
       "  </thead>\n",
       "  <tbody>\n",
       "    <tr>\n",
       "      <th>0</th>\n",
       "      <td>1</td>\n",
       "      <td>Guardians of the Galaxy</td>\n",
       "      <td>A group of intergalactic criminals are forced ...</td>\n",
       "      <td>James Gunn</td>\n",
       "      <td>Chris Pratt, Vin Diesel, Bradley Cooper, Zoe S...</td>\n",
       "      <td>2014</td>\n",
       "      <td>121</td>\n",
       "      <td>8.1</td>\n",
       "      <td>757074</td>\n",
       "      <td>170000000</td>\n",
       "      <td>333.13</td>\n",
       "      <td>76.0</td>\n",
       "      <td>Action</td>\n",
       "      <td>Adventure</td>\n",
       "      <td>Sci-Fi</td>\n",
       "    </tr>\n",
       "    <tr>\n",
       "      <th>1</th>\n",
       "      <td>2</td>\n",
       "      <td>Prometheus</td>\n",
       "      <td>Following clues to the origin of mankind, a te...</td>\n",
       "      <td>Ridley Scott</td>\n",
       "      <td>Noomi Rapace, Logan Marshall-Green, Michael Fa...</td>\n",
       "      <td>2012</td>\n",
       "      <td>124</td>\n",
       "      <td>7.0</td>\n",
       "      <td>485820</td>\n",
       "      <td>125000000</td>\n",
       "      <td>126.46</td>\n",
       "      <td>65.0</td>\n",
       "      <td>Adventure</td>\n",
       "      <td>Mystery</td>\n",
       "      <td>Sci-Fi</td>\n",
       "    </tr>\n",
       "    <tr>\n",
       "      <th>2</th>\n",
       "      <td>3</td>\n",
       "      <td>Sing</td>\n",
       "      <td>In a city of humanoid animals, a hustling thea...</td>\n",
       "      <td>Christophe Lourdelet</td>\n",
       "      <td>Matthew McConaughey,Reese Witherspoon, Seth Ma...</td>\n",
       "      <td>2016</td>\n",
       "      <td>108</td>\n",
       "      <td>7.2</td>\n",
       "      <td>60545</td>\n",
       "      <td>75000000</td>\n",
       "      <td>270.32</td>\n",
       "      <td>59.0</td>\n",
       "      <td>Animation</td>\n",
       "      <td>Comedy</td>\n",
       "      <td>Family</td>\n",
       "    </tr>\n",
       "    <tr>\n",
       "      <th>3</th>\n",
       "      <td>4</td>\n",
       "      <td>Suicide Squad</td>\n",
       "      <td>A secret government agency recruits some of th...</td>\n",
       "      <td>David Ayer</td>\n",
       "      <td>Will Smith, Jared Leto, Margot Robbie, Viola D...</td>\n",
       "      <td>2016</td>\n",
       "      <td>123</td>\n",
       "      <td>6.2</td>\n",
       "      <td>393727</td>\n",
       "      <td>175000000</td>\n",
       "      <td>325.02</td>\n",
       "      <td>40.0</td>\n",
       "      <td>Action</td>\n",
       "      <td>Adventure</td>\n",
       "      <td>Fantasy</td>\n",
       "    </tr>\n",
       "    <tr>\n",
       "      <th>4</th>\n",
       "      <td>5</td>\n",
       "      <td>The Great Wall</td>\n",
       "      <td>European mercenaries searching for black powde...</td>\n",
       "      <td>Yimou Zhang</td>\n",
       "      <td>Matt Damon, Tian Jing, Willem Dafoe, Andy Lau</td>\n",
       "      <td>2016</td>\n",
       "      <td>103</td>\n",
       "      <td>6.1</td>\n",
       "      <td>56036</td>\n",
       "      <td>150000000</td>\n",
       "      <td>45.13</td>\n",
       "      <td>42.0</td>\n",
       "      <td>Action</td>\n",
       "      <td>Adventure</td>\n",
       "      <td>Fantasy</td>\n",
       "    </tr>\n",
       "  </tbody>\n",
       "</table>\n",
       "</div>"
      ],
      "text/plain": [
       "   rank                    title  \\\n",
       "0     1  Guardians of the Galaxy   \n",
       "1     2               Prometheus   \n",
       "2     3                     Sing   \n",
       "3     4            Suicide Squad   \n",
       "4     5           The Great Wall   \n",
       "\n",
       "                                         description              director  \\\n",
       "0  A group of intergalactic criminals are forced ...            James Gunn   \n",
       "1  Following clues to the origin of mankind, a te...          Ridley Scott   \n",
       "2  In a city of humanoid animals, a hustling thea...  Christophe Lourdelet   \n",
       "3  A secret government agency recruits some of th...            David Ayer   \n",
       "4  European mercenaries searching for black powde...           Yimou Zhang   \n",
       "\n",
       "                                              actors  year  runtime_minutes  \\\n",
       "0  Chris Pratt, Vin Diesel, Bradley Cooper, Zoe S...  2014              121   \n",
       "1  Noomi Rapace, Logan Marshall-Green, Michael Fa...  2012              124   \n",
       "2  Matthew McConaughey,Reese Witherspoon, Seth Ma...  2016              108   \n",
       "3  Will Smith, Jared Leto, Margot Robbie, Viola D...  2016              123   \n",
       "4      Matt Damon, Tian Jing, Willem Dafoe, Andy Lau  2016              103   \n",
       "\n",
       "   rating   votes  production_budget  revenue_millions  metascore     genre1  \\\n",
       "0     8.1  757074          170000000            333.13       76.0     Action   \n",
       "1     7.0  485820          125000000            126.46       65.0  Adventure   \n",
       "2     7.2   60545           75000000            270.32       59.0  Animation   \n",
       "3     6.2  393727          175000000            325.02       40.0     Action   \n",
       "4     6.1   56036          150000000             45.13       42.0     Action   \n",
       "\n",
       "      genre2   genre3  \n",
       "0  Adventure   Sci-Fi  \n",
       "1    Mystery   Sci-Fi  \n",
       "2     Comedy   Family  \n",
       "3  Adventure  Fantasy  \n",
       "4  Adventure  Fantasy  "
      ]
     },
     "execution_count": 386,
     "metadata": {},
     "output_type": "execute_result"
    }
   ],
   "source": [
    "#Use the str operator to lower case the column names and replace the spaces with an underscore\n",
    "movies.columns = movies.columns.str.lower().str.replace(\" \", \"_\")\n",
    "movies.head()"
   ]
  },
  {
   "cell_type": "markdown",
   "id": "8c34ad23",
   "metadata": {},
   "source": [
    "To generate a set of summary stats call the `.describe()` method"
   ]
  },
  {
   "cell_type": "code",
   "execution_count": 387,
   "id": "1bf34c15",
   "metadata": {},
   "outputs": [
    {
     "data": {
      "text/html": [
       "<div>\n",
       "<style scoped>\n",
       "    .dataframe tbody tr th:only-of-type {\n",
       "        vertical-align: middle;\n",
       "    }\n",
       "\n",
       "    .dataframe tbody tr th {\n",
       "        vertical-align: top;\n",
       "    }\n",
       "\n",
       "    .dataframe thead th {\n",
       "        text-align: right;\n",
       "    }\n",
       "</style>\n",
       "<table border=\"1\" class=\"dataframe\">\n",
       "  <thead>\n",
       "    <tr style=\"text-align: right;\">\n",
       "      <th></th>\n",
       "      <th>rank</th>\n",
       "      <th>year</th>\n",
       "      <th>runtime_minutes</th>\n",
       "      <th>rating</th>\n",
       "      <th>votes</th>\n",
       "      <th>production_budget</th>\n",
       "      <th>revenue_millions</th>\n",
       "      <th>metascore</th>\n",
       "    </tr>\n",
       "  </thead>\n",
       "  <tbody>\n",
       "    <tr>\n",
       "      <th>count</th>\n",
       "      <td>650.00000</td>\n",
       "      <td>650.000000</td>\n",
       "      <td>650.000000</td>\n",
       "      <td>650.000000</td>\n",
       "      <td>6.500000e+02</td>\n",
       "      <td>6.500000e+02</td>\n",
       "      <td>635.000000</td>\n",
       "      <td>622.000000</td>\n",
       "    </tr>\n",
       "    <tr>\n",
       "      <th>mean</th>\n",
       "      <td>325.50000</td>\n",
       "      <td>2012.150769</td>\n",
       "      <td>116.489231</td>\n",
       "      <td>6.794308</td>\n",
       "      <td>2.207926e+05</td>\n",
       "      <td>7.171900e+07</td>\n",
       "      <td>100.509638</td>\n",
       "      <td>58.122186</td>\n",
       "    </tr>\n",
       "    <tr>\n",
       "      <th>std</th>\n",
       "      <td>187.78312</td>\n",
       "      <td>3.201315</td>\n",
       "      <td>18.178978</td>\n",
       "      <td>0.890256</td>\n",
       "      <td>2.016583e+05</td>\n",
       "      <td>6.285016e+07</td>\n",
       "      <td>103.665885</td>\n",
       "      <td>16.813781</td>\n",
       "    </tr>\n",
       "    <tr>\n",
       "      <th>min</th>\n",
       "      <td>1.00000</td>\n",
       "      <td>2006.000000</td>\n",
       "      <td>80.000000</td>\n",
       "      <td>1.900000</td>\n",
       "      <td>5.520000e+02</td>\n",
       "      <td>9.500000e+06</td>\n",
       "      <td>0.050000</td>\n",
       "      <td>11.000000</td>\n",
       "    </tr>\n",
       "    <tr>\n",
       "      <th>25%</th>\n",
       "      <td>163.25000</td>\n",
       "      <td>2010.000000</td>\n",
       "      <td>103.000000</td>\n",
       "      <td>6.300000</td>\n",
       "      <td>8.479700e+04</td>\n",
       "      <td>2.500000e+07</td>\n",
       "      <td>31.155000</td>\n",
       "      <td>46.000000</td>\n",
       "    </tr>\n",
       "    <tr>\n",
       "      <th>50%</th>\n",
       "      <td>325.50000</td>\n",
       "      <td>2013.000000</td>\n",
       "      <td>114.000000</td>\n",
       "      <td>6.800000</td>\n",
       "      <td>1.689790e+05</td>\n",
       "      <td>4.775000e+07</td>\n",
       "      <td>64.060000</td>\n",
       "      <td>58.000000</td>\n",
       "    </tr>\n",
       "    <tr>\n",
       "      <th>75%</th>\n",
       "      <td>487.75000</td>\n",
       "      <td>2015.000000</td>\n",
       "      <td>126.000000</td>\n",
       "      <td>7.475000</td>\n",
       "      <td>2.984842e+05</td>\n",
       "      <td>1.000000e+08</td>\n",
       "      <td>136.705000</td>\n",
       "      <td>70.000000</td>\n",
       "    </tr>\n",
       "    <tr>\n",
       "      <th>max</th>\n",
       "      <td>650.00000</td>\n",
       "      <td>2016.000000</td>\n",
       "      <td>191.000000</td>\n",
       "      <td>9.000000</td>\n",
       "      <td>1.791916e+06</td>\n",
       "      <td>3.790000e+08</td>\n",
       "      <td>760.510000</td>\n",
       "      <td>96.000000</td>\n",
       "    </tr>\n",
       "  </tbody>\n",
       "</table>\n",
       "</div>"
      ],
      "text/plain": [
       "            rank         year  runtime_minutes      rating         votes  \\\n",
       "count  650.00000   650.000000       650.000000  650.000000  6.500000e+02   \n",
       "mean   325.50000  2012.150769       116.489231    6.794308  2.207926e+05   \n",
       "std    187.78312     3.201315        18.178978    0.890256  2.016583e+05   \n",
       "min      1.00000  2006.000000        80.000000    1.900000  5.520000e+02   \n",
       "25%    163.25000  2010.000000       103.000000    6.300000  8.479700e+04   \n",
       "50%    325.50000  2013.000000       114.000000    6.800000  1.689790e+05   \n",
       "75%    487.75000  2015.000000       126.000000    7.475000  2.984842e+05   \n",
       "max    650.00000  2016.000000       191.000000    9.000000  1.791916e+06   \n",
       "\n",
       "       production_budget  revenue_millions   metascore  \n",
       "count       6.500000e+02        635.000000  622.000000  \n",
       "mean        7.171900e+07        100.509638   58.122186  \n",
       "std         6.285016e+07        103.665885   16.813781  \n",
       "min         9.500000e+06          0.050000   11.000000  \n",
       "25%         2.500000e+07         31.155000   46.000000  \n",
       "50%         4.775000e+07         64.060000   58.000000  \n",
       "75%         1.000000e+08        136.705000   70.000000  \n",
       "max         3.790000e+08        760.510000   96.000000  "
      ]
     },
     "execution_count": 387,
     "metadata": {},
     "output_type": "execute_result"
    }
   ],
   "source": [
    "movies.describe()"
   ]
  },
  {
   "cell_type": "markdown",
   "id": "2ebfd4ee",
   "metadata": {},
   "source": [
    "You may have noticed that the \"count\" is lower for certain columns. This is because the summary statistics are based on *non-missing* values and count reflects that.\n",
    "\n",
    "The values depend on what it's called on. If the `DataFrame` includes both numeric and object (e.g., strings) `dtype`s, it will default to summarizing the numeric data. If `describe` is called on strings, for example, it will return the count, number of unique values, and the most frequent value along with its count."
   ]
  },
  {
   "cell_type": "code",
   "execution_count": 388,
   "id": "467d8c44",
   "metadata": {},
   "outputs": [
    {
     "data": {
      "text/plain": [
       "count    650.000000\n",
       "mean       6.794308\n",
       "std        0.890256\n",
       "min        1.900000\n",
       "25%        6.300000\n",
       "50%        6.800000\n",
       "75%        7.475000\n",
       "max        9.000000\n",
       "Name: rating, dtype: float64"
      ]
     },
     "execution_count": 388,
     "metadata": {},
     "output_type": "execute_result"
    }
   ],
   "source": [
    "#describe works on series too\n",
    "movies.rating.describe()"
   ]
  },
  {
   "cell_type": "code",
   "execution_count": 389,
   "id": "bda28107",
   "metadata": {},
   "outputs": [
    {
     "data": {
      "text/plain": [
       "(6.794307692307691, 6.8)"
      ]
     },
     "execution_count": 389,
     "metadata": {},
     "output_type": "execute_result"
    }
   ],
   "source": [
    "#mean, median\n",
    "movies.rating.mean(), movies.rating.median()"
   ]
  },
  {
   "cell_type": "markdown",
   "id": "2368732b",
   "metadata": {},
   "source": [
    "What if you're interested in knowing what are the best or worst rated movies?\n",
    "\n",
    "The `nlargest` and `nsmallest` methods can be of assistance."
   ]
  },
  {
   "cell_type": "code",
   "execution_count": 390,
   "id": "1566f220",
   "metadata": {},
   "outputs": [
    {
     "data": {
      "text/plain": [
       "35    9.0\n",
       "57    8.8\n",
       "83    8.8\n",
       "25    8.6\n",
       "42    8.5\n",
       "Name: rating, dtype: float64"
      ]
     },
     "execution_count": 390,
     "metadata": {},
     "output_type": "execute_result"
    }
   ],
   "source": [
    "#Show the 5 best films\n",
    "movies.rating.nlargest()"
   ]
  },
  {
   "cell_type": "markdown",
   "id": "34b47226",
   "metadata": {},
   "source": [
    "The `n` parameter's default is set to 5. \n",
    "\n",
    "However we only see the `rating` values and not the movie titles associated with them. \n",
    "\n",
    "\n",
    "Using `nlargest` with the `columns` parameter set to `ratigin` on `movies` to achieve this."
   ]
  },
  {
   "cell_type": "code",
   "execution_count": 391,
   "id": "9ca835d4",
   "metadata": {},
   "outputs": [
    {
     "data": {
      "text/html": [
       "<div>\n",
       "<style scoped>\n",
       "    .dataframe tbody tr th:only-of-type {\n",
       "        vertical-align: middle;\n",
       "    }\n",
       "\n",
       "    .dataframe tbody tr th {\n",
       "        vertical-align: top;\n",
       "    }\n",
       "\n",
       "    .dataframe thead th {\n",
       "        text-align: right;\n",
       "    }\n",
       "</style>\n",
       "<table border=\"1\" class=\"dataframe\">\n",
       "  <thead>\n",
       "    <tr style=\"text-align: right;\">\n",
       "      <th></th>\n",
       "      <th>title</th>\n",
       "      <th>rating</th>\n",
       "    </tr>\n",
       "  </thead>\n",
       "  <tbody>\n",
       "    <tr>\n",
       "      <th>35</th>\n",
       "      <td>The Dark Knight</td>\n",
       "      <td>9.0</td>\n",
       "    </tr>\n",
       "    <tr>\n",
       "      <th>57</th>\n",
       "      <td>Inception</td>\n",
       "      <td>8.8</td>\n",
       "    </tr>\n",
       "    <tr>\n",
       "      <th>83</th>\n",
       "      <td>Dangal</td>\n",
       "      <td>8.8</td>\n",
       "    </tr>\n",
       "    <tr>\n",
       "      <th>25</th>\n",
       "      <td>Interstellar</td>\n",
       "      <td>8.6</td>\n",
       "    </tr>\n",
       "    <tr>\n",
       "      <th>42</th>\n",
       "      <td>The Prestige</td>\n",
       "      <td>8.5</td>\n",
       "    </tr>\n",
       "  </tbody>\n",
       "</table>\n",
       "</div>"
      ],
      "text/plain": [
       "              title  rating\n",
       "35  The Dark Knight     9.0\n",
       "57        Inception     8.8\n",
       "83           Dangal     8.8\n",
       "25     Interstellar     8.6\n",
       "42     The Prestige     8.5"
      ]
     },
     "execution_count": 391,
     "metadata": {},
     "output_type": "execute_result"
    }
   ],
   "source": [
    "#Dataframe version of .nlargest()\n",
    "movies.nlargest(n = 5, columns=\"rating\")[[\"title\", \"rating\"]]"
   ]
  },
  {
   "cell_type": "markdown",
   "id": "b92aba7c",
   "metadata": {},
   "source": [
    "Conversely we can use `nsmallest` to output the worst films."
   ]
  },
  {
   "cell_type": "code",
   "execution_count": 392,
   "id": "6e1f7e50",
   "metadata": {},
   "outputs": [
    {
     "data": {
      "text/html": [
       "<div>\n",
       "<style scoped>\n",
       "    .dataframe tbody tr th:only-of-type {\n",
       "        vertical-align: middle;\n",
       "    }\n",
       "\n",
       "    .dataframe tbody tr th {\n",
       "        vertical-align: top;\n",
       "    }\n",
       "\n",
       "    .dataframe thead th {\n",
       "        text-align: right;\n",
       "    }\n",
       "</style>\n",
       "<table border=\"1\" class=\"dataframe\">\n",
       "  <thead>\n",
       "    <tr style=\"text-align: right;\">\n",
       "      <th></th>\n",
       "      <th>title</th>\n",
       "      <th>rating</th>\n",
       "    </tr>\n",
       "  </thead>\n",
       "  <tbody>\n",
       "    <tr>\n",
       "      <th>546</th>\n",
       "      <td>Disaster Movie</td>\n",
       "      <td>1.9</td>\n",
       "    </tr>\n",
       "    <tr>\n",
       "      <th>569</th>\n",
       "      <td>Dragonball Evolution</td>\n",
       "      <td>2.7</td>\n",
       "    </tr>\n",
       "    <tr>\n",
       "      <th>160</th>\n",
       "      <td>The Disappointments Room</td>\n",
       "      <td>3.9</td>\n",
       "    </tr>\n",
       "    <tr>\n",
       "      <th>362</th>\n",
       "      <td>Birth of the Dragon</td>\n",
       "      <td>3.9</td>\n",
       "    </tr>\n",
       "    <tr>\n",
       "      <th>41</th>\n",
       "      <td>Fifty Shades of Grey</td>\n",
       "      <td>4.1</td>\n",
       "    </tr>\n",
       "  </tbody>\n",
       "</table>\n",
       "</div>"
      ],
      "text/plain": [
       "                        title  rating\n",
       "546            Disaster Movie     1.9\n",
       "569      Dragonball Evolution     2.7\n",
       "160  The Disappointments Room     3.9\n",
       "362       Birth of the Dragon     3.9\n",
       "41       Fifty Shades of Grey     4.1"
      ]
     },
     "execution_count": 392,
     "metadata": {},
     "output_type": "execute_result"
    }
   ],
   "source": [
    "#Dataframe version of .nlargest()\n",
    "movies.nsmallest(n = 5, columns=\"rating\")[[\"title\", \"rating\"]]"
   ]
  },
  {
   "cell_type": "code",
   "execution_count": null,
   "id": "f3ea9a92",
   "metadata": {},
   "outputs": [],
   "source": []
  },
  {
   "cell_type": "markdown",
   "id": "0bd5f971",
   "metadata": {},
   "source": [
    "The `movies` dataset has some interesting categorical data that we should examine as well.\n",
    "\n",
    "Let's find out what the various genres are at our disposal."
   ]
  },
  {
   "cell_type": "code",
   "execution_count": 393,
   "id": "5f8b1c2e",
   "metadata": {},
   "outputs": [],
   "source": [
    "g_type = movies.genre1"
   ]
  },
  {
   "cell_type": "code",
   "execution_count": 394,
   "id": "50d6b425",
   "metadata": {},
   "outputs": [
    {
     "data": {
      "text/plain": [
       "array(['Action', 'Adventure', 'Animation', 'Comedy', 'Biography', 'Drama',\n",
       "       'Crime', 'Mystery', 'Horror', 'Sci-Fi', 'Fantasy', 'Romance'],\n",
       "      dtype=object)"
      ]
     },
     "execution_count": 394,
     "metadata": {},
     "output_type": "execute_result"
    }
   ],
   "source": [
    "#Show the unique pokemon types\n",
    "g_type.unique()"
   ]
  },
  {
   "cell_type": "code",
   "execution_count": 395,
   "id": "3e673966",
   "metadata": {},
   "outputs": [
    {
     "data": {
      "text/plain": [
       "12"
      ]
     },
     "execution_count": 395,
     "metadata": {},
     "output_type": "execute_result"
    }
   ],
   "source": [
    "#Number of uniques\n",
    "g_type.nunique()"
   ]
  },
  {
   "cell_type": "markdown",
   "id": "c3d095ee",
   "metadata": {},
   "source": [
    "The `value_counts` method can tell us how the frequencies of each genre."
   ]
  },
  {
   "cell_type": "code",
   "execution_count": 396,
   "id": "abf94737",
   "metadata": {},
   "outputs": [
    {
     "data": {
      "text/plain": [
       "Action       247\n",
       "Comedy        97\n",
       "Drama         91\n",
       "Adventure     57\n",
       "Biography     46\n",
       "Animation     44\n",
       "Crime         43\n",
       "Horror        13\n",
       "Mystery        7\n",
       "Fantasy        3\n",
       "Sci-Fi         1\n",
       "Romance        1\n",
       "Name: genre1, dtype: int64"
      ]
     },
     "execution_count": 396,
     "metadata": {},
     "output_type": "execute_result"
    }
   ],
   "source": [
    "g_type.value_counts()"
   ]
  },
  {
   "cell_type": "markdown",
   "id": "5b5ccc33",
   "metadata": {},
   "source": [
    "What if we're interested in proportions? Set the `normalize` parameter to `True` in the `value_counts`."
   ]
  },
  {
   "cell_type": "code",
   "execution_count": 397,
   "id": "9427aeec",
   "metadata": {},
   "outputs": [
    {
     "data": {
      "text/plain": [
       "Action       0.38\n",
       "Comedy       0.15\n",
       "Drama        0.14\n",
       "Adventure    0.09\n",
       "Biography    0.07\n",
       "Animation    0.07\n",
       "Crime        0.07\n",
       "Horror       0.02\n",
       "Mystery      0.01\n",
       "Fantasy      0.00\n",
       "Sci-Fi       0.00\n",
       "Romance      0.00\n",
       "Name: genre1, dtype: float64"
      ]
     },
     "execution_count": 397,
     "metadata": {},
     "output_type": "execute_result"
    }
   ],
   "source": [
    "g_type.value_counts(normalize = True).round(2)"
   ]
  },
  {
   "cell_type": "markdown",
   "id": "66be5cec",
   "metadata": {},
   "source": [
    "A common task for exploratory data analysis is looking at the correlations in your dataset. I'm interested to see if there a number of similar attributes in the dataset. \n",
    "\n",
    "We can use the `corr` method to return a table of all the correlations between pairs of numerical columns."
   ]
  },
  {
   "cell_type": "code",
   "execution_count": 398,
   "id": "714ad935",
   "metadata": {},
   "outputs": [
    {
     "data": {
      "text/html": [
       "<div>\n",
       "<style scoped>\n",
       "    .dataframe tbody tr th:only-of-type {\n",
       "        vertical-align: middle;\n",
       "    }\n",
       "\n",
       "    .dataframe tbody tr th {\n",
       "        vertical-align: top;\n",
       "    }\n",
       "\n",
       "    .dataframe thead th {\n",
       "        text-align: right;\n",
       "    }\n",
       "</style>\n",
       "<table border=\"1\" class=\"dataframe\">\n",
       "  <thead>\n",
       "    <tr style=\"text-align: right;\">\n",
       "      <th></th>\n",
       "      <th>rank</th>\n",
       "      <th>year</th>\n",
       "      <th>runtime_minutes</th>\n",
       "      <th>rating</th>\n",
       "      <th>votes</th>\n",
       "      <th>production_budget</th>\n",
       "      <th>revenue_millions</th>\n",
       "      <th>metascore</th>\n",
       "    </tr>\n",
       "  </thead>\n",
       "  <tbody>\n",
       "    <tr>\n",
       "      <th>rank</th>\n",
       "      <td>1.000000</td>\n",
       "      <td>-0.333689</td>\n",
       "      <td>-0.274296</td>\n",
       "      <td>-0.280972</td>\n",
       "      <td>-0.324932</td>\n",
       "      <td>-0.210333</td>\n",
       "      <td>-0.277772</td>\n",
       "      <td>-0.231238</td>\n",
       "    </tr>\n",
       "    <tr>\n",
       "      <th>year</th>\n",
       "      <td>-0.333689</td>\n",
       "      <td>1.000000</td>\n",
       "      <td>-0.085941</td>\n",
       "      <td>-0.160378</td>\n",
       "      <td>-0.299952</td>\n",
       "      <td>-0.026334</td>\n",
       "      <td>-0.061315</td>\n",
       "      <td>-0.136954</td>\n",
       "    </tr>\n",
       "    <tr>\n",
       "      <th>runtime_minutes</th>\n",
       "      <td>-0.274296</td>\n",
       "      <td>-0.085941</td>\n",
       "      <td>1.000000</td>\n",
       "      <td>0.362170</td>\n",
       "      <td>0.398036</td>\n",
       "      <td>0.316672</td>\n",
       "      <td>0.241962</td>\n",
       "      <td>0.257466</td>\n",
       "    </tr>\n",
       "    <tr>\n",
       "      <th>rating</th>\n",
       "      <td>-0.280972</td>\n",
       "      <td>-0.160378</td>\n",
       "      <td>0.362170</td>\n",
       "      <td>1.000000</td>\n",
       "      <td>0.566135</td>\n",
       "      <td>0.065416</td>\n",
       "      <td>0.265500</td>\n",
       "      <td>0.718664</td>\n",
       "    </tr>\n",
       "    <tr>\n",
       "      <th>votes</th>\n",
       "      <td>-0.324932</td>\n",
       "      <td>-0.299952</td>\n",
       "      <td>0.398036</td>\n",
       "      <td>0.566135</td>\n",
       "      <td>1.000000</td>\n",
       "      <td>0.399216</td>\n",
       "      <td>0.616704</td>\n",
       "      <td>0.439823</td>\n",
       "    </tr>\n",
       "    <tr>\n",
       "      <th>production_budget</th>\n",
       "      <td>-0.210333</td>\n",
       "      <td>-0.026334</td>\n",
       "      <td>0.316672</td>\n",
       "      <td>0.065416</td>\n",
       "      <td>0.399216</td>\n",
       "      <td>1.000000</td>\n",
       "      <td>0.628123</td>\n",
       "      <td>0.014072</td>\n",
       "    </tr>\n",
       "    <tr>\n",
       "      <th>revenue_millions</th>\n",
       "      <td>-0.277772</td>\n",
       "      <td>-0.061315</td>\n",
       "      <td>0.241962</td>\n",
       "      <td>0.265500</td>\n",
       "      <td>0.616704</td>\n",
       "      <td>0.628123</td>\n",
       "      <td>1.000000</td>\n",
       "      <td>0.244527</td>\n",
       "    </tr>\n",
       "    <tr>\n",
       "      <th>metascore</th>\n",
       "      <td>-0.231238</td>\n",
       "      <td>-0.136954</td>\n",
       "      <td>0.257466</td>\n",
       "      <td>0.718664</td>\n",
       "      <td>0.439823</td>\n",
       "      <td>0.014072</td>\n",
       "      <td>0.244527</td>\n",
       "      <td>1.000000</td>\n",
       "    </tr>\n",
       "  </tbody>\n",
       "</table>\n",
       "</div>"
      ],
      "text/plain": [
       "                       rank      year  runtime_minutes    rating     votes  \\\n",
       "rank               1.000000 -0.333689        -0.274296 -0.280972 -0.324932   \n",
       "year              -0.333689  1.000000        -0.085941 -0.160378 -0.299952   \n",
       "runtime_minutes   -0.274296 -0.085941         1.000000  0.362170  0.398036   \n",
       "rating            -0.280972 -0.160378         0.362170  1.000000  0.566135   \n",
       "votes             -0.324932 -0.299952         0.398036  0.566135  1.000000   \n",
       "production_budget -0.210333 -0.026334         0.316672  0.065416  0.399216   \n",
       "revenue_millions  -0.277772 -0.061315         0.241962  0.265500  0.616704   \n",
       "metascore         -0.231238 -0.136954         0.257466  0.718664  0.439823   \n",
       "\n",
       "                   production_budget  revenue_millions  metascore  \n",
       "rank                       -0.210333         -0.277772  -0.231238  \n",
       "year                       -0.026334         -0.061315  -0.136954  \n",
       "runtime_minutes             0.316672          0.241962   0.257466  \n",
       "rating                      0.065416          0.265500   0.718664  \n",
       "votes                       0.399216          0.616704   0.439823  \n",
       "production_budget           1.000000          0.628123   0.014072  \n",
       "revenue_millions            0.628123          1.000000   0.244527  \n",
       "metascore                   0.014072          0.244527   1.000000  "
      ]
     },
     "execution_count": 398,
     "metadata": {},
     "output_type": "execute_result"
    }
   ],
   "source": [
    "movies.corr()"
   ]
  },
  {
   "cell_type": "code",
   "execution_count": 399,
   "id": "e523e021",
   "metadata": {},
   "outputs": [
    {
     "data": {
      "text/plain": [
       "rank                -0.277772\n",
       "year                -0.061315\n",
       "runtime_minutes      0.241962\n",
       "rating               0.265500\n",
       "votes                0.616704\n",
       "production_budget    0.628123\n",
       "revenue_millions     1.000000\n",
       "metascore            0.244527\n",
       "Name: revenue_millions, dtype: float64"
      ]
     },
     "execution_count": 399,
     "metadata": {},
     "output_type": "execute_result"
    }
   ],
   "source": [
    "#What are all the correlations for the revenue_millions column?\n",
    "movies.corr()[\"revenue_millions\"]\n"
   ]
  },
  {
   "cell_type": "code",
   "execution_count": 400,
   "id": "15370d33",
   "metadata": {},
   "outputs": [
    {
     "data": {
      "text/plain": [
       "0.26549981017314617"
      ]
     },
     "execution_count": 400,
     "metadata": {},
     "output_type": "execute_result"
    }
   ],
   "source": [
    "#Whats the correlation between rating and revenue_millions?\n",
    "movies.corr().loc[\"rating\", \"revenue_millions\"]"
   ]
  },
  {
   "cell_type": "markdown",
   "id": "15bb502f",
   "metadata": {},
   "source": [
    "### Challenge 3: Analyzing Census Data\n",
    "\n",
    "Using the census data we imported earlier, complete the following tasks.\n",
    "- How many counties does each state have?\n",
    "- What are the average and standard deviation for county population\n",
    "- What columns have the highest correlations with poverty?"
   ]
  },
  {
   "cell_type": "code",
   "execution_count": 401,
   "id": "83c52143",
   "metadata": {},
   "outputs": [
    {
     "data": {
      "text/plain": [
       "Index(['CensusId', 'State', 'County', 'TotalPop', 'Men', 'Women', 'Hispanic',\n",
       "       'White', 'Black', 'Native', 'Asian', 'Pacific', 'Citizen', 'Income',\n",
       "       'IncomeErr', 'IncomePerCap', 'IncomePerCapErr', 'Poverty',\n",
       "       'ChildPoverty', 'Professional', 'Service', 'Office', 'Construction',\n",
       "       'Production', 'Drive', 'Carpool', 'Transit', 'Walk', 'OtherTransp',\n",
       "       'WorkAtHome', 'MeanCommute', 'Employed', 'PrivateWork', 'PublicWork',\n",
       "       'SelfEmployed', 'FamilyWork', 'Unemployment'],\n",
       "      dtype='object')"
      ]
     },
     "execution_count": 401,
     "metadata": {},
     "output_type": "execute_result"
    }
   ],
   "source": [
    "census.columns"
   ]
  },
  {
   "cell_type": "code",
   "execution_count": 402,
   "id": "2f025a09",
   "metadata": {},
   "outputs": [
    {
     "data": {
      "text/html": [
       "<div>\n",
       "<style scoped>\n",
       "    .dataframe tbody tr th:only-of-type {\n",
       "        vertical-align: middle;\n",
       "    }\n",
       "\n",
       "    .dataframe tbody tr th {\n",
       "        vertical-align: top;\n",
       "    }\n",
       "\n",
       "    .dataframe thead th {\n",
       "        text-align: right;\n",
       "    }\n",
       "</style>\n",
       "<table border=\"1\" class=\"dataframe\">\n",
       "  <thead>\n",
       "    <tr style=\"text-align: right;\">\n",
       "      <th></th>\n",
       "      <th>CensusId</th>\n",
       "      <th>State</th>\n",
       "      <th>County</th>\n",
       "      <th>TotalPop</th>\n",
       "      <th>Men</th>\n",
       "      <th>Women</th>\n",
       "      <th>Hispanic</th>\n",
       "      <th>White</th>\n",
       "      <th>Black</th>\n",
       "      <th>Native</th>\n",
       "      <th>...</th>\n",
       "      <th>Walk</th>\n",
       "      <th>OtherTransp</th>\n",
       "      <th>WorkAtHome</th>\n",
       "      <th>MeanCommute</th>\n",
       "      <th>Employed</th>\n",
       "      <th>PrivateWork</th>\n",
       "      <th>PublicWork</th>\n",
       "      <th>SelfEmployed</th>\n",
       "      <th>FamilyWork</th>\n",
       "      <th>Unemployment</th>\n",
       "    </tr>\n",
       "  </thead>\n",
       "  <tbody>\n",
       "    <tr>\n",
       "      <th>0</th>\n",
       "      <td>1001</td>\n",
       "      <td>Alabama</td>\n",
       "      <td>Autauga</td>\n",
       "      <td>55221</td>\n",
       "      <td>26745</td>\n",
       "      <td>28476</td>\n",
       "      <td>2.6</td>\n",
       "      <td>75.8</td>\n",
       "      <td>18.5</td>\n",
       "      <td>0.4</td>\n",
       "      <td>...</td>\n",
       "      <td>0.5</td>\n",
       "      <td>1.3</td>\n",
       "      <td>1.8</td>\n",
       "      <td>26.5</td>\n",
       "      <td>23986</td>\n",
       "      <td>73.6</td>\n",
       "      <td>20.9</td>\n",
       "      <td>5.5</td>\n",
       "      <td>0.0</td>\n",
       "      <td>7.6</td>\n",
       "    </tr>\n",
       "    <tr>\n",
       "      <th>1</th>\n",
       "      <td>1003</td>\n",
       "      <td>Alabama</td>\n",
       "      <td>Baldwin</td>\n",
       "      <td>195121</td>\n",
       "      <td>95314</td>\n",
       "      <td>99807</td>\n",
       "      <td>4.5</td>\n",
       "      <td>83.1</td>\n",
       "      <td>9.5</td>\n",
       "      <td>0.6</td>\n",
       "      <td>...</td>\n",
       "      <td>1.0</td>\n",
       "      <td>1.4</td>\n",
       "      <td>3.9</td>\n",
       "      <td>26.4</td>\n",
       "      <td>85953</td>\n",
       "      <td>81.5</td>\n",
       "      <td>12.3</td>\n",
       "      <td>5.8</td>\n",
       "      <td>0.4</td>\n",
       "      <td>7.5</td>\n",
       "    </tr>\n",
       "    <tr>\n",
       "      <th>2</th>\n",
       "      <td>1005</td>\n",
       "      <td>Alabama</td>\n",
       "      <td>Barbour</td>\n",
       "      <td>26932</td>\n",
       "      <td>14497</td>\n",
       "      <td>12435</td>\n",
       "      <td>4.6</td>\n",
       "      <td>46.2</td>\n",
       "      <td>46.7</td>\n",
       "      <td>0.2</td>\n",
       "      <td>...</td>\n",
       "      <td>1.8</td>\n",
       "      <td>1.5</td>\n",
       "      <td>1.6</td>\n",
       "      <td>24.1</td>\n",
       "      <td>8597</td>\n",
       "      <td>71.8</td>\n",
       "      <td>20.8</td>\n",
       "      <td>7.3</td>\n",
       "      <td>0.1</td>\n",
       "      <td>17.6</td>\n",
       "    </tr>\n",
       "    <tr>\n",
       "      <th>3</th>\n",
       "      <td>1007</td>\n",
       "      <td>Alabama</td>\n",
       "      <td>Bibb</td>\n",
       "      <td>22604</td>\n",
       "      <td>12073</td>\n",
       "      <td>10531</td>\n",
       "      <td>2.2</td>\n",
       "      <td>74.5</td>\n",
       "      <td>21.4</td>\n",
       "      <td>0.4</td>\n",
       "      <td>...</td>\n",
       "      <td>0.6</td>\n",
       "      <td>1.5</td>\n",
       "      <td>0.7</td>\n",
       "      <td>28.8</td>\n",
       "      <td>8294</td>\n",
       "      <td>76.8</td>\n",
       "      <td>16.1</td>\n",
       "      <td>6.7</td>\n",
       "      <td>0.4</td>\n",
       "      <td>8.3</td>\n",
       "    </tr>\n",
       "    <tr>\n",
       "      <th>4</th>\n",
       "      <td>1009</td>\n",
       "      <td>Alabama</td>\n",
       "      <td>Blount</td>\n",
       "      <td>57710</td>\n",
       "      <td>28512</td>\n",
       "      <td>29198</td>\n",
       "      <td>8.6</td>\n",
       "      <td>87.9</td>\n",
       "      <td>1.5</td>\n",
       "      <td>0.3</td>\n",
       "      <td>...</td>\n",
       "      <td>0.9</td>\n",
       "      <td>0.4</td>\n",
       "      <td>2.3</td>\n",
       "      <td>34.9</td>\n",
       "      <td>22189</td>\n",
       "      <td>82.0</td>\n",
       "      <td>13.5</td>\n",
       "      <td>4.2</td>\n",
       "      <td>0.4</td>\n",
       "      <td>7.7</td>\n",
       "    </tr>\n",
       "  </tbody>\n",
       "</table>\n",
       "<p>5 rows × 37 columns</p>\n",
       "</div>"
      ],
      "text/plain": [
       "   CensusId    State   County  TotalPop    Men  Women  Hispanic  White  Black  \\\n",
       "0      1001  Alabama  Autauga     55221  26745  28476       2.6   75.8   18.5   \n",
       "1      1003  Alabama  Baldwin    195121  95314  99807       4.5   83.1    9.5   \n",
       "2      1005  Alabama  Barbour     26932  14497  12435       4.6   46.2   46.7   \n",
       "3      1007  Alabama     Bibb     22604  12073  10531       2.2   74.5   21.4   \n",
       "4      1009  Alabama   Blount     57710  28512  29198       8.6   87.9    1.5   \n",
       "\n",
       "   Native  ...  Walk  OtherTransp  WorkAtHome  MeanCommute  Employed  \\\n",
       "0     0.4  ...   0.5          1.3         1.8         26.5     23986   \n",
       "1     0.6  ...   1.0          1.4         3.9         26.4     85953   \n",
       "2     0.2  ...   1.8          1.5         1.6         24.1      8597   \n",
       "3     0.4  ...   0.6          1.5         0.7         28.8      8294   \n",
       "4     0.3  ...   0.9          0.4         2.3         34.9     22189   \n",
       "\n",
       "   PrivateWork  PublicWork  SelfEmployed  FamilyWork  Unemployment  \n",
       "0         73.6        20.9           5.5         0.0           7.6  \n",
       "1         81.5        12.3           5.8         0.4           7.5  \n",
       "2         71.8        20.8           7.3         0.1          17.6  \n",
       "3         76.8        16.1           6.7         0.4           8.3  \n",
       "4         82.0        13.5           4.2         0.4           7.7  \n",
       "\n",
       "[5 rows x 37 columns]"
      ]
     },
     "execution_count": 402,
     "metadata": {},
     "output_type": "execute_result"
    }
   ],
   "source": [
    "census.head()"
   ]
  },
  {
   "cell_type": "code",
   "execution_count": 403,
   "id": "6bc41f1f",
   "metadata": {},
   "outputs": [
    {
     "data": {
      "text/plain": [
       "Texas       254\n",
       "Georgia     159\n",
       "Virginia    133\n",
       "Kentucky    120\n",
       "Missouri    115\n",
       "Name: State, dtype: int64"
      ]
     },
     "execution_count": 403,
     "metadata": {},
     "output_type": "execute_result"
    }
   ],
   "source": [
    "#Task1\n",
    "census.State.value_counts().head()"
   ]
  },
  {
   "cell_type": "code",
   "execution_count": 404,
   "id": "9a978839",
   "metadata": {},
   "outputs": [
    {
     "data": {
      "text/plain": [
       "(99409.34596273291, 319305.45373083575)"
      ]
     },
     "execution_count": 404,
     "metadata": {},
     "output_type": "execute_result"
    }
   ],
   "source": [
    "#Task2\n",
    "census.TotalPop.mean(), census.TotalPop.std()"
   ]
  },
  {
   "cell_type": "code",
   "execution_count": 405,
   "id": "ea545764",
   "metadata": {},
   "outputs": [
    {
     "data": {
      "text/plain": [
       "Poverty         1.000000\n",
       "ChildPoverty    0.932480\n",
       "Unemployment    0.712344\n",
       "Hispanic        0.482186\n",
       "Service         0.400369\n",
       "Name: Poverty, dtype: float64"
      ]
     },
     "execution_count": 405,
     "metadata": {},
     "output_type": "execute_result"
    }
   ],
   "source": [
    "#Task3\n",
    "census.corr()[\"Poverty\"].nlargest()"
   ]
  },
  {
   "cell_type": "code",
   "execution_count": null,
   "id": "d8015fb0",
   "metadata": {},
   "outputs": [],
   "source": []
  },
  {
   "cell_type": "markdown",
   "id": "f973c21a",
   "metadata": {},
   "source": [
    "## 4. Manipulating Data <a id=\"section4\"/>"
   ]
  },
  {
   "cell_type": "markdown",
   "id": "bb2e0b81",
   "metadata": {},
   "source": [
    "The vast majority of work done with data consists of cleaning, transforming, and other forms reshaping it to your needs. More often than not data you receive will have missing values (nulls), come in an unfriendly format, and have misspelled labels.\n",
    "\n",
    "Data preparation is a necessary pre-requisite to tasks such as data visualization and machine learning. A machine learning model can't process missing or non-numerical data, so it's incumbent on you to feed prep your data for the model.\n",
    "\n",
    "Luckily for us, pandas has provides relatively easy and intuitive tools which we can use to reconfigure our data."
   ]
  },
  {
   "cell_type": "markdown",
   "id": "60598e83",
   "metadata": {},
   "source": [
    "#### Sorting\n",
    "\n",
    "We touched on the idea of ordering data earlier with `nlargest` and `nsmallest` but sometimes we may need to turn to `sort_values` for permantently ordering data or sorting by multiple columns."
   ]
  },
  {
   "cell_type": "markdown",
   "id": "accac559",
   "metadata": {},
   "source": [
    "The `ascending` parameter defaults to `True` which means it orders data from least to greatest. Set it to `False` to to reverse that order. "
   ]
  },
  {
   "cell_type": "code",
   "execution_count": 406,
   "id": "ed53ac5f",
   "metadata": {},
   "outputs": [
    {
     "data": {
      "text/plain": [
       "83       9500000\n",
       "368      9900000\n",
       "515     10000000\n",
       "297     10000000\n",
       "518     10000000\n",
       "         ...    \n",
       "39     263000000\n",
       "270    263700000\n",
       "124    300000000\n",
       "69     365000000\n",
       "30     379000000\n",
       "Name: production_budget, Length: 650, dtype: int64"
      ]
     },
     "execution_count": 406,
     "metadata": {},
     "output_type": "execute_result"
    }
   ],
   "source": [
    "#Series version\n",
    "movies.production_budget.sort_values()"
   ]
  },
  {
   "cell_type": "code",
   "execution_count": 407,
   "id": "5e5692c9",
   "metadata": {},
   "outputs": [
    {
     "data": {
      "text/html": [
       "<div>\n",
       "<style scoped>\n",
       "    .dataframe tbody tr th:only-of-type {\n",
       "        vertical-align: middle;\n",
       "    }\n",
       "\n",
       "    .dataframe tbody tr th {\n",
       "        vertical-align: top;\n",
       "    }\n",
       "\n",
       "    .dataframe thead th {\n",
       "        text-align: right;\n",
       "    }\n",
       "</style>\n",
       "<table border=\"1\" class=\"dataframe\">\n",
       "  <thead>\n",
       "    <tr style=\"text-align: right;\">\n",
       "      <th></th>\n",
       "      <th>rank</th>\n",
       "      <th>title</th>\n",
       "      <th>description</th>\n",
       "      <th>director</th>\n",
       "      <th>actors</th>\n",
       "      <th>year</th>\n",
       "      <th>runtime_minutes</th>\n",
       "      <th>rating</th>\n",
       "      <th>votes</th>\n",
       "      <th>production_budget</th>\n",
       "      <th>revenue_millions</th>\n",
       "      <th>metascore</th>\n",
       "      <th>genre1</th>\n",
       "      <th>genre2</th>\n",
       "      <th>genre3</th>\n",
       "    </tr>\n",
       "  </thead>\n",
       "  <tbody>\n",
       "    <tr>\n",
       "      <th>83</th>\n",
       "      <td>84</td>\n",
       "      <td>Dangal</td>\n",
       "      <td>Former wrestler Mahavir Singh Phogat and his t...</td>\n",
       "      <td>Nitesh Tiwari</td>\n",
       "      <td>Aamir Khan, Sakshi Tanwar, Fatima Sana Shaikh,...</td>\n",
       "      <td>2016</td>\n",
       "      <td>161</td>\n",
       "      <td>8.8</td>\n",
       "      <td>48969</td>\n",
       "      <td>9500000</td>\n",
       "      <td>11.15</td>\n",
       "      <td>NaN</td>\n",
       "      <td>Action</td>\n",
       "      <td>Biography</td>\n",
       "      <td>Drama</td>\n",
       "    </tr>\n",
       "    <tr>\n",
       "      <th>368</th>\n",
       "      <td>369</td>\n",
       "      <td>Friend Request</td>\n",
       "      <td>When a college student unfriends a mysterious ...</td>\n",
       "      <td>Simon Verhoeven</td>\n",
       "      <td>Alycia Debnam-Carey, William Moseley, Connor P...</td>\n",
       "      <td>2016</td>\n",
       "      <td>92</td>\n",
       "      <td>5.4</td>\n",
       "      <td>12758</td>\n",
       "      <td>9900000</td>\n",
       "      <td>64.03</td>\n",
       "      <td>59.0</td>\n",
       "      <td>Horror</td>\n",
       "      <td>Thriller</td>\n",
       "      <td>NaN</td>\n",
       "    </tr>\n",
       "    <tr>\n",
       "      <th>515</th>\n",
       "      <td>516</td>\n",
       "      <td>The Man Who Knew Infinity</td>\n",
       "      <td>The story of the life and academic career of t...</td>\n",
       "      <td>Matt Brown</td>\n",
       "      <td>Dev Patel, Jeremy Irons, Malcolm Sinclair, Rag...</td>\n",
       "      <td>2015</td>\n",
       "      <td>108</td>\n",
       "      <td>7.2</td>\n",
       "      <td>29912</td>\n",
       "      <td>10000000</td>\n",
       "      <td>3.86</td>\n",
       "      <td>NaN</td>\n",
       "      <td>Biography</td>\n",
       "      <td>Drama</td>\n",
       "      <td>NaN</td>\n",
       "    </tr>\n",
       "    <tr>\n",
       "      <th>297</th>\n",
       "      <td>298</td>\n",
       "      <td>The Purge: Election Year</td>\n",
       "      <td>Former Police Sergeant Barnes becomes head of ...</td>\n",
       "      <td>James DeMonaco</td>\n",
       "      <td>Frank Grillo, Elizabeth Mitchell, Mykelti Will...</td>\n",
       "      <td>2016</td>\n",
       "      <td>109</td>\n",
       "      <td>6.0</td>\n",
       "      <td>54216</td>\n",
       "      <td>10000000</td>\n",
       "      <td>79.00</td>\n",
       "      <td>NaN</td>\n",
       "      <td>Action</td>\n",
       "      <td>Horror</td>\n",
       "      <td>Sci-Fi</td>\n",
       "    </tr>\n",
       "    <tr>\n",
       "      <th>518</th>\n",
       "      <td>519</td>\n",
       "      <td>Max Steel</td>\n",
       "      <td>The adventures of teenager Max McGrath and his...</td>\n",
       "      <td>Stewart Hendler</td>\n",
       "      <td>Ben Winchell, Josh Brener, Maria Bello, Andy G...</td>\n",
       "      <td>2016</td>\n",
       "      <td>92</td>\n",
       "      <td>4.6</td>\n",
       "      <td>11555</td>\n",
       "      <td>10000000</td>\n",
       "      <td>3.77</td>\n",
       "      <td>22.0</td>\n",
       "      <td>Action</td>\n",
       "      <td>Adventure</td>\n",
       "      <td>Family</td>\n",
       "    </tr>\n",
       "  </tbody>\n",
       "</table>\n",
       "</div>"
      ],
      "text/plain": [
       "     rank                      title  \\\n",
       "83     84                     Dangal   \n",
       "368   369             Friend Request   \n",
       "515   516  The Man Who Knew Infinity   \n",
       "297   298   The Purge: Election Year   \n",
       "518   519                  Max Steel   \n",
       "\n",
       "                                           description         director  \\\n",
       "83   Former wrestler Mahavir Singh Phogat and his t...    Nitesh Tiwari   \n",
       "368  When a college student unfriends a mysterious ...  Simon Verhoeven   \n",
       "515  The story of the life and academic career of t...       Matt Brown   \n",
       "297  Former Police Sergeant Barnes becomes head of ...   James DeMonaco   \n",
       "518  The adventures of teenager Max McGrath and his...  Stewart Hendler   \n",
       "\n",
       "                                                actors  year  runtime_minutes  \\\n",
       "83   Aamir Khan, Sakshi Tanwar, Fatima Sana Shaikh,...  2016              161   \n",
       "368  Alycia Debnam-Carey, William Moseley, Connor P...  2016               92   \n",
       "515  Dev Patel, Jeremy Irons, Malcolm Sinclair, Rag...  2015              108   \n",
       "297  Frank Grillo, Elizabeth Mitchell, Mykelti Will...  2016              109   \n",
       "518  Ben Winchell, Josh Brener, Maria Bello, Andy G...  2016               92   \n",
       "\n",
       "     rating  votes  production_budget  revenue_millions  metascore     genre1  \\\n",
       "83      8.8  48969            9500000             11.15        NaN     Action   \n",
       "368     5.4  12758            9900000             64.03       59.0     Horror   \n",
       "515     7.2  29912           10000000              3.86        NaN  Biography   \n",
       "297     6.0  54216           10000000             79.00        NaN     Action   \n",
       "518     4.6  11555           10000000              3.77       22.0     Action   \n",
       "\n",
       "        genre2  genre3  \n",
       "83   Biography   Drama  \n",
       "368   Thriller     NaN  \n",
       "515      Drama     NaN  \n",
       "297     Horror  Sci-Fi  \n",
       "518  Adventure  Family  "
      ]
     },
     "execution_count": 407,
     "metadata": {},
     "output_type": "execute_result"
    }
   ],
   "source": [
    "#Dataframe version\n",
    "movies.sort_values(by = \"production_budget\").head()"
   ]
  },
  {
   "cell_type": "markdown",
   "id": "217a67cf",
   "metadata": {},
   "source": [
    "How can we make this sorting permanent?"
   ]
  },
  {
   "cell_type": "code",
   "execution_count": 408,
   "id": "8a564fe5",
   "metadata": {},
   "outputs": [],
   "source": [
    "#Set inplace equal to True\n",
    "movies.sort_values(by = \"rating\", inplace=True)"
   ]
  },
  {
   "cell_type": "markdown",
   "id": "e5dcdd4f",
   "metadata": {},
   "source": [
    "Remember that whenever you use `inplace=True` you won't see an output."
   ]
  },
  {
   "cell_type": "code",
   "execution_count": 409,
   "id": "af47c23a",
   "metadata": {},
   "outputs": [
    {
     "data": {
      "text/html": [
       "<div>\n",
       "<style scoped>\n",
       "    .dataframe tbody tr th:only-of-type {\n",
       "        vertical-align: middle;\n",
       "    }\n",
       "\n",
       "    .dataframe tbody tr th {\n",
       "        vertical-align: top;\n",
       "    }\n",
       "\n",
       "    .dataframe thead th {\n",
       "        text-align: right;\n",
       "    }\n",
       "</style>\n",
       "<table border=\"1\" class=\"dataframe\">\n",
       "  <thead>\n",
       "    <tr style=\"text-align: right;\">\n",
       "      <th></th>\n",
       "      <th>rank</th>\n",
       "      <th>title</th>\n",
       "      <th>description</th>\n",
       "      <th>director</th>\n",
       "      <th>actors</th>\n",
       "      <th>year</th>\n",
       "      <th>runtime_minutes</th>\n",
       "      <th>rating</th>\n",
       "      <th>votes</th>\n",
       "      <th>production_budget</th>\n",
       "      <th>revenue_millions</th>\n",
       "      <th>metascore</th>\n",
       "      <th>genre1</th>\n",
       "      <th>genre2</th>\n",
       "      <th>genre3</th>\n",
       "    </tr>\n",
       "  </thead>\n",
       "  <tbody>\n",
       "    <tr>\n",
       "      <th>546</th>\n",
       "      <td>547</td>\n",
       "      <td>Disaster Movie</td>\n",
       "      <td>Over the course of one evening, an unsuspectin...</td>\n",
       "      <td>Jason Friedberg</td>\n",
       "      <td>Carmen Electra, Vanessa Lachey,Nicole Parker, ...</td>\n",
       "      <td>2008</td>\n",
       "      <td>87</td>\n",
       "      <td>1.9</td>\n",
       "      <td>77207</td>\n",
       "      <td>20000000</td>\n",
       "      <td>14.17</td>\n",
       "      <td>15.0</td>\n",
       "      <td>Comedy</td>\n",
       "      <td>NaN</td>\n",
       "      <td>NaN</td>\n",
       "    </tr>\n",
       "    <tr>\n",
       "      <th>569</th>\n",
       "      <td>570</td>\n",
       "      <td>Dragonball Evolution</td>\n",
       "      <td>The young warrior Son Goku sets out on a quest...</td>\n",
       "      <td>James Wong</td>\n",
       "      <td>Justin Chatwin, James Marsters, Yun-Fat Chow, ...</td>\n",
       "      <td>2009</td>\n",
       "      <td>85</td>\n",
       "      <td>2.7</td>\n",
       "      <td>59512</td>\n",
       "      <td>30000000</td>\n",
       "      <td>9.35</td>\n",
       "      <td>45.0</td>\n",
       "      <td>Action</td>\n",
       "      <td>Adventure</td>\n",
       "      <td>Fantasy</td>\n",
       "    </tr>\n",
       "    <tr>\n",
       "      <th>160</th>\n",
       "      <td>161</td>\n",
       "      <td>The Disappointments Room</td>\n",
       "      <td>A mother and her young son release unimaginabl...</td>\n",
       "      <td>D.J. Caruso</td>\n",
       "      <td>Kate Beckinsale, Mel Raido, Duncan Joiner, Luc...</td>\n",
       "      <td>2016</td>\n",
       "      <td>85</td>\n",
       "      <td>3.9</td>\n",
       "      <td>4895</td>\n",
       "      <td>15000000</td>\n",
       "      <td>2.41</td>\n",
       "      <td>31.0</td>\n",
       "      <td>Drama</td>\n",
       "      <td>Horror</td>\n",
       "      <td>Thriller</td>\n",
       "    </tr>\n",
       "    <tr>\n",
       "      <th>362</th>\n",
       "      <td>363</td>\n",
       "      <td>Birth of the Dragon</td>\n",
       "      <td>Young, up-and-coming martial artist, Bruce Lee...</td>\n",
       "      <td>George Nolfi</td>\n",
       "      <td>Billy Magnussen, Terry Chen, Teresa Navarro,Va...</td>\n",
       "      <td>2016</td>\n",
       "      <td>103</td>\n",
       "      <td>3.9</td>\n",
       "      <td>552</td>\n",
       "      <td>31000000</td>\n",
       "      <td>93.05</td>\n",
       "      <td>61.0</td>\n",
       "      <td>Action</td>\n",
       "      <td>Biography</td>\n",
       "      <td>Drama</td>\n",
       "    </tr>\n",
       "    <tr>\n",
       "      <th>41</th>\n",
       "      <td>42</td>\n",
       "      <td>Fifty Shades of Grey</td>\n",
       "      <td>Literature student Anastasia Steele's life cha...</td>\n",
       "      <td>Sam Taylor-Johnson</td>\n",
       "      <td>Dakota Johnson, Jamie Dornan, Jennifer Ehle,El...</td>\n",
       "      <td>2015</td>\n",
       "      <td>125</td>\n",
       "      <td>4.1</td>\n",
       "      <td>244474</td>\n",
       "      <td>40000000</td>\n",
       "      <td>166.15</td>\n",
       "      <td>46.0</td>\n",
       "      <td>Drama</td>\n",
       "      <td>Romance</td>\n",
       "      <td>Thriller</td>\n",
       "    </tr>\n",
       "  </tbody>\n",
       "</table>\n",
       "</div>"
      ],
      "text/plain": [
       "     rank                     title  \\\n",
       "546   547            Disaster Movie   \n",
       "569   570      Dragonball Evolution   \n",
       "160   161  The Disappointments Room   \n",
       "362   363       Birth of the Dragon   \n",
       "41     42      Fifty Shades of Grey   \n",
       "\n",
       "                                           description            director  \\\n",
       "546  Over the course of one evening, an unsuspectin...     Jason Friedberg   \n",
       "569  The young warrior Son Goku sets out on a quest...          James Wong   \n",
       "160  A mother and her young son release unimaginabl...         D.J. Caruso   \n",
       "362  Young, up-and-coming martial artist, Bruce Lee...        George Nolfi   \n",
       "41   Literature student Anastasia Steele's life cha...  Sam Taylor-Johnson   \n",
       "\n",
       "                                                actors  year  runtime_minutes  \\\n",
       "546  Carmen Electra, Vanessa Lachey,Nicole Parker, ...  2008               87   \n",
       "569  Justin Chatwin, James Marsters, Yun-Fat Chow, ...  2009               85   \n",
       "160  Kate Beckinsale, Mel Raido, Duncan Joiner, Luc...  2016               85   \n",
       "362  Billy Magnussen, Terry Chen, Teresa Navarro,Va...  2016              103   \n",
       "41   Dakota Johnson, Jamie Dornan, Jennifer Ehle,El...  2015              125   \n",
       "\n",
       "     rating   votes  production_budget  revenue_millions  metascore  genre1  \\\n",
       "546     1.9   77207           20000000             14.17       15.0  Comedy   \n",
       "569     2.7   59512           30000000              9.35       45.0  Action   \n",
       "160     3.9    4895           15000000              2.41       31.0   Drama   \n",
       "362     3.9     552           31000000             93.05       61.0  Action   \n",
       "41      4.1  244474           40000000            166.15       46.0   Drama   \n",
       "\n",
       "        genre2    genre3  \n",
       "546        NaN       NaN  \n",
       "569  Adventure   Fantasy  \n",
       "160     Horror  Thriller  \n",
       "362  Biography     Drama  \n",
       "41     Romance  Thriller  "
      ]
     },
     "execution_count": 409,
     "metadata": {},
     "output_type": "execute_result"
    }
   ],
   "source": [
    "#View sorted dataframe\n",
    "movies.head()"
   ]
  },
  {
   "cell_type": "markdown",
   "id": "a7c7b8aa",
   "metadata": {},
   "source": [
    "The index can also be sorted, which we can do to actually undo the previous action."
   ]
  },
  {
   "cell_type": "code",
   "execution_count": 410,
   "id": "8de0f1fc",
   "metadata": {},
   "outputs": [],
   "source": [
    "movies.sort_index(inplace=True)"
   ]
  },
  {
   "cell_type": "code",
   "execution_count": 411,
   "id": "daa7b1d1",
   "metadata": {},
   "outputs": [
    {
     "data": {
      "text/html": [
       "<div>\n",
       "<style scoped>\n",
       "    .dataframe tbody tr th:only-of-type {\n",
       "        vertical-align: middle;\n",
       "    }\n",
       "\n",
       "    .dataframe tbody tr th {\n",
       "        vertical-align: top;\n",
       "    }\n",
       "\n",
       "    .dataframe thead th {\n",
       "        text-align: right;\n",
       "    }\n",
       "</style>\n",
       "<table border=\"1\" class=\"dataframe\">\n",
       "  <thead>\n",
       "    <tr style=\"text-align: right;\">\n",
       "      <th></th>\n",
       "      <th>rank</th>\n",
       "      <th>title</th>\n",
       "      <th>description</th>\n",
       "      <th>director</th>\n",
       "      <th>actors</th>\n",
       "      <th>year</th>\n",
       "      <th>runtime_minutes</th>\n",
       "      <th>rating</th>\n",
       "      <th>votes</th>\n",
       "      <th>production_budget</th>\n",
       "      <th>revenue_millions</th>\n",
       "      <th>metascore</th>\n",
       "      <th>genre1</th>\n",
       "      <th>genre2</th>\n",
       "      <th>genre3</th>\n",
       "    </tr>\n",
       "  </thead>\n",
       "  <tbody>\n",
       "    <tr>\n",
       "      <th>0</th>\n",
       "      <td>1</td>\n",
       "      <td>Guardians of the Galaxy</td>\n",
       "      <td>A group of intergalactic criminals are forced ...</td>\n",
       "      <td>James Gunn</td>\n",
       "      <td>Chris Pratt, Vin Diesel, Bradley Cooper, Zoe S...</td>\n",
       "      <td>2014</td>\n",
       "      <td>121</td>\n",
       "      <td>8.1</td>\n",
       "      <td>757074</td>\n",
       "      <td>170000000</td>\n",
       "      <td>333.13</td>\n",
       "      <td>76.0</td>\n",
       "      <td>Action</td>\n",
       "      <td>Adventure</td>\n",
       "      <td>Sci-Fi</td>\n",
       "    </tr>\n",
       "    <tr>\n",
       "      <th>1</th>\n",
       "      <td>2</td>\n",
       "      <td>Prometheus</td>\n",
       "      <td>Following clues to the origin of mankind, a te...</td>\n",
       "      <td>Ridley Scott</td>\n",
       "      <td>Noomi Rapace, Logan Marshall-Green, Michael Fa...</td>\n",
       "      <td>2012</td>\n",
       "      <td>124</td>\n",
       "      <td>7.0</td>\n",
       "      <td>485820</td>\n",
       "      <td>125000000</td>\n",
       "      <td>126.46</td>\n",
       "      <td>65.0</td>\n",
       "      <td>Adventure</td>\n",
       "      <td>Mystery</td>\n",
       "      <td>Sci-Fi</td>\n",
       "    </tr>\n",
       "    <tr>\n",
       "      <th>2</th>\n",
       "      <td>3</td>\n",
       "      <td>Sing</td>\n",
       "      <td>In a city of humanoid animals, a hustling thea...</td>\n",
       "      <td>Christophe Lourdelet</td>\n",
       "      <td>Matthew McConaughey,Reese Witherspoon, Seth Ma...</td>\n",
       "      <td>2016</td>\n",
       "      <td>108</td>\n",
       "      <td>7.2</td>\n",
       "      <td>60545</td>\n",
       "      <td>75000000</td>\n",
       "      <td>270.32</td>\n",
       "      <td>59.0</td>\n",
       "      <td>Animation</td>\n",
       "      <td>Comedy</td>\n",
       "      <td>Family</td>\n",
       "    </tr>\n",
       "    <tr>\n",
       "      <th>3</th>\n",
       "      <td>4</td>\n",
       "      <td>Suicide Squad</td>\n",
       "      <td>A secret government agency recruits some of th...</td>\n",
       "      <td>David Ayer</td>\n",
       "      <td>Will Smith, Jared Leto, Margot Robbie, Viola D...</td>\n",
       "      <td>2016</td>\n",
       "      <td>123</td>\n",
       "      <td>6.2</td>\n",
       "      <td>393727</td>\n",
       "      <td>175000000</td>\n",
       "      <td>325.02</td>\n",
       "      <td>40.0</td>\n",
       "      <td>Action</td>\n",
       "      <td>Adventure</td>\n",
       "      <td>Fantasy</td>\n",
       "    </tr>\n",
       "    <tr>\n",
       "      <th>4</th>\n",
       "      <td>5</td>\n",
       "      <td>The Great Wall</td>\n",
       "      <td>European mercenaries searching for black powde...</td>\n",
       "      <td>Yimou Zhang</td>\n",
       "      <td>Matt Damon, Tian Jing, Willem Dafoe, Andy Lau</td>\n",
       "      <td>2016</td>\n",
       "      <td>103</td>\n",
       "      <td>6.1</td>\n",
       "      <td>56036</td>\n",
       "      <td>150000000</td>\n",
       "      <td>45.13</td>\n",
       "      <td>42.0</td>\n",
       "      <td>Action</td>\n",
       "      <td>Adventure</td>\n",
       "      <td>Fantasy</td>\n",
       "    </tr>\n",
       "  </tbody>\n",
       "</table>\n",
       "</div>"
      ],
      "text/plain": [
       "   rank                    title  \\\n",
       "0     1  Guardians of the Galaxy   \n",
       "1     2               Prometheus   \n",
       "2     3                     Sing   \n",
       "3     4            Suicide Squad   \n",
       "4     5           The Great Wall   \n",
       "\n",
       "                                         description              director  \\\n",
       "0  A group of intergalactic criminals are forced ...            James Gunn   \n",
       "1  Following clues to the origin of mankind, a te...          Ridley Scott   \n",
       "2  In a city of humanoid animals, a hustling thea...  Christophe Lourdelet   \n",
       "3  A secret government agency recruits some of th...            David Ayer   \n",
       "4  European mercenaries searching for black powde...           Yimou Zhang   \n",
       "\n",
       "                                              actors  year  runtime_minutes  \\\n",
       "0  Chris Pratt, Vin Diesel, Bradley Cooper, Zoe S...  2014              121   \n",
       "1  Noomi Rapace, Logan Marshall-Green, Michael Fa...  2012              124   \n",
       "2  Matthew McConaughey,Reese Witherspoon, Seth Ma...  2016              108   \n",
       "3  Will Smith, Jared Leto, Margot Robbie, Viola D...  2016              123   \n",
       "4      Matt Damon, Tian Jing, Willem Dafoe, Andy Lau  2016              103   \n",
       "\n",
       "   rating   votes  production_budget  revenue_millions  metascore     genre1  \\\n",
       "0     8.1  757074          170000000            333.13       76.0     Action   \n",
       "1     7.0  485820          125000000            126.46       65.0  Adventure   \n",
       "2     7.2   60545           75000000            270.32       59.0  Animation   \n",
       "3     6.2  393727          175000000            325.02       40.0     Action   \n",
       "4     6.1   56036          150000000             45.13       42.0     Action   \n",
       "\n",
       "      genre2   genre3  \n",
       "0  Adventure   Sci-Fi  \n",
       "1    Mystery   Sci-Fi  \n",
       "2     Comedy   Family  \n",
       "3  Adventure  Fantasy  \n",
       "4  Adventure  Fantasy  "
      ]
     },
     "execution_count": 411,
     "metadata": {},
     "output_type": "execute_result"
    }
   ],
   "source": [
    "#View change\n",
    "movies.head()"
   ]
  },
  {
   "cell_type": "markdown",
   "id": "8b6a8f71",
   "metadata": {},
   "source": [
    "Now let's sort by multiple columns"
   ]
  },
  {
   "cell_type": "code",
   "execution_count": 412,
   "id": "2e23499d",
   "metadata": {},
   "outputs": [
    {
     "data": {
      "text/html": [
       "<div>\n",
       "<style scoped>\n",
       "    .dataframe tbody tr th:only-of-type {\n",
       "        vertical-align: middle;\n",
       "    }\n",
       "\n",
       "    .dataframe tbody tr th {\n",
       "        vertical-align: top;\n",
       "    }\n",
       "\n",
       "    .dataframe thead th {\n",
       "        text-align: right;\n",
       "    }\n",
       "</style>\n",
       "<table border=\"1\" class=\"dataframe\">\n",
       "  <thead>\n",
       "    <tr style=\"text-align: right;\">\n",
       "      <th></th>\n",
       "      <th>year</th>\n",
       "      <th>runtime_minutes</th>\n",
       "    </tr>\n",
       "  </thead>\n",
       "  <tbody>\n",
       "    <tr>\n",
       "      <th>597</th>\n",
       "      <td>2006</td>\n",
       "      <td>95</td>\n",
       "    </tr>\n",
       "    <tr>\n",
       "      <th>513</th>\n",
       "      <td>2006</td>\n",
       "      <td>96</td>\n",
       "    </tr>\n",
       "    <tr>\n",
       "      <th>547</th>\n",
       "      <td>2006</td>\n",
       "      <td>102</td>\n",
       "    </tr>\n",
       "    <tr>\n",
       "      <th>211</th>\n",
       "      <td>2006</td>\n",
       "      <td>104</td>\n",
       "    </tr>\n",
       "    <tr>\n",
       "      <th>218</th>\n",
       "      <td>2006</td>\n",
       "      <td>104</td>\n",
       "    </tr>\n",
       "    <tr>\n",
       "      <th>...</th>\n",
       "      <td>...</td>\n",
       "      <td>...</td>\n",
       "    </tr>\n",
       "    <tr>\n",
       "      <th>21</th>\n",
       "      <td>2016</td>\n",
       "      <td>144</td>\n",
       "    </tr>\n",
       "    <tr>\n",
       "      <th>24</th>\n",
       "      <td>2016</td>\n",
       "      <td>147</td>\n",
       "    </tr>\n",
       "    <tr>\n",
       "      <th>39</th>\n",
       "      <td>2016</td>\n",
       "      <td>151</td>\n",
       "    </tr>\n",
       "    <tr>\n",
       "      <th>36</th>\n",
       "      <td>2016</td>\n",
       "      <td>161</td>\n",
       "    </tr>\n",
       "    <tr>\n",
       "      <th>83</th>\n",
       "      <td>2016</td>\n",
       "      <td>161</td>\n",
       "    </tr>\n",
       "  </tbody>\n",
       "</table>\n",
       "<p>650 rows × 2 columns</p>\n",
       "</div>"
      ],
      "text/plain": [
       "     year  runtime_minutes\n",
       "597  2006               95\n",
       "513  2006               96\n",
       "547  2006              102\n",
       "211  2006              104\n",
       "218  2006              104\n",
       "..    ...              ...\n",
       "21   2016              144\n",
       "24   2016              147\n",
       "39   2016              151\n",
       "36   2016              161\n",
       "83   2016              161\n",
       "\n",
       "[650 rows x 2 columns]"
      ]
     },
     "execution_count": 412,
     "metadata": {},
     "output_type": "execute_result"
    }
   ],
   "source": [
    "#Initialize column list\n",
    "cols = [\"year\", \"runtime_minutes\"]\n",
    "#Sort data from least to greatest first by year and then by runtime\n",
    "movies.sort_values(by = cols, ascending=True)[cols]"
   ]
  },
  {
   "cell_type": "markdown",
   "id": "4f9f0033",
   "metadata": {},
   "source": [
    "The above `DataFrame` sorts primarily with `year` and in the case of ties then defers to `runtime_minutes` as its sorting criteria.\n",
    "\n",
    "We can also feed in a list of boolean values to `ascending` if for instance we'd like to use different orders."
   ]
  },
  {
   "cell_type": "code",
   "execution_count": 413,
   "id": "a3923d03",
   "metadata": {},
   "outputs": [
    {
     "data": {
      "text/html": [
       "<div>\n",
       "<style scoped>\n",
       "    .dataframe tbody tr th:only-of-type {\n",
       "        vertical-align: middle;\n",
       "    }\n",
       "\n",
       "    .dataframe tbody tr th {\n",
       "        vertical-align: top;\n",
       "    }\n",
       "\n",
       "    .dataframe thead th {\n",
       "        text-align: right;\n",
       "    }\n",
       "</style>\n",
       "<table border=\"1\" class=\"dataframe\">\n",
       "  <thead>\n",
       "    <tr style=\"text-align: right;\">\n",
       "      <th></th>\n",
       "      <th>year</th>\n",
       "      <th>runtime_minutes</th>\n",
       "    </tr>\n",
       "  </thead>\n",
       "  <tbody>\n",
       "    <tr>\n",
       "      <th>619</th>\n",
       "      <td>2016</td>\n",
       "      <td>80</td>\n",
       "    </tr>\n",
       "    <tr>\n",
       "      <th>160</th>\n",
       "      <td>2016</td>\n",
       "      <td>85</td>\n",
       "    </tr>\n",
       "    <tr>\n",
       "      <th>97</th>\n",
       "      <td>2016</td>\n",
       "      <td>86</td>\n",
       "    </tr>\n",
       "    <tr>\n",
       "      <th>11</th>\n",
       "      <td>2016</td>\n",
       "      <td>87</td>\n",
       "    </tr>\n",
       "    <tr>\n",
       "      <th>225</th>\n",
       "      <td>2016</td>\n",
       "      <td>87</td>\n",
       "    </tr>\n",
       "    <tr>\n",
       "      <th>...</th>\n",
       "      <td>...</td>\n",
       "      <td>...</td>\n",
       "    </tr>\n",
       "    <tr>\n",
       "      <th>119</th>\n",
       "      <td>2006</td>\n",
       "      <td>144</td>\n",
       "    </tr>\n",
       "    <tr>\n",
       "      <th>603</th>\n",
       "      <td>2006</td>\n",
       "      <td>147</td>\n",
       "    </tr>\n",
       "    <tr>\n",
       "      <th>490</th>\n",
       "      <td>2006</td>\n",
       "      <td>149</td>\n",
       "    </tr>\n",
       "    <tr>\n",
       "      <th>71</th>\n",
       "      <td>2006</td>\n",
       "      <td>151</td>\n",
       "    </tr>\n",
       "    <tr>\n",
       "      <th>608</th>\n",
       "      <td>2006</td>\n",
       "      <td>154</td>\n",
       "    </tr>\n",
       "  </tbody>\n",
       "</table>\n",
       "<p>650 rows × 2 columns</p>\n",
       "</div>"
      ],
      "text/plain": [
       "     year  runtime_minutes\n",
       "619  2016               80\n",
       "160  2016               85\n",
       "97   2016               86\n",
       "11   2016               87\n",
       "225  2016               87\n",
       "..    ...              ...\n",
       "119  2006              144\n",
       "603  2006              147\n",
       "490  2006              149\n",
       "71   2006              151\n",
       "608  2006              154\n",
       "\n",
       "[650 rows x 2 columns]"
      ]
     },
     "execution_count": 413,
     "metadata": {},
     "output_type": "execute_result"
    }
   ],
   "source": [
    "#Sort data from greatest to least by year and then least to greatest by runtime\n",
    "movies.sort_values(by = cols, ascending=[False, True])[cols]"
   ]
  },
  {
   "cell_type": "markdown",
   "id": "bfdb6dc3",
   "metadata": {},
   "source": [
    "### Null Values"
   ]
  },
  {
   "cell_type": "markdown",
   "id": "f497f0ca",
   "metadata": {},
   "source": [
    "Pandas marks missing data or null data as \"NaN\" which stands for \"Not a Number.\" To find these null values we use the `.isnull()` method. This function returns a corresponding boolean value for each value in a `Series` or `DataFrame`.\n",
    "\n",
    "In Python `True` is equivalent to 1 and `False` is equivalent to 0. Thus we can sum up all the values in the boolean mask with `.sum()` to give us a count for the *total* number of missing values."
   ]
  },
  {
   "cell_type": "code",
   "execution_count": 414,
   "id": "a14518c0",
   "metadata": {},
   "outputs": [
    {
     "data": {
      "text/plain": [
       "645    Romance\n",
       "646     Horror\n",
       "647        NaN\n",
       "648    Mystery\n",
       "649    Fantasy\n",
       "Name: genre3, dtype: object"
      ]
     },
     "execution_count": 414,
     "metadata": {},
     "output_type": "execute_result"
    }
   ],
   "source": [
    "movies.genre3.tail()"
   ]
  },
  {
   "cell_type": "code",
   "execution_count": 415,
   "id": "6ce90c03",
   "metadata": {},
   "outputs": [
    {
     "data": {
      "text/plain": [
       "645    False\n",
       "646    False\n",
       "647     True\n",
       "648    False\n",
       "649    False\n",
       "Name: genre3, dtype: bool"
      ]
     },
     "execution_count": 415,
     "metadata": {},
     "output_type": "execute_result"
    }
   ],
   "source": [
    "#Return isnull boolean mask\n",
    "movies.genre3.isnull().tail()"
   ]
  },
  {
   "cell_type": "code",
   "execution_count": 416,
   "id": "7ee7600b",
   "metadata": {},
   "outputs": [
    {
     "data": {
      "text/plain": [
       "163"
      ]
     },
     "execution_count": 416,
     "metadata": {},
     "output_type": "execute_result"
    }
   ],
   "source": [
    "#Return number of missing values in genre3\n",
    "movies.genre3.isnull().sum()"
   ]
  },
  {
   "cell_type": "code",
   "execution_count": 417,
   "id": "92dc15ea",
   "metadata": {},
   "outputs": [
    {
     "data": {
      "text/plain": [
       "rank                   0\n",
       "title                  0\n",
       "description            0\n",
       "director               0\n",
       "actors                 0\n",
       "year                   0\n",
       "runtime_minutes        0\n",
       "rating                 0\n",
       "votes                  0\n",
       "production_budget      0\n",
       "revenue_millions      15\n",
       "metascore             28\n",
       "genre1                 0\n",
       "genre2                38\n",
       "genre3               163\n",
       "dtype: int64"
      ]
     },
     "execution_count": 417,
     "metadata": {},
     "output_type": "execute_result"
    }
   ],
   "source": [
    "#Number of missing values for every column\n",
    "movies.isnull().sum()"
   ]
  },
  {
   "cell_type": "code",
   "execution_count": 418,
   "id": "fc78095b",
   "metadata": {},
   "outputs": [
    {
     "data": {
      "text/plain": [
       "rank                 0.00\n",
       "title                0.00\n",
       "description          0.00\n",
       "director             0.00\n",
       "actors               0.00\n",
       "year                 0.00\n",
       "runtime_minutes      0.00\n",
       "rating               0.00\n",
       "votes                0.00\n",
       "production_budget    0.00\n",
       "revenue_millions     0.02\n",
       "metascore            0.04\n",
       "genre1               0.00\n",
       "genre2               0.06\n",
       "genre3               0.25\n",
       "dtype: float64"
      ]
     },
     "execution_count": 418,
     "metadata": {},
     "output_type": "execute_result"
    }
   ],
   "source": [
    "#Using .mean() effectively tells us the percent of null values in each column\n",
    "movies.isnull().mean().round(2)"
   ]
  },
  {
   "cell_type": "markdown",
   "id": "8a6ab72d",
   "metadata": {},
   "source": [
    "Since `.isnull()` outputs a boolean mask, we can use that array to conditionally filter the `Dataframe`."
   ]
  },
  {
   "cell_type": "code",
   "execution_count": 419,
   "id": "29e8b0a9",
   "metadata": {},
   "outputs": [
    {
     "data": {
      "text/html": [
       "<div>\n",
       "<style scoped>\n",
       "    .dataframe tbody tr th:only-of-type {\n",
       "        vertical-align: middle;\n",
       "    }\n",
       "\n",
       "    .dataframe tbody tr th {\n",
       "        vertical-align: top;\n",
       "    }\n",
       "\n",
       "    .dataframe thead th {\n",
       "        text-align: right;\n",
       "    }\n",
       "</style>\n",
       "<table border=\"1\" class=\"dataframe\">\n",
       "  <thead>\n",
       "    <tr style=\"text-align: right;\">\n",
       "      <th></th>\n",
       "      <th>rank</th>\n",
       "      <th>title</th>\n",
       "      <th>description</th>\n",
       "      <th>director</th>\n",
       "      <th>actors</th>\n",
       "      <th>year</th>\n",
       "      <th>runtime_minutes</th>\n",
       "      <th>rating</th>\n",
       "      <th>votes</th>\n",
       "      <th>production_budget</th>\n",
       "      <th>revenue_millions</th>\n",
       "      <th>metascore</th>\n",
       "      <th>genre1</th>\n",
       "      <th>genre2</th>\n",
       "      <th>genre3</th>\n",
       "    </tr>\n",
       "  </thead>\n",
       "  <tbody>\n",
       "    <tr>\n",
       "      <th>13</th>\n",
       "      <td>14</td>\n",
       "      <td>Jason Bourne</td>\n",
       "      <td>The CIA's most dangerous former operative is d...</td>\n",
       "      <td>Paul Greengrass</td>\n",
       "      <td>Matt Damon, Tommy Lee Jones, Alicia Vikander,V...</td>\n",
       "      <td>2016</td>\n",
       "      <td>123</td>\n",
       "      <td>6.7</td>\n",
       "      <td>150823</td>\n",
       "      <td>120000000</td>\n",
       "      <td>162.16</td>\n",
       "      <td>58.0</td>\n",
       "      <td>Action</td>\n",
       "      <td>Thriller</td>\n",
       "      <td>NaN</td>\n",
       "    </tr>\n",
       "    <tr>\n",
       "      <th>14</th>\n",
       "      <td>15</td>\n",
       "      <td>Lion</td>\n",
       "      <td>A five-year-old Indian boy gets lost on the st...</td>\n",
       "      <td>Garth Davis</td>\n",
       "      <td>Dev Patel, Nicole Kidman, Rooney Mara, Sunny P...</td>\n",
       "      <td>2016</td>\n",
       "      <td>118</td>\n",
       "      <td>8.1</td>\n",
       "      <td>102061</td>\n",
       "      <td>12000000</td>\n",
       "      <td>51.69</td>\n",
       "      <td>69.0</td>\n",
       "      <td>Biography</td>\n",
       "      <td>Drama</td>\n",
       "      <td>NaN</td>\n",
       "    </tr>\n",
       "    <tr>\n",
       "      <th>18</th>\n",
       "      <td>19</td>\n",
       "      <td>Bad Moms</td>\n",
       "      <td>When three overworked and under-appreciated mo...</td>\n",
       "      <td>Jon Lucas</td>\n",
       "      <td>Mila Kunis, Kathryn Hahn, Kristen Bell,Christi...</td>\n",
       "      <td>2016</td>\n",
       "      <td>100</td>\n",
       "      <td>6.2</td>\n",
       "      <td>66540</td>\n",
       "      <td>20000000</td>\n",
       "      <td>113.08</td>\n",
       "      <td>60.0</td>\n",
       "      <td>Comedy</td>\n",
       "      <td>NaN</td>\n",
       "      <td>NaN</td>\n",
       "    </tr>\n",
       "    <tr>\n",
       "      <th>19</th>\n",
       "      <td>20</td>\n",
       "      <td>Why Him?</td>\n",
       "      <td>A holiday gathering threatens to go off the ra...</td>\n",
       "      <td>John Hamburg</td>\n",
       "      <td>Zoey Deutch, James Franco, Tangie Ambrose,Cedr...</td>\n",
       "      <td>2016</td>\n",
       "      <td>111</td>\n",
       "      <td>6.3</td>\n",
       "      <td>48123</td>\n",
       "      <td>38000000</td>\n",
       "      <td>60.31</td>\n",
       "      <td>39.0</td>\n",
       "      <td>Comedy</td>\n",
       "      <td>NaN</td>\n",
       "      <td>NaN</td>\n",
       "    </tr>\n",
       "    <tr>\n",
       "      <th>20</th>\n",
       "      <td>21</td>\n",
       "      <td>Nocturnal Animals</td>\n",
       "      <td>A wealthy art gallery owner is haunted by her ...</td>\n",
       "      <td>Tom Ford</td>\n",
       "      <td>Amy Adams, Jake Gyllenhaal, Michael Shannon, A...</td>\n",
       "      <td>2016</td>\n",
       "      <td>116</td>\n",
       "      <td>7.5</td>\n",
       "      <td>126030</td>\n",
       "      <td>22500000</td>\n",
       "      <td>10.64</td>\n",
       "      <td>67.0</td>\n",
       "      <td>Drama</td>\n",
       "      <td>Thriller</td>\n",
       "      <td>NaN</td>\n",
       "    </tr>\n",
       "  </tbody>\n",
       "</table>\n",
       "</div>"
      ],
      "text/plain": [
       "    rank              title  \\\n",
       "13    14       Jason Bourne   \n",
       "14    15               Lion   \n",
       "18    19           Bad Moms   \n",
       "19    20           Why Him?   \n",
       "20    21  Nocturnal Animals   \n",
       "\n",
       "                                          description         director  \\\n",
       "13  The CIA's most dangerous former operative is d...  Paul Greengrass   \n",
       "14  A five-year-old Indian boy gets lost on the st...      Garth Davis   \n",
       "18  When three overworked and under-appreciated mo...        Jon Lucas   \n",
       "19  A holiday gathering threatens to go off the ra...     John Hamburg   \n",
       "20  A wealthy art gallery owner is haunted by her ...         Tom Ford   \n",
       "\n",
       "                                               actors  year  runtime_minutes  \\\n",
       "13  Matt Damon, Tommy Lee Jones, Alicia Vikander,V...  2016              123   \n",
       "14  Dev Patel, Nicole Kidman, Rooney Mara, Sunny P...  2016              118   \n",
       "18  Mila Kunis, Kathryn Hahn, Kristen Bell,Christi...  2016              100   \n",
       "19  Zoey Deutch, James Franco, Tangie Ambrose,Cedr...  2016              111   \n",
       "20  Amy Adams, Jake Gyllenhaal, Michael Shannon, A...  2016              116   \n",
       "\n",
       "    rating   votes  production_budget  revenue_millions  metascore     genre1  \\\n",
       "13     6.7  150823          120000000            162.16       58.0     Action   \n",
       "14     8.1  102061           12000000             51.69       69.0  Biography   \n",
       "18     6.2   66540           20000000            113.08       60.0     Comedy   \n",
       "19     6.3   48123           38000000             60.31       39.0     Comedy   \n",
       "20     7.5  126030           22500000             10.64       67.0      Drama   \n",
       "\n",
       "      genre2 genre3  \n",
       "13  Thriller    NaN  \n",
       "14     Drama    NaN  \n",
       "18       NaN    NaN  \n",
       "19       NaN    NaN  \n",
       "20  Thriller    NaN  "
      ]
     },
     "execution_count": 419,
     "metadata": {},
     "output_type": "execute_result"
    }
   ],
   "source": [
    "movies[movies.genre3.isnull()].head()"
   ]
  },
  {
   "cell_type": "markdown",
   "id": "05b936db",
   "metadata": {},
   "source": [
    "The output above returns a `DataFrame` of every row every where `genre3` has a NaN. If we want to filter out NaNs under that column place `~` at the start of the condition."
   ]
  },
  {
   "cell_type": "code",
   "execution_count": 420,
   "id": "3727b2a0",
   "metadata": {},
   "outputs": [
    {
     "data": {
      "text/html": [
       "<div>\n",
       "<style scoped>\n",
       "    .dataframe tbody tr th:only-of-type {\n",
       "        vertical-align: middle;\n",
       "    }\n",
       "\n",
       "    .dataframe tbody tr th {\n",
       "        vertical-align: top;\n",
       "    }\n",
       "\n",
       "    .dataframe thead th {\n",
       "        text-align: right;\n",
       "    }\n",
       "</style>\n",
       "<table border=\"1\" class=\"dataframe\">\n",
       "  <thead>\n",
       "    <tr style=\"text-align: right;\">\n",
       "      <th></th>\n",
       "      <th>rank</th>\n",
       "      <th>title</th>\n",
       "      <th>description</th>\n",
       "      <th>director</th>\n",
       "      <th>actors</th>\n",
       "      <th>year</th>\n",
       "      <th>runtime_minutes</th>\n",
       "      <th>rating</th>\n",
       "      <th>votes</th>\n",
       "      <th>production_budget</th>\n",
       "      <th>revenue_millions</th>\n",
       "      <th>metascore</th>\n",
       "      <th>genre1</th>\n",
       "      <th>genre2</th>\n",
       "      <th>genre3</th>\n",
       "    </tr>\n",
       "  </thead>\n",
       "  <tbody>\n",
       "    <tr>\n",
       "      <th>0</th>\n",
       "      <td>1</td>\n",
       "      <td>Guardians of the Galaxy</td>\n",
       "      <td>A group of intergalactic criminals are forced ...</td>\n",
       "      <td>James Gunn</td>\n",
       "      <td>Chris Pratt, Vin Diesel, Bradley Cooper, Zoe S...</td>\n",
       "      <td>2014</td>\n",
       "      <td>121</td>\n",
       "      <td>8.1</td>\n",
       "      <td>757074</td>\n",
       "      <td>170000000</td>\n",
       "      <td>333.13</td>\n",
       "      <td>76.0</td>\n",
       "      <td>Action</td>\n",
       "      <td>Adventure</td>\n",
       "      <td>Sci-Fi</td>\n",
       "    </tr>\n",
       "    <tr>\n",
       "      <th>1</th>\n",
       "      <td>2</td>\n",
       "      <td>Prometheus</td>\n",
       "      <td>Following clues to the origin of mankind, a te...</td>\n",
       "      <td>Ridley Scott</td>\n",
       "      <td>Noomi Rapace, Logan Marshall-Green, Michael Fa...</td>\n",
       "      <td>2012</td>\n",
       "      <td>124</td>\n",
       "      <td>7.0</td>\n",
       "      <td>485820</td>\n",
       "      <td>125000000</td>\n",
       "      <td>126.46</td>\n",
       "      <td>65.0</td>\n",
       "      <td>Adventure</td>\n",
       "      <td>Mystery</td>\n",
       "      <td>Sci-Fi</td>\n",
       "    </tr>\n",
       "    <tr>\n",
       "      <th>2</th>\n",
       "      <td>3</td>\n",
       "      <td>Sing</td>\n",
       "      <td>In a city of humanoid animals, a hustling thea...</td>\n",
       "      <td>Christophe Lourdelet</td>\n",
       "      <td>Matthew McConaughey,Reese Witherspoon, Seth Ma...</td>\n",
       "      <td>2016</td>\n",
       "      <td>108</td>\n",
       "      <td>7.2</td>\n",
       "      <td>60545</td>\n",
       "      <td>75000000</td>\n",
       "      <td>270.32</td>\n",
       "      <td>59.0</td>\n",
       "      <td>Animation</td>\n",
       "      <td>Comedy</td>\n",
       "      <td>Family</td>\n",
       "    </tr>\n",
       "    <tr>\n",
       "      <th>3</th>\n",
       "      <td>4</td>\n",
       "      <td>Suicide Squad</td>\n",
       "      <td>A secret government agency recruits some of th...</td>\n",
       "      <td>David Ayer</td>\n",
       "      <td>Will Smith, Jared Leto, Margot Robbie, Viola D...</td>\n",
       "      <td>2016</td>\n",
       "      <td>123</td>\n",
       "      <td>6.2</td>\n",
       "      <td>393727</td>\n",
       "      <td>175000000</td>\n",
       "      <td>325.02</td>\n",
       "      <td>40.0</td>\n",
       "      <td>Action</td>\n",
       "      <td>Adventure</td>\n",
       "      <td>Fantasy</td>\n",
       "    </tr>\n",
       "    <tr>\n",
       "      <th>4</th>\n",
       "      <td>5</td>\n",
       "      <td>The Great Wall</td>\n",
       "      <td>European mercenaries searching for black powde...</td>\n",
       "      <td>Yimou Zhang</td>\n",
       "      <td>Matt Damon, Tian Jing, Willem Dafoe, Andy Lau</td>\n",
       "      <td>2016</td>\n",
       "      <td>103</td>\n",
       "      <td>6.1</td>\n",
       "      <td>56036</td>\n",
       "      <td>150000000</td>\n",
       "      <td>45.13</td>\n",
       "      <td>42.0</td>\n",
       "      <td>Action</td>\n",
       "      <td>Adventure</td>\n",
       "      <td>Fantasy</td>\n",
       "    </tr>\n",
       "  </tbody>\n",
       "</table>\n",
       "</div>"
      ],
      "text/plain": [
       "   rank                    title  \\\n",
       "0     1  Guardians of the Galaxy   \n",
       "1     2               Prometheus   \n",
       "2     3                     Sing   \n",
       "3     4            Suicide Squad   \n",
       "4     5           The Great Wall   \n",
       "\n",
       "                                         description              director  \\\n",
       "0  A group of intergalactic criminals are forced ...            James Gunn   \n",
       "1  Following clues to the origin of mankind, a te...          Ridley Scott   \n",
       "2  In a city of humanoid animals, a hustling thea...  Christophe Lourdelet   \n",
       "3  A secret government agency recruits some of th...            David Ayer   \n",
       "4  European mercenaries searching for black powde...           Yimou Zhang   \n",
       "\n",
       "                                              actors  year  runtime_minutes  \\\n",
       "0  Chris Pratt, Vin Diesel, Bradley Cooper, Zoe S...  2014              121   \n",
       "1  Noomi Rapace, Logan Marshall-Green, Michael Fa...  2012              124   \n",
       "2  Matthew McConaughey,Reese Witherspoon, Seth Ma...  2016              108   \n",
       "3  Will Smith, Jared Leto, Margot Robbie, Viola D...  2016              123   \n",
       "4      Matt Damon, Tian Jing, Willem Dafoe, Andy Lau  2016              103   \n",
       "\n",
       "   rating   votes  production_budget  revenue_millions  metascore     genre1  \\\n",
       "0     8.1  757074          170000000            333.13       76.0     Action   \n",
       "1     7.0  485820          125000000            126.46       65.0  Adventure   \n",
       "2     7.2   60545           75000000            270.32       59.0  Animation   \n",
       "3     6.2  393727          175000000            325.02       40.0     Action   \n",
       "4     6.1   56036          150000000             45.13       42.0     Action   \n",
       "\n",
       "      genre2   genre3  \n",
       "0  Adventure   Sci-Fi  \n",
       "1    Mystery   Sci-Fi  \n",
       "2     Comedy   Family  \n",
       "3  Adventure  Fantasy  \n",
       "4  Adventure  Fantasy  "
      ]
     },
     "execution_count": 420,
     "metadata": {},
     "output_type": "execute_result"
    }
   ],
   "source": [
    "movies[~movies.genre3.isnull()].head()"
   ]
  },
  {
   "cell_type": "markdown",
   "id": "03bb4325",
   "metadata": {},
   "source": [
    "A more formal way to get rid of nulls is to use `.dropna()`."
   ]
  },
  {
   "cell_type": "code",
   "execution_count": 421,
   "id": "ed205054",
   "metadata": {},
   "outputs": [
    {
     "data": {
      "text/plain": [
       "0       Sci-Fi\n",
       "1       Sci-Fi\n",
       "2       Family\n",
       "3      Fantasy\n",
       "4      Fantasy\n",
       "        ...   \n",
       "644    History\n",
       "645    Romance\n",
       "646     Horror\n",
       "648    Mystery\n",
       "649    Fantasy\n",
       "Name: genre3, Length: 487, dtype: object"
      ]
     },
     "execution_count": 421,
     "metadata": {},
     "output_type": "execute_result"
    }
   ],
   "source": [
    "movies.genre3.dropna()"
   ]
  },
  {
   "cell_type": "code",
   "execution_count": 422,
   "id": "05e757b1",
   "metadata": {},
   "outputs": [
    {
     "data": {
      "text/html": [
       "<div>\n",
       "<style scoped>\n",
       "    .dataframe tbody tr th:only-of-type {\n",
       "        vertical-align: middle;\n",
       "    }\n",
       "\n",
       "    .dataframe tbody tr th {\n",
       "        vertical-align: top;\n",
       "    }\n",
       "\n",
       "    .dataframe thead th {\n",
       "        text-align: right;\n",
       "    }\n",
       "</style>\n",
       "<table border=\"1\" class=\"dataframe\">\n",
       "  <thead>\n",
       "    <tr style=\"text-align: right;\">\n",
       "      <th></th>\n",
       "      <th>rank</th>\n",
       "      <th>title</th>\n",
       "      <th>description</th>\n",
       "      <th>director</th>\n",
       "      <th>actors</th>\n",
       "      <th>year</th>\n",
       "      <th>runtime_minutes</th>\n",
       "      <th>rating</th>\n",
       "      <th>votes</th>\n",
       "      <th>production_budget</th>\n",
       "      <th>revenue_millions</th>\n",
       "      <th>metascore</th>\n",
       "      <th>genre1</th>\n",
       "      <th>genre2</th>\n",
       "      <th>genre3</th>\n",
       "    </tr>\n",
       "  </thead>\n",
       "  <tbody>\n",
       "    <tr>\n",
       "      <th>0</th>\n",
       "      <td>1</td>\n",
       "      <td>Guardians of the Galaxy</td>\n",
       "      <td>A group of intergalactic criminals are forced ...</td>\n",
       "      <td>James Gunn</td>\n",
       "      <td>Chris Pratt, Vin Diesel, Bradley Cooper, Zoe S...</td>\n",
       "      <td>2014</td>\n",
       "      <td>121</td>\n",
       "      <td>8.1</td>\n",
       "      <td>757074</td>\n",
       "      <td>170000000</td>\n",
       "      <td>333.13</td>\n",
       "      <td>76.0</td>\n",
       "      <td>Action</td>\n",
       "      <td>Adventure</td>\n",
       "      <td>Sci-Fi</td>\n",
       "    </tr>\n",
       "    <tr>\n",
       "      <th>1</th>\n",
       "      <td>2</td>\n",
       "      <td>Prometheus</td>\n",
       "      <td>Following clues to the origin of mankind, a te...</td>\n",
       "      <td>Ridley Scott</td>\n",
       "      <td>Noomi Rapace, Logan Marshall-Green, Michael Fa...</td>\n",
       "      <td>2012</td>\n",
       "      <td>124</td>\n",
       "      <td>7.0</td>\n",
       "      <td>485820</td>\n",
       "      <td>125000000</td>\n",
       "      <td>126.46</td>\n",
       "      <td>65.0</td>\n",
       "      <td>Adventure</td>\n",
       "      <td>Mystery</td>\n",
       "      <td>Sci-Fi</td>\n",
       "    </tr>\n",
       "    <tr>\n",
       "      <th>2</th>\n",
       "      <td>3</td>\n",
       "      <td>Sing</td>\n",
       "      <td>In a city of humanoid animals, a hustling thea...</td>\n",
       "      <td>Christophe Lourdelet</td>\n",
       "      <td>Matthew McConaughey,Reese Witherspoon, Seth Ma...</td>\n",
       "      <td>2016</td>\n",
       "      <td>108</td>\n",
       "      <td>7.2</td>\n",
       "      <td>60545</td>\n",
       "      <td>75000000</td>\n",
       "      <td>270.32</td>\n",
       "      <td>59.0</td>\n",
       "      <td>Animation</td>\n",
       "      <td>Comedy</td>\n",
       "      <td>Family</td>\n",
       "    </tr>\n",
       "    <tr>\n",
       "      <th>3</th>\n",
       "      <td>4</td>\n",
       "      <td>Suicide Squad</td>\n",
       "      <td>A secret government agency recruits some of th...</td>\n",
       "      <td>David Ayer</td>\n",
       "      <td>Will Smith, Jared Leto, Margot Robbie, Viola D...</td>\n",
       "      <td>2016</td>\n",
       "      <td>123</td>\n",
       "      <td>6.2</td>\n",
       "      <td>393727</td>\n",
       "      <td>175000000</td>\n",
       "      <td>325.02</td>\n",
       "      <td>40.0</td>\n",
       "      <td>Action</td>\n",
       "      <td>Adventure</td>\n",
       "      <td>Fantasy</td>\n",
       "    </tr>\n",
       "    <tr>\n",
       "      <th>4</th>\n",
       "      <td>5</td>\n",
       "      <td>The Great Wall</td>\n",
       "      <td>European mercenaries searching for black powde...</td>\n",
       "      <td>Yimou Zhang</td>\n",
       "      <td>Matt Damon, Tian Jing, Willem Dafoe, Andy Lau</td>\n",
       "      <td>2016</td>\n",
       "      <td>103</td>\n",
       "      <td>6.1</td>\n",
       "      <td>56036</td>\n",
       "      <td>150000000</td>\n",
       "      <td>45.13</td>\n",
       "      <td>42.0</td>\n",
       "      <td>Action</td>\n",
       "      <td>Adventure</td>\n",
       "      <td>Fantasy</td>\n",
       "    </tr>\n",
       "    <tr>\n",
       "      <th>...</th>\n",
       "      <td>...</td>\n",
       "      <td>...</td>\n",
       "      <td>...</td>\n",
       "      <td>...</td>\n",
       "      <td>...</td>\n",
       "      <td>...</td>\n",
       "      <td>...</td>\n",
       "      <td>...</td>\n",
       "      <td>...</td>\n",
       "      <td>...</td>\n",
       "      <td>...</td>\n",
       "      <td>...</td>\n",
       "      <td>...</td>\n",
       "      <td>...</td>\n",
       "      <td>...</td>\n",
       "    </tr>\n",
       "    <tr>\n",
       "      <th>644</th>\n",
       "      <td>645</td>\n",
       "      <td>Selma</td>\n",
       "      <td>A chronicle of Martin Luther King's campaign t...</td>\n",
       "      <td>Ava DuVernay</td>\n",
       "      <td>David Oyelowo, Carmen Ejogo, Tim Roth, Lorrain...</td>\n",
       "      <td>2014</td>\n",
       "      <td>128</td>\n",
       "      <td>7.5</td>\n",
       "      <td>67637</td>\n",
       "      <td>20000000</td>\n",
       "      <td>52.07</td>\n",
       "      <td>NaN</td>\n",
       "      <td>Biography</td>\n",
       "      <td>Drama</td>\n",
       "      <td>History</td>\n",
       "    </tr>\n",
       "    <tr>\n",
       "      <th>645</th>\n",
       "      <td>646</td>\n",
       "      <td>Take Me Home Tonight</td>\n",
       "      <td>Four years after graduation, an awkward high s...</td>\n",
       "      <td>Michael Dowse</td>\n",
       "      <td>Topher Grace, Anna Faris, Dan Fogler, Teresa P...</td>\n",
       "      <td>2011</td>\n",
       "      <td>97</td>\n",
       "      <td>6.3</td>\n",
       "      <td>45419</td>\n",
       "      <td>19000000</td>\n",
       "      <td>6.92</td>\n",
       "      <td>NaN</td>\n",
       "      <td>Comedy</td>\n",
       "      <td>Drama</td>\n",
       "      <td>Romance</td>\n",
       "    </tr>\n",
       "    <tr>\n",
       "      <th>646</th>\n",
       "      <td>647</td>\n",
       "      <td>Resident Evil: Afterlife</td>\n",
       "      <td>While still out to destroy the evil Umbrella C...</td>\n",
       "      <td>Paul W.S. Anderson</td>\n",
       "      <td>Milla Jovovich, Ali Larter, Wentworth Miller,K...</td>\n",
       "      <td>2010</td>\n",
       "      <td>97</td>\n",
       "      <td>5.9</td>\n",
       "      <td>140900</td>\n",
       "      <td>57500000</td>\n",
       "      <td>60.13</td>\n",
       "      <td>37.0</td>\n",
       "      <td>Action</td>\n",
       "      <td>Adventure</td>\n",
       "      <td>Horror</td>\n",
       "    </tr>\n",
       "    <tr>\n",
       "      <th>648</th>\n",
       "      <td>649</td>\n",
       "      <td>Secret in Their Eyes</td>\n",
       "      <td>A tight-knit team of rising investigators, alo...</td>\n",
       "      <td>Billy Ray</td>\n",
       "      <td>Chiwetel Ejiofor, Nicole Kidman, Julia Roberts...</td>\n",
       "      <td>2015</td>\n",
       "      <td>111</td>\n",
       "      <td>6.2</td>\n",
       "      <td>27585</td>\n",
       "      <td>20000000</td>\n",
       "      <td>NaN</td>\n",
       "      <td>45.0</td>\n",
       "      <td>Crime</td>\n",
       "      <td>Drama</td>\n",
       "      <td>Mystery</td>\n",
       "    </tr>\n",
       "    <tr>\n",
       "      <th>649</th>\n",
       "      <td>650</td>\n",
       "      <td>Nine Lives</td>\n",
       "      <td>A stuffy businessman finds himself trapped ins...</td>\n",
       "      <td>Barry Sonnenfeld</td>\n",
       "      <td>Kevin Spacey, Jennifer Garner, Robbie Amell,Ch...</td>\n",
       "      <td>2016</td>\n",
       "      <td>87</td>\n",
       "      <td>5.3</td>\n",
       "      <td>12435</td>\n",
       "      <td>30000000</td>\n",
       "      <td>19.64</td>\n",
       "      <td>11.0</td>\n",
       "      <td>Comedy</td>\n",
       "      <td>Family</td>\n",
       "      <td>Fantasy</td>\n",
       "    </tr>\n",
       "  </tbody>\n",
       "</table>\n",
       "<p>487 rows × 15 columns</p>\n",
       "</div>"
      ],
      "text/plain": [
       "     rank                     title  \\\n",
       "0       1   Guardians of the Galaxy   \n",
       "1       2                Prometheus   \n",
       "2       3                      Sing   \n",
       "3       4             Suicide Squad   \n",
       "4       5            The Great Wall   \n",
       "..    ...                       ...   \n",
       "644   645                     Selma   \n",
       "645   646      Take Me Home Tonight   \n",
       "646   647  Resident Evil: Afterlife   \n",
       "648   649      Secret in Their Eyes   \n",
       "649   650                Nine Lives   \n",
       "\n",
       "                                           description              director  \\\n",
       "0    A group of intergalactic criminals are forced ...            James Gunn   \n",
       "1    Following clues to the origin of mankind, a te...          Ridley Scott   \n",
       "2    In a city of humanoid animals, a hustling thea...  Christophe Lourdelet   \n",
       "3    A secret government agency recruits some of th...            David Ayer   \n",
       "4    European mercenaries searching for black powde...           Yimou Zhang   \n",
       "..                                                 ...                   ...   \n",
       "644  A chronicle of Martin Luther King's campaign t...          Ava DuVernay   \n",
       "645  Four years after graduation, an awkward high s...         Michael Dowse   \n",
       "646  While still out to destroy the evil Umbrella C...    Paul W.S. Anderson   \n",
       "648  A tight-knit team of rising investigators, alo...             Billy Ray   \n",
       "649  A stuffy businessman finds himself trapped ins...      Barry Sonnenfeld   \n",
       "\n",
       "                                                actors  year  runtime_minutes  \\\n",
       "0    Chris Pratt, Vin Diesel, Bradley Cooper, Zoe S...  2014              121   \n",
       "1    Noomi Rapace, Logan Marshall-Green, Michael Fa...  2012              124   \n",
       "2    Matthew McConaughey,Reese Witherspoon, Seth Ma...  2016              108   \n",
       "3    Will Smith, Jared Leto, Margot Robbie, Viola D...  2016              123   \n",
       "4        Matt Damon, Tian Jing, Willem Dafoe, Andy Lau  2016              103   \n",
       "..                                                 ...   ...              ...   \n",
       "644  David Oyelowo, Carmen Ejogo, Tim Roth, Lorrain...  2014              128   \n",
       "645  Topher Grace, Anna Faris, Dan Fogler, Teresa P...  2011               97   \n",
       "646  Milla Jovovich, Ali Larter, Wentworth Miller,K...  2010               97   \n",
       "648  Chiwetel Ejiofor, Nicole Kidman, Julia Roberts...  2015              111   \n",
       "649  Kevin Spacey, Jennifer Garner, Robbie Amell,Ch...  2016               87   \n",
       "\n",
       "     rating   votes  production_budget  revenue_millions  metascore  \\\n",
       "0       8.1  757074          170000000            333.13       76.0   \n",
       "1       7.0  485820          125000000            126.46       65.0   \n",
       "2       7.2   60545           75000000            270.32       59.0   \n",
       "3       6.2  393727          175000000            325.02       40.0   \n",
       "4       6.1   56036          150000000             45.13       42.0   \n",
       "..      ...     ...                ...               ...        ...   \n",
       "644     7.5   67637           20000000             52.07        NaN   \n",
       "645     6.3   45419           19000000              6.92        NaN   \n",
       "646     5.9  140900           57500000             60.13       37.0   \n",
       "648     6.2   27585           20000000               NaN       45.0   \n",
       "649     5.3   12435           30000000             19.64       11.0   \n",
       "\n",
       "        genre1     genre2   genre3  \n",
       "0       Action  Adventure   Sci-Fi  \n",
       "1    Adventure    Mystery   Sci-Fi  \n",
       "2    Animation     Comedy   Family  \n",
       "3       Action  Adventure  Fantasy  \n",
       "4       Action  Adventure  Fantasy  \n",
       "..         ...        ...      ...  \n",
       "644  Biography      Drama  History  \n",
       "645     Comedy      Drama  Romance  \n",
       "646     Action  Adventure   Horror  \n",
       "648      Crime      Drama  Mystery  \n",
       "649     Comedy     Family  Fantasy  \n",
       "\n",
       "[487 rows x 15 columns]"
      ]
     },
     "execution_count": 422,
     "metadata": {},
     "output_type": "execute_result"
    }
   ],
   "source": [
    "#DataFrame version\n",
    "movies.dropna(subset=[\"genre3\"])"
   ]
  },
  {
   "cell_type": "code",
   "execution_count": null,
   "id": "7ba60003",
   "metadata": {},
   "outputs": [],
   "source": []
  },
  {
   "cell_type": "markdown",
   "id": "033086b2",
   "metadata": {},
   "source": [
    "**If we wanted to permanently drop nulls what do you guess would be the way to do so?**"
   ]
  },
  {
   "cell_type": "code",
   "execution_count": null,
   "id": "36ac2b73",
   "metadata": {},
   "outputs": [],
   "source": []
  },
  {
   "cell_type": "code",
   "execution_count": null,
   "id": "3068067b",
   "metadata": {},
   "outputs": [],
   "source": []
  },
  {
   "cell_type": "code",
   "execution_count": null,
   "id": "c2cd59dd",
   "metadata": {},
   "outputs": [],
   "source": []
  },
  {
   "cell_type": "markdown",
   "id": "a679aed1",
   "metadata": {},
   "source": [
    "If you said `inplace=True` then you're right!!!"
   ]
  },
  {
   "cell_type": "code",
   "execution_count": 423,
   "id": "ca53457a",
   "metadata": {},
   "outputs": [],
   "source": [
    "# movies.dropna(subset=['genre3'], inplace=True)"
   ]
  },
  {
   "cell_type": "markdown",
   "id": "5f183b9e",
   "metadata": {},
   "source": [
    "Now `movies` has no NaNs under the `genre3` column."
   ]
  },
  {
   "cell_type": "code",
   "execution_count": null,
   "id": "7b4550ea",
   "metadata": {},
   "outputs": [],
   "source": []
  },
  {
   "cell_type": "markdown",
   "id": "0643c33e",
   "metadata": {},
   "source": [
    "Sometimes we may not want to get rid of nulls but rather replace them with our own preferred value. This is what's referred to as imputation. It's a technique typically used in machine learning to \"save\" data that missing data by replacing NaNs with an estimated value — a mean typically used.\n",
    "\n",
    "`.fillna()` replaces nulls with an input value."
   ]
  },
  {
   "cell_type": "code",
   "execution_count": 424,
   "id": "b780da10",
   "metadata": {},
   "outputs": [
    {
     "data": {
      "text/plain": [
       "0      76.000000\n",
       "1      65.000000\n",
       "2      59.000000\n",
       "3      40.000000\n",
       "4      42.000000\n",
       "         ...    \n",
       "645    58.122186\n",
       "646    37.000000\n",
       "647    48.000000\n",
       "648    45.000000\n",
       "649    11.000000\n",
       "Name: metascore, Length: 650, dtype: float64"
      ]
     },
     "execution_count": 424,
     "metadata": {},
     "output_type": "execute_result"
    }
   ],
   "source": [
    "#Replace the missing metascore values with its mean\n",
    "meta_mean = movies.metascore.mean()\n",
    "movies.metascore.fillna(meta_mean)"
   ]
  },
  {
   "cell_type": "markdown",
   "id": "826ba2a5",
   "metadata": {},
   "source": [
    "How can we go about replacing the missing `genre2` and `genre3` values with a string that says \"no_genre\"?"
   ]
  },
  {
   "cell_type": "code",
   "execution_count": 425,
   "id": "7985b339",
   "metadata": {},
   "outputs": [
    {
     "data": {
      "text/plain": [
       "0      Adventure\n",
       "1        Mystery\n",
       "2         Comedy\n",
       "3      Adventure\n",
       "4      Adventure\n",
       "         ...    \n",
       "645        Drama\n",
       "646    Adventure\n",
       "647     no_genre\n",
       "648        Drama\n",
       "649       Family\n",
       "Name: genre2, Length: 650, dtype: object"
      ]
     },
     "execution_count": 425,
     "metadata": {},
     "output_type": "execute_result"
    }
   ],
   "source": [
    "repl = \"no_genre\"\n",
    "movies.genre2.fillna(repl)"
   ]
  },
  {
   "cell_type": "code",
   "execution_count": 426,
   "id": "588bd2a6",
   "metadata": {},
   "outputs": [
    {
     "data": {
      "text/plain": [
       "0        Sci-Fi\n",
       "1        Sci-Fi\n",
       "2        Family\n",
       "3       Fantasy\n",
       "4       Fantasy\n",
       "         ...   \n",
       "645     Romance\n",
       "646      Horror\n",
       "647    no_genre\n",
       "648     Mystery\n",
       "649     Fantasy\n",
       "Name: genre3, Length: 650, dtype: object"
      ]
     },
     "execution_count": 426,
     "metadata": {},
     "output_type": "execute_result"
    }
   ],
   "source": [
    "movies.genre3.fillna(repl)"
   ]
  },
  {
   "cell_type": "code",
   "execution_count": null,
   "id": "2563ed77",
   "metadata": {},
   "outputs": [],
   "source": []
  },
  {
   "cell_type": "markdown",
   "id": "1a365c81",
   "metadata": {},
   "source": [
    "### Changing Data Types"
   ]
  },
  {
   "cell_type": "markdown",
   "id": "129ec6a4",
   "metadata": {},
   "source": [
    "There are instances where data is not encoded in the right way. For instance, numerical data such as dollars and percents presented as strings. "
   ]
  },
  {
   "cell_type": "code",
   "execution_count": 427,
   "id": "3d941fe1",
   "metadata": {},
   "outputs": [
    {
     "data": {
      "text/html": [
       "<div>\n",
       "<style scoped>\n",
       "    .dataframe tbody tr th:only-of-type {\n",
       "        vertical-align: middle;\n",
       "    }\n",
       "\n",
       "    .dataframe tbody tr th {\n",
       "        vertical-align: top;\n",
       "    }\n",
       "\n",
       "    .dataframe thead th {\n",
       "        text-align: right;\n",
       "    }\n",
       "</style>\n",
       "<table border=\"1\" class=\"dataframe\">\n",
       "  <thead>\n",
       "    <tr style=\"text-align: right;\">\n",
       "      <th></th>\n",
       "      <th>percents</th>\n",
       "      <th>revenue</th>\n",
       "    </tr>\n",
       "  </thead>\n",
       "  <tbody>\n",
       "    <tr>\n",
       "      <th>0</th>\n",
       "      <td>30.2</td>\n",
       "      <td>$3438</td>\n",
       "    </tr>\n",
       "    <tr>\n",
       "      <th>1</th>\n",
       "      <td>97.5</td>\n",
       "      <td>$2393</td>\n",
       "    </tr>\n",
       "    <tr>\n",
       "      <th>2</th>\n",
       "      <td>61.0</td>\n",
       "      <td>$1892</td>\n",
       "    </tr>\n",
       "  </tbody>\n",
       "</table>\n",
       "</div>"
      ],
      "text/plain": [
       "  percents revenue\n",
       "0     30.2   $3438\n",
       "1     97.5   $2393\n",
       "2     61.0   $1892"
      ]
     },
     "execution_count": 427,
     "metadata": {},
     "output_type": "execute_result"
    }
   ],
   "source": [
    "#Create fake dataframe \n",
    "percent_sales = pd.DataFrame({\"percents\":[\"30.2\", \"97.5\", \"61.0\"],\n",
    "                               \"revenue\": [\"$3438\", \"$2393\", \"$1892\"]})\n",
    "percent_sales"
   ]
  },
  {
   "cell_type": "code",
   "execution_count": 428,
   "id": "5cb60846",
   "metadata": {},
   "outputs": [
    {
     "data": {
      "text/plain": [
       "percents    object\n",
       "revenue     object\n",
       "dtype: object"
      ]
     },
     "execution_count": 428,
     "metadata": {},
     "output_type": "execute_result"
    }
   ],
   "source": [
    "#View data types\n",
    "percent_sales.dtypes"
   ]
  },
  {
   "cell_type": "markdown",
   "id": "dda0eda7",
   "metadata": {},
   "source": [
    "Changing the type of `percents` can be done with `.astype()` and passing in \"float\" as the desired data type"
   ]
  },
  {
   "cell_type": "code",
   "execution_count": 429,
   "id": "dc659dd0",
   "metadata": {},
   "outputs": [
    {
     "data": {
      "text/plain": [
       "0    30.2\n",
       "1    97.5\n",
       "2    61.0\n",
       "Name: percents, dtype: float64"
      ]
     },
     "execution_count": 429,
     "metadata": {},
     "output_type": "execute_result"
    }
   ],
   "source": [
    "percent_sales.percents.astype(float)"
   ]
  },
  {
   "cell_type": "markdown",
   "id": "8c8a0b38",
   "metadata": {},
   "source": [
    "`.astype()` does not has `inplace=True` so to make it permanent, we overwrite the column. "
   ]
  },
  {
   "cell_type": "code",
   "execution_count": 430,
   "id": "85257841",
   "metadata": {},
   "outputs": [],
   "source": [
    "percent_sales[\"percents\"] = percent_sales.percents.astype(float)"
   ]
  },
  {
   "cell_type": "markdown",
   "id": "fe9a6a83",
   "metadata": {},
   "source": [
    "Now revenue's turn."
   ]
  },
  {
   "cell_type": "code",
   "execution_count": 431,
   "id": "9fb5ddaa",
   "metadata": {},
   "outputs": [
    {
     "ename": "ValueError",
     "evalue": "could not convert string to float: '$3438'",
     "output_type": "error",
     "traceback": [
      "\u001b[0;31m---------------------------------------------------------------------------\u001b[0m",
      "\u001b[0;31mValueError\u001b[0m                                Traceback (most recent call last)",
      "\u001b[0;32m<ipython-input-431-3459eb3eb6f8>\u001b[0m in \u001b[0;36m<module>\u001b[0;34m\u001b[0m\n\u001b[0;32m----> 1\u001b[0;31m \u001b[0mpercent_sales\u001b[0m\u001b[0;34m.\u001b[0m\u001b[0mrevenue\u001b[0m\u001b[0;34m.\u001b[0m\u001b[0mastype\u001b[0m\u001b[0;34m(\u001b[0m\u001b[0mfloat\u001b[0m\u001b[0;34m)\u001b[0m\u001b[0;34m\u001b[0m\u001b[0;34m\u001b[0m\u001b[0m\n\u001b[0m",
      "\u001b[0;32m/usr/local/lib/python3.7/site-packages/pandas/core/generic.py\u001b[0m in \u001b[0;36mastype\u001b[0;34m(self, dtype, copy, errors)\u001b[0m\n\u001b[1;32m   5813\u001b[0m         \u001b[0;32melse\u001b[0m\u001b[0;34m:\u001b[0m\u001b[0;34m\u001b[0m\u001b[0;34m\u001b[0m\u001b[0m\n\u001b[1;32m   5814\u001b[0m             \u001b[0;31m# else, only a single dtype is given\u001b[0m\u001b[0;34m\u001b[0m\u001b[0;34m\u001b[0m\u001b[0;34m\u001b[0m\u001b[0m\n\u001b[0;32m-> 5815\u001b[0;31m             \u001b[0mnew_data\u001b[0m \u001b[0;34m=\u001b[0m \u001b[0mself\u001b[0m\u001b[0;34m.\u001b[0m\u001b[0m_mgr\u001b[0m\u001b[0;34m.\u001b[0m\u001b[0mastype\u001b[0m\u001b[0;34m(\u001b[0m\u001b[0mdtype\u001b[0m\u001b[0;34m=\u001b[0m\u001b[0mdtype\u001b[0m\u001b[0;34m,\u001b[0m \u001b[0mcopy\u001b[0m\u001b[0;34m=\u001b[0m\u001b[0mcopy\u001b[0m\u001b[0;34m,\u001b[0m \u001b[0merrors\u001b[0m\u001b[0;34m=\u001b[0m\u001b[0merrors\u001b[0m\u001b[0;34m)\u001b[0m\u001b[0;34m\u001b[0m\u001b[0;34m\u001b[0m\u001b[0m\n\u001b[0m\u001b[1;32m   5816\u001b[0m             \u001b[0;32mreturn\u001b[0m \u001b[0mself\u001b[0m\u001b[0;34m.\u001b[0m\u001b[0m_constructor\u001b[0m\u001b[0;34m(\u001b[0m\u001b[0mnew_data\u001b[0m\u001b[0;34m)\u001b[0m\u001b[0;34m.\u001b[0m\u001b[0m__finalize__\u001b[0m\u001b[0;34m(\u001b[0m\u001b[0mself\u001b[0m\u001b[0;34m,\u001b[0m \u001b[0mmethod\u001b[0m\u001b[0;34m=\u001b[0m\u001b[0;34m\"astype\"\u001b[0m\u001b[0;34m)\u001b[0m\u001b[0;34m\u001b[0m\u001b[0;34m\u001b[0m\u001b[0m\n\u001b[1;32m   5817\u001b[0m \u001b[0;34m\u001b[0m\u001b[0m\n",
      "\u001b[0;32m/usr/local/lib/python3.7/site-packages/pandas/core/internals/managers.py\u001b[0m in \u001b[0;36mastype\u001b[0;34m(self, dtype, copy, errors)\u001b[0m\n\u001b[1;32m    416\u001b[0m \u001b[0;34m\u001b[0m\u001b[0m\n\u001b[1;32m    417\u001b[0m     \u001b[0;32mdef\u001b[0m \u001b[0mastype\u001b[0m\u001b[0;34m(\u001b[0m\u001b[0mself\u001b[0m\u001b[0;34m:\u001b[0m \u001b[0mT\u001b[0m\u001b[0;34m,\u001b[0m \u001b[0mdtype\u001b[0m\u001b[0;34m,\u001b[0m \u001b[0mcopy\u001b[0m\u001b[0;34m:\u001b[0m \u001b[0mbool\u001b[0m \u001b[0;34m=\u001b[0m \u001b[0;32mFalse\u001b[0m\u001b[0;34m,\u001b[0m \u001b[0merrors\u001b[0m\u001b[0;34m:\u001b[0m \u001b[0mstr\u001b[0m \u001b[0;34m=\u001b[0m \u001b[0;34m\"raise\"\u001b[0m\u001b[0;34m)\u001b[0m \u001b[0;34m->\u001b[0m \u001b[0mT\u001b[0m\u001b[0;34m:\u001b[0m\u001b[0;34m\u001b[0m\u001b[0;34m\u001b[0m\u001b[0m\n\u001b[0;32m--> 418\u001b[0;31m         \u001b[0;32mreturn\u001b[0m \u001b[0mself\u001b[0m\u001b[0;34m.\u001b[0m\u001b[0mapply\u001b[0m\u001b[0;34m(\u001b[0m\u001b[0;34m\"astype\"\u001b[0m\u001b[0;34m,\u001b[0m \u001b[0mdtype\u001b[0m\u001b[0;34m=\u001b[0m\u001b[0mdtype\u001b[0m\u001b[0;34m,\u001b[0m \u001b[0mcopy\u001b[0m\u001b[0;34m=\u001b[0m\u001b[0mcopy\u001b[0m\u001b[0;34m,\u001b[0m \u001b[0merrors\u001b[0m\u001b[0;34m=\u001b[0m\u001b[0merrors\u001b[0m\u001b[0;34m)\u001b[0m\u001b[0;34m\u001b[0m\u001b[0;34m\u001b[0m\u001b[0m\n\u001b[0m\u001b[1;32m    419\u001b[0m \u001b[0;34m\u001b[0m\u001b[0m\n\u001b[1;32m    420\u001b[0m     def convert(\n",
      "\u001b[0;32m/usr/local/lib/python3.7/site-packages/pandas/core/internals/managers.py\u001b[0m in \u001b[0;36mapply\u001b[0;34m(self, f, align_keys, ignore_failures, **kwargs)\u001b[0m\n\u001b[1;32m    325\u001b[0m                     \u001b[0mapplied\u001b[0m \u001b[0;34m=\u001b[0m \u001b[0mb\u001b[0m\u001b[0;34m.\u001b[0m\u001b[0mapply\u001b[0m\u001b[0;34m(\u001b[0m\u001b[0mf\u001b[0m\u001b[0;34m,\u001b[0m \u001b[0;34m**\u001b[0m\u001b[0mkwargs\u001b[0m\u001b[0;34m)\u001b[0m\u001b[0;34m\u001b[0m\u001b[0;34m\u001b[0m\u001b[0m\n\u001b[1;32m    326\u001b[0m                 \u001b[0;32melse\u001b[0m\u001b[0;34m:\u001b[0m\u001b[0;34m\u001b[0m\u001b[0;34m\u001b[0m\u001b[0m\n\u001b[0;32m--> 327\u001b[0;31m                     \u001b[0mapplied\u001b[0m \u001b[0;34m=\u001b[0m \u001b[0mgetattr\u001b[0m\u001b[0;34m(\u001b[0m\u001b[0mb\u001b[0m\u001b[0;34m,\u001b[0m \u001b[0mf\u001b[0m\u001b[0;34m)\u001b[0m\u001b[0;34m(\u001b[0m\u001b[0;34m**\u001b[0m\u001b[0mkwargs\u001b[0m\u001b[0;34m)\u001b[0m\u001b[0;34m\u001b[0m\u001b[0;34m\u001b[0m\u001b[0m\n\u001b[0m\u001b[1;32m    328\u001b[0m             \u001b[0;32mexcept\u001b[0m \u001b[0;34m(\u001b[0m\u001b[0mTypeError\u001b[0m\u001b[0;34m,\u001b[0m \u001b[0mNotImplementedError\u001b[0m\u001b[0;34m)\u001b[0m\u001b[0;34m:\u001b[0m\u001b[0;34m\u001b[0m\u001b[0;34m\u001b[0m\u001b[0m\n\u001b[1;32m    329\u001b[0m                 \u001b[0;32mif\u001b[0m \u001b[0;32mnot\u001b[0m \u001b[0mignore_failures\u001b[0m\u001b[0;34m:\u001b[0m\u001b[0;34m\u001b[0m\u001b[0;34m\u001b[0m\u001b[0m\n",
      "\u001b[0;32m/usr/local/lib/python3.7/site-packages/pandas/core/internals/blocks.py\u001b[0m in \u001b[0;36mastype\u001b[0;34m(self, dtype, copy, errors)\u001b[0m\n\u001b[1;32m    590\u001b[0m         \u001b[0mvalues\u001b[0m \u001b[0;34m=\u001b[0m \u001b[0mself\u001b[0m\u001b[0;34m.\u001b[0m\u001b[0mvalues\u001b[0m\u001b[0;34m\u001b[0m\u001b[0;34m\u001b[0m\u001b[0m\n\u001b[1;32m    591\u001b[0m \u001b[0;34m\u001b[0m\u001b[0m\n\u001b[0;32m--> 592\u001b[0;31m         \u001b[0mnew_values\u001b[0m \u001b[0;34m=\u001b[0m \u001b[0mastype_array_safe\u001b[0m\u001b[0;34m(\u001b[0m\u001b[0mvalues\u001b[0m\u001b[0;34m,\u001b[0m \u001b[0mdtype\u001b[0m\u001b[0;34m,\u001b[0m \u001b[0mcopy\u001b[0m\u001b[0;34m=\u001b[0m\u001b[0mcopy\u001b[0m\u001b[0;34m,\u001b[0m \u001b[0merrors\u001b[0m\u001b[0;34m=\u001b[0m\u001b[0merrors\u001b[0m\u001b[0;34m)\u001b[0m\u001b[0;34m\u001b[0m\u001b[0;34m\u001b[0m\u001b[0m\n\u001b[0m\u001b[1;32m    593\u001b[0m \u001b[0;34m\u001b[0m\u001b[0m\n\u001b[1;32m    594\u001b[0m         \u001b[0mnew_values\u001b[0m \u001b[0;34m=\u001b[0m \u001b[0mmaybe_coerce_values\u001b[0m\u001b[0;34m(\u001b[0m\u001b[0mnew_values\u001b[0m\u001b[0;34m)\u001b[0m\u001b[0;34m\u001b[0m\u001b[0;34m\u001b[0m\u001b[0m\n",
      "\u001b[0;32m/usr/local/lib/python3.7/site-packages/pandas/core/dtypes/cast.py\u001b[0m in \u001b[0;36mastype_array_safe\u001b[0;34m(values, dtype, copy, errors)\u001b[0m\n\u001b[1;32m   1307\u001b[0m \u001b[0;34m\u001b[0m\u001b[0m\n\u001b[1;32m   1308\u001b[0m     \u001b[0;32mtry\u001b[0m\u001b[0;34m:\u001b[0m\u001b[0;34m\u001b[0m\u001b[0;34m\u001b[0m\u001b[0m\n\u001b[0;32m-> 1309\u001b[0;31m         \u001b[0mnew_values\u001b[0m \u001b[0;34m=\u001b[0m \u001b[0mastype_array\u001b[0m\u001b[0;34m(\u001b[0m\u001b[0mvalues\u001b[0m\u001b[0;34m,\u001b[0m \u001b[0mdtype\u001b[0m\u001b[0;34m,\u001b[0m \u001b[0mcopy\u001b[0m\u001b[0;34m=\u001b[0m\u001b[0mcopy\u001b[0m\u001b[0;34m)\u001b[0m\u001b[0;34m\u001b[0m\u001b[0;34m\u001b[0m\u001b[0m\n\u001b[0m\u001b[1;32m   1310\u001b[0m     \u001b[0;32mexcept\u001b[0m \u001b[0;34m(\u001b[0m\u001b[0mValueError\u001b[0m\u001b[0;34m,\u001b[0m \u001b[0mTypeError\u001b[0m\u001b[0;34m)\u001b[0m\u001b[0;34m:\u001b[0m\u001b[0;34m\u001b[0m\u001b[0;34m\u001b[0m\u001b[0m\n\u001b[1;32m   1311\u001b[0m         \u001b[0;31m# e.g. astype_nansafe can fail on object-dtype of strings\u001b[0m\u001b[0;34m\u001b[0m\u001b[0;34m\u001b[0m\u001b[0;34m\u001b[0m\u001b[0m\n",
      "\u001b[0;32m/usr/local/lib/python3.7/site-packages/pandas/core/dtypes/cast.py\u001b[0m in \u001b[0;36mastype_array\u001b[0;34m(values, dtype, copy)\u001b[0m\n\u001b[1;32m   1255\u001b[0m \u001b[0;34m\u001b[0m\u001b[0m\n\u001b[1;32m   1256\u001b[0m     \u001b[0;32melse\u001b[0m\u001b[0;34m:\u001b[0m\u001b[0;34m\u001b[0m\u001b[0;34m\u001b[0m\u001b[0m\n\u001b[0;32m-> 1257\u001b[0;31m         \u001b[0mvalues\u001b[0m \u001b[0;34m=\u001b[0m \u001b[0mastype_nansafe\u001b[0m\u001b[0;34m(\u001b[0m\u001b[0mvalues\u001b[0m\u001b[0;34m,\u001b[0m \u001b[0mdtype\u001b[0m\u001b[0;34m,\u001b[0m \u001b[0mcopy\u001b[0m\u001b[0;34m=\u001b[0m\u001b[0mcopy\u001b[0m\u001b[0;34m)\u001b[0m\u001b[0;34m\u001b[0m\u001b[0;34m\u001b[0m\u001b[0m\n\u001b[0m\u001b[1;32m   1258\u001b[0m \u001b[0;34m\u001b[0m\u001b[0m\n\u001b[1;32m   1259\u001b[0m     \u001b[0;31m# in pandas we don't store numpy str dtypes, so convert to object\u001b[0m\u001b[0;34m\u001b[0m\u001b[0;34m\u001b[0m\u001b[0;34m\u001b[0m\u001b[0m\n",
      "\u001b[0;32m/usr/local/lib/python3.7/site-packages/pandas/core/dtypes/cast.py\u001b[0m in \u001b[0;36mastype_nansafe\u001b[0;34m(arr, dtype, copy, skipna)\u001b[0m\n\u001b[1;32m   1199\u001b[0m     \u001b[0;32mif\u001b[0m \u001b[0mcopy\u001b[0m \u001b[0;32mor\u001b[0m \u001b[0mis_object_dtype\u001b[0m\u001b[0;34m(\u001b[0m\u001b[0marr\u001b[0m\u001b[0;34m.\u001b[0m\u001b[0mdtype\u001b[0m\u001b[0;34m)\u001b[0m \u001b[0;32mor\u001b[0m \u001b[0mis_object_dtype\u001b[0m\u001b[0;34m(\u001b[0m\u001b[0mdtype\u001b[0m\u001b[0;34m)\u001b[0m\u001b[0;34m:\u001b[0m\u001b[0;34m\u001b[0m\u001b[0;34m\u001b[0m\u001b[0m\n\u001b[1;32m   1200\u001b[0m         \u001b[0;31m# Explicit copy, or required since NumPy can't view from / to object.\u001b[0m\u001b[0;34m\u001b[0m\u001b[0;34m\u001b[0m\u001b[0;34m\u001b[0m\u001b[0m\n\u001b[0;32m-> 1201\u001b[0;31m         \u001b[0;32mreturn\u001b[0m \u001b[0marr\u001b[0m\u001b[0;34m.\u001b[0m\u001b[0mastype\u001b[0m\u001b[0;34m(\u001b[0m\u001b[0mdtype\u001b[0m\u001b[0;34m,\u001b[0m \u001b[0mcopy\u001b[0m\u001b[0;34m=\u001b[0m\u001b[0;32mTrue\u001b[0m\u001b[0;34m)\u001b[0m\u001b[0;34m\u001b[0m\u001b[0;34m\u001b[0m\u001b[0m\n\u001b[0m\u001b[1;32m   1202\u001b[0m \u001b[0;34m\u001b[0m\u001b[0m\n\u001b[1;32m   1203\u001b[0m     \u001b[0;32mreturn\u001b[0m \u001b[0marr\u001b[0m\u001b[0;34m.\u001b[0m\u001b[0mastype\u001b[0m\u001b[0;34m(\u001b[0m\u001b[0mdtype\u001b[0m\u001b[0;34m,\u001b[0m \u001b[0mcopy\u001b[0m\u001b[0;34m=\u001b[0m\u001b[0mcopy\u001b[0m\u001b[0;34m)\u001b[0m\u001b[0;34m\u001b[0m\u001b[0;34m\u001b[0m\u001b[0m\n",
      "\u001b[0;31mValueError\u001b[0m: could not convert string to float: '$3438'"
     ]
    }
   ],
   "source": [
    "percent_sales.revenue.astype(float)"
   ]
  },
  {
   "cell_type": "markdown",
   "id": "2a907136",
   "metadata": {},
   "source": [
    "We get an error! \n",
    "\n",
    "That's because of the pesky $ signs. We can only convert string representations of numbers to floats, not non-numerical characters.\n",
    "\n",
    "This necessitates removing the $ sign which introduces us to `.str` which is essentially a method allows us to use typical string methods such as `.lower()` and `.title()` on `Series`."
   ]
  },
  {
   "cell_type": "markdown",
   "id": "34a1ad66",
   "metadata": {},
   "source": [
    "We first call `.str` then `.replace()` which we use to get rid of the $ signs."
   ]
  },
  {
   "cell_type": "code",
   "execution_count": 432,
   "id": "da89c420",
   "metadata": {},
   "outputs": [
    {
     "name": "stderr",
     "output_type": "stream",
     "text": [
      "/usr/local/lib/python3.7/site-packages/ipykernel_launcher.py:1: FutureWarning: The default value of regex will change from True to False in a future version. In addition, single character regular expressions will *not* be treated as literal strings when regex=True.\n",
      "  \"\"\"Entry point for launching an IPython kernel.\n"
     ]
    },
    {
     "data": {
      "text/plain": [
       "0    3438\n",
       "1    2393\n",
       "2    1892\n",
       "Name: revenue, dtype: object"
      ]
     },
     "execution_count": 432,
     "metadata": {},
     "output_type": "execute_result"
    }
   ],
   "source": [
    "percent_sales.revenue.str.replace(\"$\", \"\")"
   ]
  },
  {
   "cell_type": "markdown",
   "id": "b8c75991",
   "metadata": {},
   "source": [
    "Now we can convert \"revenue\" to a float."
   ]
  },
  {
   "cell_type": "code",
   "execution_count": 433,
   "id": "1ce38a78",
   "metadata": {},
   "outputs": [
    {
     "name": "stderr",
     "output_type": "stream",
     "text": [
      "/usr/local/lib/python3.7/site-packages/ipykernel_launcher.py:1: FutureWarning: The default value of regex will change from True to False in a future version. In addition, single character regular expressions will *not* be treated as literal strings when regex=True.\n",
      "  \"\"\"Entry point for launching an IPython kernel.\n"
     ]
    },
    {
     "data": {
      "text/plain": [
       "0    3438.0\n",
       "1    2393.0\n",
       "2    1892.0\n",
       "Name: revenue, dtype: float64"
      ]
     },
     "execution_count": 433,
     "metadata": {},
     "output_type": "execute_result"
    }
   ],
   "source": [
    "percent_sales.revenue.str.replace(\"$\", \"\").astype(float)"
   ]
  },
  {
   "cell_type": "markdown",
   "id": "03c3230a",
   "metadata": {},
   "source": [
    "Go back to the unemployment data"
   ]
  },
  {
   "cell_type": "code",
   "execution_count": 434,
   "id": "5a2ff490",
   "metadata": {},
   "outputs": [
    {
     "data": {
      "text/html": [
       "<div>\n",
       "<style scoped>\n",
       "    .dataframe tbody tr th:only-of-type {\n",
       "        vertical-align: middle;\n",
       "    }\n",
       "\n",
       "    .dataframe tbody tr th {\n",
       "        vertical-align: top;\n",
       "    }\n",
       "\n",
       "    .dataframe thead th {\n",
       "        text-align: right;\n",
       "    }\n",
       "</style>\n",
       "<table border=\"1\" class=\"dataframe\">\n",
       "  <thead>\n",
       "    <tr style=\"text-align: right;\">\n",
       "      <th></th>\n",
       "      <th>country</th>\n",
       "      <th>seasonality</th>\n",
       "      <th>year_month</th>\n",
       "      <th>unemployment</th>\n",
       "      <th>unemployment_rate</th>\n",
       "    </tr>\n",
       "  </thead>\n",
       "  <tbody>\n",
       "    <tr>\n",
       "      <th>0</th>\n",
       "      <td>at</td>\n",
       "      <td>nsa</td>\n",
       "      <td>1993.01</td>\n",
       "      <td>171000</td>\n",
       "      <td>4.5</td>\n",
       "    </tr>\n",
       "    <tr>\n",
       "      <th>1</th>\n",
       "      <td>at</td>\n",
       "      <td>nsa</td>\n",
       "      <td>1993.02</td>\n",
       "      <td>175000</td>\n",
       "      <td>4.6</td>\n",
       "    </tr>\n",
       "    <tr>\n",
       "      <th>2</th>\n",
       "      <td>at</td>\n",
       "      <td>nsa</td>\n",
       "      <td>1993.03</td>\n",
       "      <td>166000</td>\n",
       "      <td>4.4</td>\n",
       "    </tr>\n",
       "    <tr>\n",
       "      <th>3</th>\n",
       "      <td>at</td>\n",
       "      <td>nsa</td>\n",
       "      <td>1993.04</td>\n",
       "      <td>157000</td>\n",
       "      <td>4.1</td>\n",
       "    </tr>\n",
       "    <tr>\n",
       "      <th>4</th>\n",
       "      <td>at</td>\n",
       "      <td>nsa</td>\n",
       "      <td>1993.05</td>\n",
       "      <td>147000</td>\n",
       "      <td>3.9</td>\n",
       "    </tr>\n",
       "  </tbody>\n",
       "</table>\n",
       "</div>"
      ],
      "text/plain": [
       "  country seasonality  year_month  unemployment  unemployment_rate\n",
       "0      at         nsa     1993.01        171000                4.5\n",
       "1      at         nsa     1993.02        175000                4.6\n",
       "2      at         nsa     1993.03        166000                4.4\n",
       "3      at         nsa     1993.04        157000                4.1\n",
       "4      at         nsa     1993.05        147000                3.9"
      ]
     },
     "execution_count": 434,
     "metadata": {},
     "output_type": "execute_result"
    }
   ],
   "source": [
    "unemployment.head()"
   ]
  },
  {
   "cell_type": "markdown",
   "id": "9ed68d02",
   "metadata": {},
   "source": [
    "We need to **split `year_month` into two separate columns.** Above, we saw that this column is type (technically, `dtype`) `float64`. We can extract the year using with `.astype()` method. This allows for type casting&mdash;basically converting from one type to another. We'll then subtract this value from `year_month`&mdash;to get the decimal portion of the value&mdash;and multiply the result by 100 and convert to `int`."
   ]
  },
  {
   "cell_type": "code",
   "execution_count": 435,
   "id": "a5d0fa85",
   "metadata": {},
   "outputs": [],
   "source": [
    "unemployment['year'] = unemployment['year_month'].astype(int)"
   ]
  },
  {
   "cell_type": "markdown",
   "id": "38fc9057",
   "metadata": {},
   "source": [
    "In this case, we're casting the floating point values to integers. In Python, this [truncates the decimals](https://docs.python.org/2/library/stdtypes.html#numeric-types-int-float-long-complex).\n",
    "\n",
    "Finally, let's create our **month** variable as described above. (Because of the truncating that occurs when casting to `int`, we first round the values to the nearest whole number.)"
   ]
  },
  {
   "cell_type": "code",
   "execution_count": 436,
   "id": "479221f6",
   "metadata": {},
   "outputs": [
    {
     "data": {
      "text/html": [
       "<div>\n",
       "<style scoped>\n",
       "    .dataframe tbody tr th:only-of-type {\n",
       "        vertical-align: middle;\n",
       "    }\n",
       "\n",
       "    .dataframe tbody tr th {\n",
       "        vertical-align: top;\n",
       "    }\n",
       "\n",
       "    .dataframe thead th {\n",
       "        text-align: right;\n",
       "    }\n",
       "</style>\n",
       "<table border=\"1\" class=\"dataframe\">\n",
       "  <thead>\n",
       "    <tr style=\"text-align: right;\">\n",
       "      <th></th>\n",
       "      <th>country</th>\n",
       "      <th>seasonality</th>\n",
       "      <th>year_month</th>\n",
       "      <th>unemployment</th>\n",
       "      <th>unemployment_rate</th>\n",
       "      <th>year</th>\n",
       "      <th>month</th>\n",
       "    </tr>\n",
       "  </thead>\n",
       "  <tbody>\n",
       "    <tr>\n",
       "      <th>0</th>\n",
       "      <td>at</td>\n",
       "      <td>nsa</td>\n",
       "      <td>1993.01</td>\n",
       "      <td>171000</td>\n",
       "      <td>4.5</td>\n",
       "      <td>1993</td>\n",
       "      <td>1</td>\n",
       "    </tr>\n",
       "    <tr>\n",
       "      <th>1</th>\n",
       "      <td>at</td>\n",
       "      <td>nsa</td>\n",
       "      <td>1993.02</td>\n",
       "      <td>175000</td>\n",
       "      <td>4.6</td>\n",
       "      <td>1993</td>\n",
       "      <td>2</td>\n",
       "    </tr>\n",
       "    <tr>\n",
       "      <th>2</th>\n",
       "      <td>at</td>\n",
       "      <td>nsa</td>\n",
       "      <td>1993.03</td>\n",
       "      <td>166000</td>\n",
       "      <td>4.4</td>\n",
       "      <td>1993</td>\n",
       "      <td>3</td>\n",
       "    </tr>\n",
       "    <tr>\n",
       "      <th>3</th>\n",
       "      <td>at</td>\n",
       "      <td>nsa</td>\n",
       "      <td>1993.04</td>\n",
       "      <td>157000</td>\n",
       "      <td>4.1</td>\n",
       "      <td>1993</td>\n",
       "      <td>4</td>\n",
       "    </tr>\n",
       "    <tr>\n",
       "      <th>4</th>\n",
       "      <td>at</td>\n",
       "      <td>nsa</td>\n",
       "      <td>1993.05</td>\n",
       "      <td>147000</td>\n",
       "      <td>3.9</td>\n",
       "      <td>1993</td>\n",
       "      <td>5</td>\n",
       "    </tr>\n",
       "  </tbody>\n",
       "</table>\n",
       "</div>"
      ],
      "text/plain": [
       "  country seasonality  year_month  unemployment  unemployment_rate  year  \\\n",
       "0      at         nsa     1993.01        171000                4.5  1993   \n",
       "1      at         nsa     1993.02        175000                4.6  1993   \n",
       "2      at         nsa     1993.03        166000                4.4  1993   \n",
       "3      at         nsa     1993.04        157000                4.1  1993   \n",
       "4      at         nsa     1993.05        147000                3.9  1993   \n",
       "\n",
       "   month  \n",
       "0      1  \n",
       "1      2  \n",
       "2      3  \n",
       "3      4  \n",
       "4      5  "
      ]
     },
     "execution_count": 436,
     "metadata": {},
     "output_type": "execute_result"
    }
   ],
   "source": [
    "unemployment['month'] = ((unemployment['year_month'] - unemployment['year']) * 100).round(0).astype(int)\n",
    "unemployment.head()"
   ]
  },
  {
   "cell_type": "code",
   "execution_count": null,
   "id": "bf811efb",
   "metadata": {},
   "outputs": [],
   "source": []
  },
  {
   "cell_type": "markdown",
   "id": "1b5bc46f",
   "metadata": {},
   "source": [
    "### Inter Column operations\n",
    "\n",
    "The great thing about data is that you create more data from what it's in front of you."
   ]
  },
  {
   "cell_type": "markdown",
   "id": "3ef81d72",
   "metadata": {},
   "source": [
    "This dataset is missing some important information such as the profit line of each film. The good news is we can derive those numbers from what we have in front of us."
   ]
  },
  {
   "cell_type": "markdown",
   "id": "14e8057f",
   "metadata": {},
   "source": [
    "Let's derive the profit figures for our set of films. First thing we need to do is fix the revenue column"
   ]
  },
  {
   "cell_type": "code",
   "execution_count": 437,
   "id": "4794e780",
   "metadata": {},
   "outputs": [],
   "source": [
    "#Multiple revenue_millions by a million\n",
    "movies[\"revenue_millions\"] *= 1_000_000"
   ]
  },
  {
   "cell_type": "code",
   "execution_count": 438,
   "id": "04bfe794",
   "metadata": {},
   "outputs": [
    {
     "data": {
      "text/html": [
       "<div>\n",
       "<style scoped>\n",
       "    .dataframe tbody tr th:only-of-type {\n",
       "        vertical-align: middle;\n",
       "    }\n",
       "\n",
       "    .dataframe tbody tr th {\n",
       "        vertical-align: top;\n",
       "    }\n",
       "\n",
       "    .dataframe thead th {\n",
       "        text-align: right;\n",
       "    }\n",
       "</style>\n",
       "<table border=\"1\" class=\"dataframe\">\n",
       "  <thead>\n",
       "    <tr style=\"text-align: right;\">\n",
       "      <th></th>\n",
       "      <th>rank</th>\n",
       "      <th>title</th>\n",
       "      <th>description</th>\n",
       "      <th>director</th>\n",
       "      <th>actors</th>\n",
       "      <th>year</th>\n",
       "      <th>runtime_minutes</th>\n",
       "      <th>rating</th>\n",
       "      <th>votes</th>\n",
       "      <th>production_budget</th>\n",
       "      <th>revenue_millions</th>\n",
       "      <th>metascore</th>\n",
       "      <th>genre1</th>\n",
       "      <th>genre2</th>\n",
       "      <th>genre3</th>\n",
       "      <th>profit</th>\n",
       "    </tr>\n",
       "  </thead>\n",
       "  <tbody>\n",
       "    <tr>\n",
       "      <th>0</th>\n",
       "      <td>1</td>\n",
       "      <td>Guardians of the Galaxy</td>\n",
       "      <td>A group of intergalactic criminals are forced ...</td>\n",
       "      <td>James Gunn</td>\n",
       "      <td>Chris Pratt, Vin Diesel, Bradley Cooper, Zoe S...</td>\n",
       "      <td>2014</td>\n",
       "      <td>121</td>\n",
       "      <td>8.1</td>\n",
       "      <td>757074</td>\n",
       "      <td>170000000</td>\n",
       "      <td>333130000.0</td>\n",
       "      <td>76.0</td>\n",
       "      <td>Action</td>\n",
       "      <td>Adventure</td>\n",
       "      <td>Sci-Fi</td>\n",
       "      <td>163130000.0</td>\n",
       "    </tr>\n",
       "    <tr>\n",
       "      <th>1</th>\n",
       "      <td>2</td>\n",
       "      <td>Prometheus</td>\n",
       "      <td>Following clues to the origin of mankind, a te...</td>\n",
       "      <td>Ridley Scott</td>\n",
       "      <td>Noomi Rapace, Logan Marshall-Green, Michael Fa...</td>\n",
       "      <td>2012</td>\n",
       "      <td>124</td>\n",
       "      <td>7.0</td>\n",
       "      <td>485820</td>\n",
       "      <td>125000000</td>\n",
       "      <td>126460000.0</td>\n",
       "      <td>65.0</td>\n",
       "      <td>Adventure</td>\n",
       "      <td>Mystery</td>\n",
       "      <td>Sci-Fi</td>\n",
       "      <td>1460000.0</td>\n",
       "    </tr>\n",
       "    <tr>\n",
       "      <th>2</th>\n",
       "      <td>3</td>\n",
       "      <td>Sing</td>\n",
       "      <td>In a city of humanoid animals, a hustling thea...</td>\n",
       "      <td>Christophe Lourdelet</td>\n",
       "      <td>Matthew McConaughey,Reese Witherspoon, Seth Ma...</td>\n",
       "      <td>2016</td>\n",
       "      <td>108</td>\n",
       "      <td>7.2</td>\n",
       "      <td>60545</td>\n",
       "      <td>75000000</td>\n",
       "      <td>270320000.0</td>\n",
       "      <td>59.0</td>\n",
       "      <td>Animation</td>\n",
       "      <td>Comedy</td>\n",
       "      <td>Family</td>\n",
       "      <td>195320000.0</td>\n",
       "    </tr>\n",
       "    <tr>\n",
       "      <th>3</th>\n",
       "      <td>4</td>\n",
       "      <td>Suicide Squad</td>\n",
       "      <td>A secret government agency recruits some of th...</td>\n",
       "      <td>David Ayer</td>\n",
       "      <td>Will Smith, Jared Leto, Margot Robbie, Viola D...</td>\n",
       "      <td>2016</td>\n",
       "      <td>123</td>\n",
       "      <td>6.2</td>\n",
       "      <td>393727</td>\n",
       "      <td>175000000</td>\n",
       "      <td>325020000.0</td>\n",
       "      <td>40.0</td>\n",
       "      <td>Action</td>\n",
       "      <td>Adventure</td>\n",
       "      <td>Fantasy</td>\n",
       "      <td>150020000.0</td>\n",
       "    </tr>\n",
       "    <tr>\n",
       "      <th>4</th>\n",
       "      <td>5</td>\n",
       "      <td>The Great Wall</td>\n",
       "      <td>European mercenaries searching for black powde...</td>\n",
       "      <td>Yimou Zhang</td>\n",
       "      <td>Matt Damon, Tian Jing, Willem Dafoe, Andy Lau</td>\n",
       "      <td>2016</td>\n",
       "      <td>103</td>\n",
       "      <td>6.1</td>\n",
       "      <td>56036</td>\n",
       "      <td>150000000</td>\n",
       "      <td>45130000.0</td>\n",
       "      <td>42.0</td>\n",
       "      <td>Action</td>\n",
       "      <td>Adventure</td>\n",
       "      <td>Fantasy</td>\n",
       "      <td>-104870000.0</td>\n",
       "    </tr>\n",
       "  </tbody>\n",
       "</table>\n",
       "</div>"
      ],
      "text/plain": [
       "   rank                    title  \\\n",
       "0     1  Guardians of the Galaxy   \n",
       "1     2               Prometheus   \n",
       "2     3                     Sing   \n",
       "3     4            Suicide Squad   \n",
       "4     5           The Great Wall   \n",
       "\n",
       "                                         description              director  \\\n",
       "0  A group of intergalactic criminals are forced ...            James Gunn   \n",
       "1  Following clues to the origin of mankind, a te...          Ridley Scott   \n",
       "2  In a city of humanoid animals, a hustling thea...  Christophe Lourdelet   \n",
       "3  A secret government agency recruits some of th...            David Ayer   \n",
       "4  European mercenaries searching for black powde...           Yimou Zhang   \n",
       "\n",
       "                                              actors  year  runtime_minutes  \\\n",
       "0  Chris Pratt, Vin Diesel, Bradley Cooper, Zoe S...  2014              121   \n",
       "1  Noomi Rapace, Logan Marshall-Green, Michael Fa...  2012              124   \n",
       "2  Matthew McConaughey,Reese Witherspoon, Seth Ma...  2016              108   \n",
       "3  Will Smith, Jared Leto, Margot Robbie, Viola D...  2016              123   \n",
       "4      Matt Damon, Tian Jing, Willem Dafoe, Andy Lau  2016              103   \n",
       "\n",
       "   rating   votes  production_budget  revenue_millions  metascore     genre1  \\\n",
       "0     8.1  757074          170000000       333130000.0       76.0     Action   \n",
       "1     7.0  485820          125000000       126460000.0       65.0  Adventure   \n",
       "2     7.2   60545           75000000       270320000.0       59.0  Animation   \n",
       "3     6.2  393727          175000000       325020000.0       40.0     Action   \n",
       "4     6.1   56036          150000000        45130000.0       42.0     Action   \n",
       "\n",
       "      genre2   genre3       profit  \n",
       "0  Adventure   Sci-Fi  163130000.0  \n",
       "1    Mystery   Sci-Fi    1460000.0  \n",
       "2     Comedy   Family  195320000.0  \n",
       "3  Adventure  Fantasy  150020000.0  \n",
       "4  Adventure  Fantasy -104870000.0  "
      ]
     },
     "execution_count": 438,
     "metadata": {},
     "output_type": "execute_result"
    }
   ],
   "source": [
    "#Create a new column in movies called profit by subtracting production_budget from revenue_millions\n",
    "movies[\"profit\"] = movies[\"revenue_millions\"] - movies[\"production_budget\"]\n",
    "movies.head()"
   ]
  },
  {
   "cell_type": "code",
   "execution_count": null,
   "id": "2a31c16d",
   "metadata": {},
   "outputs": [],
   "source": []
  },
  {
   "cell_type": "markdown",
   "id": "0368631a",
   "metadata": {},
   "source": [
    "### Challenge 4\n",
    "\n",
    "Time for some pokemon data analysis. Using the `pokemon` dataset complete the following tasks\n",
    "\n",
    "- What are the 10 pokemon with the highest and lowest hp values? Show just the name\n",
    "- Which 3 columns have the most null values?\n",
    "- Create a new column that represents `height_m` in inches. Reminder: There 39.37 inches in a meter.\n",
    "- What are is the average speed for pokemon that are marked as 1 and 0 under `is_legendary`"
   ]
  },
  {
   "cell_type": "code",
   "execution_count": 439,
   "id": "768610f3",
   "metadata": {},
   "outputs": [
    {
     "data": {
      "text/html": [
       "<div>\n",
       "<style scoped>\n",
       "    .dataframe tbody tr th:only-of-type {\n",
       "        vertical-align: middle;\n",
       "    }\n",
       "\n",
       "    .dataframe tbody tr th {\n",
       "        vertical-align: top;\n",
       "    }\n",
       "\n",
       "    .dataframe thead th {\n",
       "        text-align: right;\n",
       "    }\n",
       "</style>\n",
       "<table border=\"1\" class=\"dataframe\">\n",
       "  <thead>\n",
       "    <tr style=\"text-align: right;\">\n",
       "      <th></th>\n",
       "      <th>attack</th>\n",
       "      <th>base_egg_steps</th>\n",
       "      <th>base_happiness</th>\n",
       "      <th>base_total</th>\n",
       "      <th>capture_rate</th>\n",
       "      <th>classfication</th>\n",
       "      <th>defense</th>\n",
       "      <th>experience_growth</th>\n",
       "      <th>height_m</th>\n",
       "      <th>hp</th>\n",
       "      <th>...</th>\n",
       "      <th>percentage_male</th>\n",
       "      <th>pokedex_number</th>\n",
       "      <th>sp_attack</th>\n",
       "      <th>sp_defense</th>\n",
       "      <th>speed</th>\n",
       "      <th>type1</th>\n",
       "      <th>type2</th>\n",
       "      <th>weight_kg</th>\n",
       "      <th>generation</th>\n",
       "      <th>is_legendary</th>\n",
       "    </tr>\n",
       "  </thead>\n",
       "  <tbody>\n",
       "    <tr>\n",
       "      <th>0</th>\n",
       "      <td>49</td>\n",
       "      <td>5120</td>\n",
       "      <td>70</td>\n",
       "      <td>318</td>\n",
       "      <td>45</td>\n",
       "      <td>Seed Pokémon</td>\n",
       "      <td>49</td>\n",
       "      <td>1059860</td>\n",
       "      <td>0.7</td>\n",
       "      <td>45</td>\n",
       "      <td>...</td>\n",
       "      <td>88.1</td>\n",
       "      <td>1</td>\n",
       "      <td>65</td>\n",
       "      <td>65</td>\n",
       "      <td>45</td>\n",
       "      <td>grass</td>\n",
       "      <td>poison</td>\n",
       "      <td>6.9</td>\n",
       "      <td>1</td>\n",
       "      <td>0</td>\n",
       "    </tr>\n",
       "    <tr>\n",
       "      <th>1</th>\n",
       "      <td>62</td>\n",
       "      <td>5120</td>\n",
       "      <td>70</td>\n",
       "      <td>405</td>\n",
       "      <td>45</td>\n",
       "      <td>Seed Pokémon</td>\n",
       "      <td>63</td>\n",
       "      <td>1059860</td>\n",
       "      <td>1.0</td>\n",
       "      <td>60</td>\n",
       "      <td>...</td>\n",
       "      <td>88.1</td>\n",
       "      <td>2</td>\n",
       "      <td>80</td>\n",
       "      <td>80</td>\n",
       "      <td>60</td>\n",
       "      <td>grass</td>\n",
       "      <td>poison</td>\n",
       "      <td>13.0</td>\n",
       "      <td>1</td>\n",
       "      <td>0</td>\n",
       "    </tr>\n",
       "    <tr>\n",
       "      <th>2</th>\n",
       "      <td>100</td>\n",
       "      <td>5120</td>\n",
       "      <td>70</td>\n",
       "      <td>625</td>\n",
       "      <td>45</td>\n",
       "      <td>Seed Pokémon</td>\n",
       "      <td>123</td>\n",
       "      <td>1059860</td>\n",
       "      <td>2.0</td>\n",
       "      <td>80</td>\n",
       "      <td>...</td>\n",
       "      <td>88.1</td>\n",
       "      <td>3</td>\n",
       "      <td>122</td>\n",
       "      <td>120</td>\n",
       "      <td>80</td>\n",
       "      <td>grass</td>\n",
       "      <td>poison</td>\n",
       "      <td>100.0</td>\n",
       "      <td>1</td>\n",
       "      <td>0</td>\n",
       "    </tr>\n",
       "    <tr>\n",
       "      <th>3</th>\n",
       "      <td>52</td>\n",
       "      <td>5120</td>\n",
       "      <td>70</td>\n",
       "      <td>309</td>\n",
       "      <td>45</td>\n",
       "      <td>Lizard Pokémon</td>\n",
       "      <td>43</td>\n",
       "      <td>1059860</td>\n",
       "      <td>0.6</td>\n",
       "      <td>39</td>\n",
       "      <td>...</td>\n",
       "      <td>88.1</td>\n",
       "      <td>4</td>\n",
       "      <td>60</td>\n",
       "      <td>50</td>\n",
       "      <td>65</td>\n",
       "      <td>fire</td>\n",
       "      <td>NaN</td>\n",
       "      <td>8.5</td>\n",
       "      <td>1</td>\n",
       "      <td>0</td>\n",
       "    </tr>\n",
       "    <tr>\n",
       "      <th>4</th>\n",
       "      <td>64</td>\n",
       "      <td>5120</td>\n",
       "      <td>70</td>\n",
       "      <td>405</td>\n",
       "      <td>45</td>\n",
       "      <td>Flame Pokémon</td>\n",
       "      <td>58</td>\n",
       "      <td>1059860</td>\n",
       "      <td>1.1</td>\n",
       "      <td>58</td>\n",
       "      <td>...</td>\n",
       "      <td>88.1</td>\n",
       "      <td>5</td>\n",
       "      <td>80</td>\n",
       "      <td>65</td>\n",
       "      <td>80</td>\n",
       "      <td>fire</td>\n",
       "      <td>NaN</td>\n",
       "      <td>19.0</td>\n",
       "      <td>1</td>\n",
       "      <td>0</td>\n",
       "    </tr>\n",
       "  </tbody>\n",
       "</table>\n",
       "<p>5 rows × 22 columns</p>\n",
       "</div>"
      ],
      "text/plain": [
       "   attack  base_egg_steps  base_happiness  base_total capture_rate  \\\n",
       "0      49            5120              70         318           45   \n",
       "1      62            5120              70         405           45   \n",
       "2     100            5120              70         625           45   \n",
       "3      52            5120              70         309           45   \n",
       "4      64            5120              70         405           45   \n",
       "\n",
       "    classfication  defense  experience_growth  height_m  hp  ...  \\\n",
       "0    Seed Pokémon       49            1059860       0.7  45  ...   \n",
       "1    Seed Pokémon       63            1059860       1.0  60  ...   \n",
       "2    Seed Pokémon      123            1059860       2.0  80  ...   \n",
       "3  Lizard Pokémon       43            1059860       0.6  39  ...   \n",
       "4   Flame Pokémon       58            1059860       1.1  58  ...   \n",
       "\n",
       "  percentage_male pokedex_number  sp_attack  sp_defense  speed  type1   type2  \\\n",
       "0            88.1              1         65          65     45  grass  poison   \n",
       "1            88.1              2         80          80     60  grass  poison   \n",
       "2            88.1              3        122         120     80  grass  poison   \n",
       "3            88.1              4         60          50     65   fire     NaN   \n",
       "4            88.1              5         80          65     80   fire     NaN   \n",
       "\n",
       "  weight_kg generation  is_legendary  \n",
       "0       6.9          1             0  \n",
       "1      13.0          1             0  \n",
       "2     100.0          1             0  \n",
       "3       8.5          1             0  \n",
       "4      19.0          1             0  \n",
       "\n",
       "[5 rows x 22 columns]"
      ]
     },
     "execution_count": 439,
     "metadata": {},
     "output_type": "execute_result"
    }
   ],
   "source": [
    "pokemon = pd.read_csv(\"data/pokemon.csv\")\n",
    "pokemon.head()"
   ]
  },
  {
   "cell_type": "code",
   "execution_count": 440,
   "id": "34ca00bb",
   "metadata": {},
   "outputs": [
    {
     "data": {
      "text/plain": [
       "241      Blissey\n",
       "112      Chansey\n",
       "798     Guzzlord\n",
       "717      Zygarde\n",
       "201    Wobbuffet\n",
       "320      Wailord\n",
       "593    Alomomola\n",
       "142      Snorlax\n",
       "288      Slaking\n",
       "425     Drifblim\n",
       "Name: name, dtype: object"
      ]
     },
     "execution_count": 440,
     "metadata": {},
     "output_type": "execute_result"
    }
   ],
   "source": [
    "#Task1 \n",
    "pokemon.nlargest(10, columns=[\"hp\"])['name']"
   ]
  },
  {
   "cell_type": "code",
   "execution_count": 441,
   "id": "4bd38fe5",
   "metadata": {},
   "outputs": [
    {
     "data": {
      "text/plain": [
       "291     Shedinja\n",
       "49       Diglett\n",
       "128     Magikarp\n",
       "171        Pichu\n",
       "212      Shuckle\n",
       "348       Feebas\n",
       "354      Duskull\n",
       "438     Mime Jr.\n",
       "62          Abra\n",
       "80     Magnemite\n",
       "Name: name, dtype: object"
      ]
     },
     "execution_count": 441,
     "metadata": {},
     "output_type": "execute_result"
    }
   ],
   "source": [
    "pokemon.nsmallest(10, columns=[\"hp\"])['name']"
   ]
  },
  {
   "cell_type": "code",
   "execution_count": 442,
   "id": "41d0b28a",
   "metadata": {},
   "outputs": [
    {
     "data": {
      "text/plain": [
       "type2              384\n",
       "percentage_male     98\n",
       "height_m            20\n",
       "dtype: int64"
      ]
     },
     "execution_count": 442,
     "metadata": {},
     "output_type": "execute_result"
    }
   ],
   "source": [
    "#Task2\n",
    "pokemon.isnull().sum().nlargest(3)"
   ]
  },
  {
   "cell_type": "code",
   "execution_count": 443,
   "id": "00512fad",
   "metadata": {},
   "outputs": [
    {
     "data": {
      "text/plain": [
       "0    27.559\n",
       "1    39.370\n",
       "2    78.740\n",
       "3    23.622\n",
       "4    43.307\n",
       "Name: height_inches, dtype: float64"
      ]
     },
     "execution_count": 443,
     "metadata": {},
     "output_type": "execute_result"
    }
   ],
   "source": [
    "#Task3\n",
    "pokemon['height_inches'] = pokemon.height_m*39.37\n",
    "pokemon.height_inches.head()"
   ]
  },
  {
   "cell_type": "code",
   "execution_count": 444,
   "id": "ff92177a",
   "metadata": {},
   "outputs": [
    {
     "data": {
      "text/plain": [
       "95.42857142857143"
      ]
     },
     "execution_count": 444,
     "metadata": {},
     "output_type": "execute_result"
    }
   ],
   "source": [
    "#Task4\n",
    "pokemon[pokemon.is_legendary == 1].speed.mean()"
   ]
  },
  {
   "cell_type": "code",
   "execution_count": 445,
   "id": "60b99cbb",
   "metadata": {},
   "outputs": [
    {
     "data": {
      "text/plain": [
       "63.548563611491105"
      ]
     },
     "execution_count": 445,
     "metadata": {},
     "output_type": "execute_result"
    }
   ],
   "source": [
    "pokemon[pokemon.is_legendary == 0].speed.mean()"
   ]
  },
  {
   "cell_type": "code",
   "execution_count": null,
   "id": "63cdcb79",
   "metadata": {},
   "outputs": [],
   "source": []
  },
  {
   "cell_type": "markdown",
   "id": "866a5009",
   "metadata": {},
   "source": [
    "## 5. Groupby  <a id=\"section5\"/>"
   ]
  },
  {
   "cell_type": "code",
   "execution_count": null,
   "id": "3767f0c5",
   "metadata": {},
   "outputs": [],
   "source": []
  },
  {
   "cell_type": "markdown",
   "id": "c5ad0a49",
   "metadata": {},
   "source": [
    "\n",
    "What if we'd like to apply certain operations based on a categorization of data? For instance deriving the average rating value for each film genre?\n",
    "\n",
    "In other words we need to *group* the films *by* their genre designation.\n",
    "\n",
    "Which we can do with the `.groupby()` method."
   ]
  },
  {
   "cell_type": "code",
   "execution_count": 446,
   "id": "6b29d9dd",
   "metadata": {},
   "outputs": [
    {
     "data": {
      "text/plain": [
       "genre1\n",
       "Action       6.602834\n",
       "Adventure    7.028070\n",
       "Animation    7.238636\n",
       "Biography    7.378261\n",
       "Comedy       6.327835\n",
       "Crime        7.102326\n",
       "Drama        7.078022\n",
       "Fantasy      6.733333\n",
       "Horror       6.176923\n",
       "Mystery      7.285714\n",
       "Romance      7.100000\n",
       "Sci-Fi       5.000000\n",
       "Name: rating, dtype: float64"
      ]
     },
     "execution_count": 446,
     "metadata": {},
     "output_type": "execute_result"
    }
   ],
   "source": [
    "#Calculate the average rating by genre.\n",
    "movies.groupby(\"genre1\").rating.mean()"
   ]
  },
  {
   "cell_type": "markdown",
   "id": "b79c10e0",
   "metadata": {},
   "source": [
    "Let's explain what just happened. We start with our `DataFrame`. We tell `pandas` that we want to group the data by generation;that's what goes in the parentheses. Next, we need to tell it what column we'd like to perform the `.mean()` operation on. In this case, it's the `rating` attribute."
   ]
  },
  {
   "cell_type": "code",
   "execution_count": 447,
   "id": "ed0fb99e",
   "metadata": {},
   "outputs": [
    {
     "data": {
      "text/html": [
       "<div>\n",
       "<style scoped>\n",
       "    .dataframe tbody tr th:only-of-type {\n",
       "        vertical-align: middle;\n",
       "    }\n",
       "\n",
       "    .dataframe tbody tr th {\n",
       "        vertical-align: top;\n",
       "    }\n",
       "\n",
       "    .dataframe thead th {\n",
       "        text-align: right;\n",
       "    }\n",
       "</style>\n",
       "<table border=\"1\" class=\"dataframe\">\n",
       "  <thead>\n",
       "    <tr style=\"text-align: right;\">\n",
       "      <th></th>\n",
       "      <th>count</th>\n",
       "      <th>mean</th>\n",
       "      <th>std</th>\n",
       "      <th>min</th>\n",
       "      <th>25%</th>\n",
       "      <th>50%</th>\n",
       "      <th>75%</th>\n",
       "      <th>max</th>\n",
       "    </tr>\n",
       "    <tr>\n",
       "      <th>genre1</th>\n",
       "      <th></th>\n",
       "      <th></th>\n",
       "      <th></th>\n",
       "      <th></th>\n",
       "      <th></th>\n",
       "      <th></th>\n",
       "      <th></th>\n",
       "      <th></th>\n",
       "    </tr>\n",
       "  </thead>\n",
       "  <tbody>\n",
       "    <tr>\n",
       "      <th>Action</th>\n",
       "      <td>247.0</td>\n",
       "      <td>6.602834</td>\n",
       "      <td>0.884207</td>\n",
       "      <td>2.7</td>\n",
       "      <td>6.00</td>\n",
       "      <td>6.6</td>\n",
       "      <td>7.100</td>\n",
       "      <td>9.0</td>\n",
       "    </tr>\n",
       "    <tr>\n",
       "      <th>Adventure</th>\n",
       "      <td>57.0</td>\n",
       "      <td>7.028070</td>\n",
       "      <td>0.794570</td>\n",
       "      <td>4.9</td>\n",
       "      <td>6.30</td>\n",
       "      <td>7.2</td>\n",
       "      <td>7.600</td>\n",
       "      <td>8.6</td>\n",
       "    </tr>\n",
       "    <tr>\n",
       "      <th>Animation</th>\n",
       "      <td>44.0</td>\n",
       "      <td>7.238636</td>\n",
       "      <td>0.675559</td>\n",
       "      <td>5.7</td>\n",
       "      <td>6.70</td>\n",
       "      <td>7.3</td>\n",
       "      <td>7.800</td>\n",
       "      <td>8.3</td>\n",
       "    </tr>\n",
       "    <tr>\n",
       "      <th>Biography</th>\n",
       "      <td>46.0</td>\n",
       "      <td>7.378261</td>\n",
       "      <td>0.483466</td>\n",
       "      <td>6.4</td>\n",
       "      <td>7.00</td>\n",
       "      <td>7.4</td>\n",
       "      <td>7.775</td>\n",
       "      <td>8.2</td>\n",
       "    </tr>\n",
       "    <tr>\n",
       "      <th>Comedy</th>\n",
       "      <td>97.0</td>\n",
       "      <td>6.327835</td>\n",
       "      <td>0.892182</td>\n",
       "      <td>1.9</td>\n",
       "      <td>5.90</td>\n",
       "      <td>6.4</td>\n",
       "      <td>6.800</td>\n",
       "      <td>8.3</td>\n",
       "    </tr>\n",
       "    <tr>\n",
       "      <th>Crime</th>\n",
       "      <td>43.0</td>\n",
       "      <td>7.102326</td>\n",
       "      <td>0.769505</td>\n",
       "      <td>5.3</td>\n",
       "      <td>6.50</td>\n",
       "      <td>7.3</td>\n",
       "      <td>7.700</td>\n",
       "      <td>8.5</td>\n",
       "    </tr>\n",
       "    <tr>\n",
       "      <th>Drama</th>\n",
       "      <td>91.0</td>\n",
       "      <td>7.078022</td>\n",
       "      <td>0.860078</td>\n",
       "      <td>3.9</td>\n",
       "      <td>6.70</td>\n",
       "      <td>7.3</td>\n",
       "      <td>7.600</td>\n",
       "      <td>8.5</td>\n",
       "    </tr>\n",
       "    <tr>\n",
       "      <th>Fantasy</th>\n",
       "      <td>3.0</td>\n",
       "      <td>6.733333</td>\n",
       "      <td>0.208167</td>\n",
       "      <td>6.5</td>\n",
       "      <td>6.65</td>\n",
       "      <td>6.8</td>\n",
       "      <td>6.850</td>\n",
       "      <td>6.9</td>\n",
       "    </tr>\n",
       "    <tr>\n",
       "      <th>Horror</th>\n",
       "      <td>13.0</td>\n",
       "      <td>6.176923</td>\n",
       "      <td>0.831819</td>\n",
       "      <td>4.8</td>\n",
       "      <td>5.60</td>\n",
       "      <td>6.2</td>\n",
       "      <td>7.000</td>\n",
       "      <td>7.5</td>\n",
       "    </tr>\n",
       "    <tr>\n",
       "      <th>Mystery</th>\n",
       "      <td>7.0</td>\n",
       "      <td>7.285714</td>\n",
       "      <td>0.459814</td>\n",
       "      <td>6.6</td>\n",
       "      <td>7.10</td>\n",
       "      <td>7.2</td>\n",
       "      <td>7.450</td>\n",
       "      <td>8.1</td>\n",
       "    </tr>\n",
       "    <tr>\n",
       "      <th>Romance</th>\n",
       "      <td>1.0</td>\n",
       "      <td>7.100000</td>\n",
       "      <td>NaN</td>\n",
       "      <td>7.1</td>\n",
       "      <td>7.10</td>\n",
       "      <td>7.1</td>\n",
       "      <td>7.100</td>\n",
       "      <td>7.1</td>\n",
       "    </tr>\n",
       "    <tr>\n",
       "      <th>Sci-Fi</th>\n",
       "      <td>1.0</td>\n",
       "      <td>5.000000</td>\n",
       "      <td>NaN</td>\n",
       "      <td>5.0</td>\n",
       "      <td>5.00</td>\n",
       "      <td>5.0</td>\n",
       "      <td>5.000</td>\n",
       "      <td>5.0</td>\n",
       "    </tr>\n",
       "  </tbody>\n",
       "</table>\n",
       "</div>"
      ],
      "text/plain": [
       "           count      mean       std  min   25%  50%    75%  max\n",
       "genre1                                                          \n",
       "Action     247.0  6.602834  0.884207  2.7  6.00  6.6  7.100  9.0\n",
       "Adventure   57.0  7.028070  0.794570  4.9  6.30  7.2  7.600  8.6\n",
       "Animation   44.0  7.238636  0.675559  5.7  6.70  7.3  7.800  8.3\n",
       "Biography   46.0  7.378261  0.483466  6.4  7.00  7.4  7.775  8.2\n",
       "Comedy      97.0  6.327835  0.892182  1.9  5.90  6.4  6.800  8.3\n",
       "Crime       43.0  7.102326  0.769505  5.3  6.50  7.3  7.700  8.5\n",
       "Drama       91.0  7.078022  0.860078  3.9  6.70  7.3  7.600  8.5\n",
       "Fantasy      3.0  6.733333  0.208167  6.5  6.65  6.8  6.850  6.9\n",
       "Horror      13.0  6.176923  0.831819  4.8  5.60  6.2  7.000  7.5\n",
       "Mystery      7.0  7.285714  0.459814  6.6  7.10  7.2  7.450  8.1\n",
       "Romance      1.0  7.100000       NaN  7.1  7.10  7.1  7.100  7.1\n",
       "Sci-Fi       1.0  5.000000       NaN  5.0  5.00  5.0  5.000  5.0"
      ]
     },
     "execution_count": 447,
     "metadata": {},
     "output_type": "execute_result"
    }
   ],
   "source": [
    "#Repeat but with .describe()\n",
    "movies.groupby(\"genre1\").rating.describe()"
   ]
  },
  {
   "cell_type": "markdown",
   "id": "ce25a1ab",
   "metadata": {},
   "source": [
    "We can also groupby multiple columns as well."
   ]
  },
  {
   "cell_type": "code",
   "execution_count": 448,
   "id": "3b4849f5",
   "metadata": {},
   "outputs": [
    {
     "data": {
      "text/plain": [
       "genre1   year\n",
       "Action   2006    6.940000\n",
       "         2007    7.062500\n",
       "         2008    6.890000\n",
       "         2009    6.615385\n",
       "         2010    6.545455\n",
       "                   ...   \n",
       "Mystery  2010    7.650000\n",
       "         2011    7.333333\n",
       "         2015    7.100000\n",
       "Romance  2011    7.100000\n",
       "Sci-Fi   2008    5.000000\n",
       "Name: rating, Length: 93, dtype: float64"
      ]
     },
     "execution_count": 448,
     "metadata": {},
     "output_type": "execute_result"
    }
   ],
   "source": [
    "#Initialize list of columns to group by with\n",
    "cols = [\"genre1\", \"year\"]\n",
    "movies.groupby(cols).rating.mean()"
   ]
  },
  {
   "cell_type": "code",
   "execution_count": 449,
   "id": "a090f7df",
   "metadata": {},
   "outputs": [
    {
     "data": {
      "text/html": [
       "<div>\n",
       "<style scoped>\n",
       "    .dataframe tbody tr th:only-of-type {\n",
       "        vertical-align: middle;\n",
       "    }\n",
       "\n",
       "    .dataframe tbody tr th {\n",
       "        vertical-align: top;\n",
       "    }\n",
       "\n",
       "    .dataframe thead th {\n",
       "        text-align: right;\n",
       "    }\n",
       "</style>\n",
       "<table border=\"1\" class=\"dataframe\">\n",
       "  <thead>\n",
       "    <tr style=\"text-align: right;\">\n",
       "      <th></th>\n",
       "      <th>genre1</th>\n",
       "      <th>year</th>\n",
       "      <th>rating</th>\n",
       "    </tr>\n",
       "  </thead>\n",
       "  <tbody>\n",
       "    <tr>\n",
       "      <th>0</th>\n",
       "      <td>Action</td>\n",
       "      <td>2006</td>\n",
       "      <td>6.940000</td>\n",
       "    </tr>\n",
       "    <tr>\n",
       "      <th>1</th>\n",
       "      <td>Action</td>\n",
       "      <td>2007</td>\n",
       "      <td>7.062500</td>\n",
       "    </tr>\n",
       "    <tr>\n",
       "      <th>2</th>\n",
       "      <td>Action</td>\n",
       "      <td>2008</td>\n",
       "      <td>6.890000</td>\n",
       "    </tr>\n",
       "    <tr>\n",
       "      <th>3</th>\n",
       "      <td>Action</td>\n",
       "      <td>2009</td>\n",
       "      <td>6.615385</td>\n",
       "    </tr>\n",
       "    <tr>\n",
       "      <th>4</th>\n",
       "      <td>Action</td>\n",
       "      <td>2010</td>\n",
       "      <td>6.545455</td>\n",
       "    </tr>\n",
       "    <tr>\n",
       "      <th>...</th>\n",
       "      <td>...</td>\n",
       "      <td>...</td>\n",
       "      <td>...</td>\n",
       "    </tr>\n",
       "    <tr>\n",
       "      <th>88</th>\n",
       "      <td>Mystery</td>\n",
       "      <td>2010</td>\n",
       "      <td>7.650000</td>\n",
       "    </tr>\n",
       "    <tr>\n",
       "      <th>89</th>\n",
       "      <td>Mystery</td>\n",
       "      <td>2011</td>\n",
       "      <td>7.333333</td>\n",
       "    </tr>\n",
       "    <tr>\n",
       "      <th>90</th>\n",
       "      <td>Mystery</td>\n",
       "      <td>2015</td>\n",
       "      <td>7.100000</td>\n",
       "    </tr>\n",
       "    <tr>\n",
       "      <th>91</th>\n",
       "      <td>Romance</td>\n",
       "      <td>2011</td>\n",
       "      <td>7.100000</td>\n",
       "    </tr>\n",
       "    <tr>\n",
       "      <th>92</th>\n",
       "      <td>Sci-Fi</td>\n",
       "      <td>2008</td>\n",
       "      <td>5.000000</td>\n",
       "    </tr>\n",
       "  </tbody>\n",
       "</table>\n",
       "<p>93 rows × 3 columns</p>\n",
       "</div>"
      ],
      "text/plain": [
       "     genre1  year    rating\n",
       "0    Action  2006  6.940000\n",
       "1    Action  2007  7.062500\n",
       "2    Action  2008  6.890000\n",
       "3    Action  2009  6.615385\n",
       "4    Action  2010  6.545455\n",
       "..      ...   ...       ...\n",
       "88  Mystery  2010  7.650000\n",
       "89  Mystery  2011  7.333333\n",
       "90  Mystery  2015  7.100000\n",
       "91  Romance  2011  7.100000\n",
       "92   Sci-Fi  2008  5.000000\n",
       "\n",
       "[93 rows x 3 columns]"
      ]
     },
     "execution_count": 449,
     "metadata": {},
     "output_type": "execute_result"
    }
   ],
   "source": [
    "#Use as_index = False to return a dataframe\n",
    "movies.groupby(cols, as_index=False).rating.mean()"
   ]
  },
  {
   "cell_type": "markdown",
   "id": "d344dbf8",
   "metadata": {},
   "source": [
    "### Challenge 5:\n",
    "\n",
    "- Create a series that order generations of pokemon by their average attack rating from greatest to least\n",
    "- Replace the NaNs in `type2` with \"no_type\" and then group by `type1` and `type2` and derive the median `speed`"
   ]
  },
  {
   "cell_type": "code",
   "execution_count": 450,
   "id": "868a54ab",
   "metadata": {},
   "outputs": [
    {
     "data": {
      "text/plain": [
       "generation\n",
       "7    84.637500\n",
       "4    82.672897\n",
       "5    80.557692\n",
       "3    77.185185\n",
       "6    76.527778\n",
       "1    74.529801\n",
       "2    69.960000\n",
       "Name: attack, dtype: float64"
      ]
     },
     "execution_count": 450,
     "metadata": {},
     "output_type": "execute_result"
    }
   ],
   "source": [
    "#Task1\n",
    "pokemon.groupby(\"generation\").attack.mean().sort_values(ascending = False)"
   ]
  },
  {
   "cell_type": "code",
   "execution_count": 451,
   "id": "42573a48",
   "metadata": {},
   "outputs": [
    {
     "data": {
      "text/plain": [
       "type1  type2   \n",
       "bug    electric     54.0\n",
       "       fairy       104.0\n",
       "       fighting     79.0\n",
       "       fire         80.0\n",
       "       flying       80.0\n",
       "                   ...  \n",
       "water  ice          70.0\n",
       "       poison       85.0\n",
       "       psychic      30.0\n",
       "       rock         33.5\n",
       "       steel        60.0\n",
       "Name: speed, Length: 148, dtype: float64"
      ]
     },
     "execution_count": 451,
     "metadata": {},
     "output_type": "execute_result"
    }
   ],
   "source": [
    "pokemon.groupby([\"type1\", \"type2\"]).speed.median()"
   ]
  },
  {
   "cell_type": "markdown",
   "id": "da1bda1c",
   "metadata": {},
   "source": [
    "## 6. Merging and Concatenation <a id=\"section6\"/>"
   ]
  },
  {
   "cell_type": "markdown",
   "id": "f639f4e8",
   "metadata": {},
   "source": [
    "How can we connect two different dataset along their columns or rows? Similar to how we concatenate strings, we can concatenate dataframes."
   ]
  },
  {
   "cell_type": "markdown",
   "id": "fe09a06f",
   "metadata": {},
   "source": [
    "Load in the two different datasets from the [world happiness report](https://www.kaggle.com/ajaypalsinghlo/world-happiness-report-2021?select=world-happiness-report.csv)"
   ]
  },
  {
   "cell_type": "code",
   "execution_count": 452,
   "id": "9b69b229",
   "metadata": {},
   "outputs": [
    {
     "data": {
      "text/html": [
       "<div>\n",
       "<style scoped>\n",
       "    .dataframe tbody tr th:only-of-type {\n",
       "        vertical-align: middle;\n",
       "    }\n",
       "\n",
       "    .dataframe tbody tr th {\n",
       "        vertical-align: top;\n",
       "    }\n",
       "\n",
       "    .dataframe thead th {\n",
       "        text-align: right;\n",
       "    }\n",
       "</style>\n",
       "<table border=\"1\" class=\"dataframe\">\n",
       "  <thead>\n",
       "    <tr style=\"text-align: right;\">\n",
       "      <th></th>\n",
       "      <th>Country name</th>\n",
       "      <th>year</th>\n",
       "      <th>Life Ladder</th>\n",
       "      <th>Log GDP per capita</th>\n",
       "      <th>Social support</th>\n",
       "      <th>Healthy life expectancy at birth</th>\n",
       "      <th>Freedom to make life choices</th>\n",
       "      <th>Generosity</th>\n",
       "      <th>Perceptions of corruption</th>\n",
       "      <th>Positive affect</th>\n",
       "      <th>Negative affect</th>\n",
       "      <th>country_code_name</th>\n",
       "    </tr>\n",
       "  </thead>\n",
       "  <tbody>\n",
       "    <tr>\n",
       "      <th>0</th>\n",
       "      <td>Afghanistan</td>\n",
       "      <td>2009</td>\n",
       "      <td>4.402</td>\n",
       "      <td>7.540</td>\n",
       "      <td>0.552</td>\n",
       "      <td>51.20</td>\n",
       "      <td>0.679</td>\n",
       "      <td>0.190</td>\n",
       "      <td>0.850</td>\n",
       "      <td>0.584</td>\n",
       "      <td>0.237</td>\n",
       "      <td>NaN</td>\n",
       "    </tr>\n",
       "    <tr>\n",
       "      <th>1</th>\n",
       "      <td>Albania</td>\n",
       "      <td>2009</td>\n",
       "      <td>5.485</td>\n",
       "      <td>9.262</td>\n",
       "      <td>0.833</td>\n",
       "      <td>66.20</td>\n",
       "      <td>0.525</td>\n",
       "      <td>-0.158</td>\n",
       "      <td>0.864</td>\n",
       "      <td>0.640</td>\n",
       "      <td>0.279</td>\n",
       "      <td>NaN</td>\n",
       "    </tr>\n",
       "    <tr>\n",
       "      <th>2</th>\n",
       "      <td>Argentina</td>\n",
       "      <td>2009</td>\n",
       "      <td>6.424</td>\n",
       "      <td>9.977</td>\n",
       "      <td>0.919</td>\n",
       "      <td>67.18</td>\n",
       "      <td>0.637</td>\n",
       "      <td>-0.130</td>\n",
       "      <td>0.885</td>\n",
       "      <td>0.864</td>\n",
       "      <td>0.237</td>\n",
       "      <td>NaN</td>\n",
       "    </tr>\n",
       "    <tr>\n",
       "      <th>3</th>\n",
       "      <td>Armenia</td>\n",
       "      <td>2009</td>\n",
       "      <td>4.178</td>\n",
       "      <td>9.111</td>\n",
       "      <td>0.680</td>\n",
       "      <td>65.10</td>\n",
       "      <td>0.441</td>\n",
       "      <td>-0.214</td>\n",
       "      <td>0.882</td>\n",
       "      <td>0.543</td>\n",
       "      <td>0.411</td>\n",
       "      <td>NaN</td>\n",
       "    </tr>\n",
       "    <tr>\n",
       "      <th>4</th>\n",
       "      <td>Azerbaijan</td>\n",
       "      <td>2009</td>\n",
       "      <td>4.574</td>\n",
       "      <td>9.534</td>\n",
       "      <td>0.736</td>\n",
       "      <td>63.02</td>\n",
       "      <td>0.498</td>\n",
       "      <td>-0.087</td>\n",
       "      <td>0.754</td>\n",
       "      <td>0.544</td>\n",
       "      <td>0.234</td>\n",
       "      <td>NaN</td>\n",
       "    </tr>\n",
       "  </tbody>\n",
       "</table>\n",
       "</div>"
      ],
      "text/plain": [
       "  Country name  year  Life Ladder  Log GDP per capita  Social support  \\\n",
       "0  Afghanistan  2009        4.402               7.540           0.552   \n",
       "1      Albania  2009        5.485               9.262           0.833   \n",
       "2    Argentina  2009        6.424               9.977           0.919   \n",
       "3      Armenia  2009        4.178               9.111           0.680   \n",
       "4   Azerbaijan  2009        4.574               9.534           0.736   \n",
       "\n",
       "   Healthy life expectancy at birth  Freedom to make life choices  Generosity  \\\n",
       "0                             51.20                         0.679       0.190   \n",
       "1                             66.20                         0.525      -0.158   \n",
       "2                             67.18                         0.637      -0.130   \n",
       "3                             65.10                         0.441      -0.214   \n",
       "4                             63.02                         0.498      -0.087   \n",
       "\n",
       "   Perceptions of corruption  Positive affect  Negative affect  \\\n",
       "0                      0.850            0.584            0.237   \n",
       "1                      0.864            0.640            0.279   \n",
       "2                      0.885            0.864            0.237   \n",
       "3                      0.882            0.543            0.411   \n",
       "4                      0.754            0.544            0.234   \n",
       "\n",
       "  country_code_name  \n",
       "0               NaN  \n",
       "1               NaN  \n",
       "2               NaN  \n",
       "3               NaN  \n",
       "4               NaN  "
      ]
     },
     "execution_count": 452,
     "metadata": {},
     "output_type": "execute_result"
    }
   ],
   "source": [
    "happiness2010 = pd.read_csv(\"data/word_happiness_report_2010.csv\")\n",
    "happiness2009 = pd.read_csv(\"data/word_happiness_report_2009.csv\")\n",
    "happiness2009.head()"
   ]
  },
  {
   "cell_type": "code",
   "execution_count": 453,
   "id": "c01d3cd5",
   "metadata": {},
   "outputs": [
    {
     "data": {
      "text/plain": [
       "(114, 124)"
      ]
     },
     "execution_count": 453,
     "metadata": {},
     "output_type": "execute_result"
    }
   ],
   "source": [
    "#Num rows\n",
    "happiness2009.shape[0], happiness2010.shape[0]"
   ]
  },
  {
   "cell_type": "markdown",
   "id": "6771ba95",
   "metadata": {},
   "source": [
    "Both dataframes are structured the same and represent the same information but for two different years."
   ]
  },
  {
   "cell_type": "markdown",
   "id": "9cc846ae",
   "metadata": {},
   "source": [
    "If we wanted to conduct an operation that looks a change in a metric from one year to the next for a country we first need to combine or concatenate the two dataframes. "
   ]
  },
  {
   "cell_type": "code",
   "execution_count": 454,
   "id": "965db9da",
   "metadata": {},
   "outputs": [],
   "source": [
    "#First assemble the dataframes in a list\n",
    "df_list = [happiness2009, happiness2010]"
   ]
  },
  {
   "cell_type": "markdown",
   "id": "ab8b6622",
   "metadata": {},
   "source": [
    "`pd.concat()` is the method for this task."
   ]
  },
  {
   "cell_type": "code",
   "execution_count": 455,
   "id": "2d309e0d",
   "metadata": {},
   "outputs": [
    {
     "data": {
      "text/html": [
       "<div>\n",
       "<style scoped>\n",
       "    .dataframe tbody tr th:only-of-type {\n",
       "        vertical-align: middle;\n",
       "    }\n",
       "\n",
       "    .dataframe tbody tr th {\n",
       "        vertical-align: top;\n",
       "    }\n",
       "\n",
       "    .dataframe thead th {\n",
       "        text-align: right;\n",
       "    }\n",
       "</style>\n",
       "<table border=\"1\" class=\"dataframe\">\n",
       "  <thead>\n",
       "    <tr style=\"text-align: right;\">\n",
       "      <th></th>\n",
       "      <th>Country name</th>\n",
       "      <th>year</th>\n",
       "      <th>Life Ladder</th>\n",
       "      <th>Log GDP per capita</th>\n",
       "      <th>Social support</th>\n",
       "      <th>Healthy life expectancy at birth</th>\n",
       "      <th>Freedom to make life choices</th>\n",
       "      <th>Generosity</th>\n",
       "      <th>Perceptions of corruption</th>\n",
       "      <th>Positive affect</th>\n",
       "      <th>Negative affect</th>\n",
       "      <th>country_code_name</th>\n",
       "    </tr>\n",
       "  </thead>\n",
       "  <tbody>\n",
       "    <tr>\n",
       "      <th>0</th>\n",
       "      <td>Afghanistan</td>\n",
       "      <td>2009</td>\n",
       "      <td>4.402</td>\n",
       "      <td>7.540</td>\n",
       "      <td>0.552</td>\n",
       "      <td>51.20</td>\n",
       "      <td>0.679</td>\n",
       "      <td>0.190</td>\n",
       "      <td>0.850</td>\n",
       "      <td>0.584</td>\n",
       "      <td>0.237</td>\n",
       "      <td>NaN</td>\n",
       "    </tr>\n",
       "    <tr>\n",
       "      <th>1</th>\n",
       "      <td>Albania</td>\n",
       "      <td>2009</td>\n",
       "      <td>5.485</td>\n",
       "      <td>9.262</td>\n",
       "      <td>0.833</td>\n",
       "      <td>66.20</td>\n",
       "      <td>0.525</td>\n",
       "      <td>-0.158</td>\n",
       "      <td>0.864</td>\n",
       "      <td>0.640</td>\n",
       "      <td>0.279</td>\n",
       "      <td>NaN</td>\n",
       "    </tr>\n",
       "    <tr>\n",
       "      <th>2</th>\n",
       "      <td>Argentina</td>\n",
       "      <td>2009</td>\n",
       "      <td>6.424</td>\n",
       "      <td>9.977</td>\n",
       "      <td>0.919</td>\n",
       "      <td>67.18</td>\n",
       "      <td>0.637</td>\n",
       "      <td>-0.130</td>\n",
       "      <td>0.885</td>\n",
       "      <td>0.864</td>\n",
       "      <td>0.237</td>\n",
       "      <td>NaN</td>\n",
       "    </tr>\n",
       "    <tr>\n",
       "      <th>3</th>\n",
       "      <td>Armenia</td>\n",
       "      <td>2009</td>\n",
       "      <td>4.178</td>\n",
       "      <td>9.111</td>\n",
       "      <td>0.680</td>\n",
       "      <td>65.10</td>\n",
       "      <td>0.441</td>\n",
       "      <td>-0.214</td>\n",
       "      <td>0.882</td>\n",
       "      <td>0.543</td>\n",
       "      <td>0.411</td>\n",
       "      <td>NaN</td>\n",
       "    </tr>\n",
       "    <tr>\n",
       "      <th>4</th>\n",
       "      <td>Azerbaijan</td>\n",
       "      <td>2009</td>\n",
       "      <td>4.574</td>\n",
       "      <td>9.534</td>\n",
       "      <td>0.736</td>\n",
       "      <td>63.02</td>\n",
       "      <td>0.498</td>\n",
       "      <td>-0.087</td>\n",
       "      <td>0.754</td>\n",
       "      <td>0.544</td>\n",
       "      <td>0.234</td>\n",
       "      <td>NaN</td>\n",
       "    </tr>\n",
       "  </tbody>\n",
       "</table>\n",
       "</div>"
      ],
      "text/plain": [
       "  Country name  year  Life Ladder  Log GDP per capita  Social support  \\\n",
       "0  Afghanistan  2009        4.402               7.540           0.552   \n",
       "1      Albania  2009        5.485               9.262           0.833   \n",
       "2    Argentina  2009        6.424               9.977           0.919   \n",
       "3      Armenia  2009        4.178               9.111           0.680   \n",
       "4   Azerbaijan  2009        4.574               9.534           0.736   \n",
       "\n",
       "   Healthy life expectancy at birth  Freedom to make life choices  Generosity  \\\n",
       "0                             51.20                         0.679       0.190   \n",
       "1                             66.20                         0.525      -0.158   \n",
       "2                             67.18                         0.637      -0.130   \n",
       "3                             65.10                         0.441      -0.214   \n",
       "4                             63.02                         0.498      -0.087   \n",
       "\n",
       "   Perceptions of corruption  Positive affect  Negative affect  \\\n",
       "0                      0.850            0.584            0.237   \n",
       "1                      0.864            0.640            0.279   \n",
       "2                      0.885            0.864            0.237   \n",
       "3                      0.882            0.543            0.411   \n",
       "4                      0.754            0.544            0.234   \n",
       "\n",
       "  country_code_name  \n",
       "0               NaN  \n",
       "1               NaN  \n",
       "2               NaN  \n",
       "3               NaN  \n",
       "4               NaN  "
      ]
     },
     "execution_count": 455,
     "metadata": {},
     "output_type": "execute_result"
    }
   ],
   "source": [
    "#Pass in df_list to the concatenation funcion and set axis = 0\n",
    "happiness = pd.concat(df_list, axis = 0)\n",
    "happiness.head()"
   ]
  },
  {
   "cell_type": "code",
   "execution_count": 456,
   "id": "282bbac8",
   "metadata": {},
   "outputs": [],
   "source": [
    "#Reset the index to get rid of duplicates\n",
    "happiness.reset_index(drop=True, inplace=True)"
   ]
  },
  {
   "cell_type": "code",
   "execution_count": 457,
   "id": "e572d43f",
   "metadata": {},
   "outputs": [
    {
     "data": {
      "text/plain": [
       "238"
      ]
     },
     "execution_count": 457,
     "metadata": {},
     "output_type": "execute_result"
    }
   ],
   "source": [
    "#Num rows\n",
    "happiness.shape[0]"
   ]
  },
  {
   "cell_type": "markdown",
   "id": "ed106fa8",
   "metadata": {},
   "source": [
    "The `axis` method is a crucial for this function because we are telling pandas to concatenate the dataframes vertically instead of horizontally. We do this because they have the same columns and thus should combined along that axis.\n",
    "\n",
    "\n",
    "Setting `axis` to 1 would attach the dataframes side by side."
   ]
  },
  {
   "cell_type": "code",
   "execution_count": null,
   "id": "701f5a6c",
   "metadata": {},
   "outputs": [],
   "source": []
  },
  {
   "cell_type": "markdown",
   "id": "f8d8cb68",
   "metadata": {},
   "source": [
    "Now let's bring back the unemployment data and connect it with the happiness data.\n",
    "\n",
    "This time when we combine the data, we are going to be merging them together, aka joining them."
   ]
  },
  {
   "cell_type": "markdown",
   "id": "78547875",
   "metadata": {},
   "source": [
    "Our two datasets will be the 2010 happiness data and a version of the unemployment data that pulls the seasonally adjusted median unemployment rate for the year 2010 for each country"
   ]
  },
  {
   "cell_type": "code",
   "execution_count": 458,
   "id": "72fce913",
   "metadata": {},
   "outputs": [],
   "source": [
    "#Create 2010 seasonally adjusted subset\n",
    "unemployment2010_sa = unemployment[(unemployment.seasonality == 'sa') & (unemployment.year == 2010)]"
   ]
  },
  {
   "cell_type": "code",
   "execution_count": 459,
   "id": "f9d81800",
   "metadata": {},
   "outputs": [
    {
     "data": {
      "text/html": [
       "<div>\n",
       "<style scoped>\n",
       "    .dataframe tbody tr th:only-of-type {\n",
       "        vertical-align: middle;\n",
       "    }\n",
       "\n",
       "    .dataframe tbody tr th {\n",
       "        vertical-align: top;\n",
       "    }\n",
       "\n",
       "    .dataframe thead th {\n",
       "        text-align: right;\n",
       "    }\n",
       "</style>\n",
       "<table border=\"1\" class=\"dataframe\">\n",
       "  <thead>\n",
       "    <tr style=\"text-align: right;\">\n",
       "      <th></th>\n",
       "      <th>country</th>\n",
       "      <th>seasonality</th>\n",
       "      <th>year_month</th>\n",
       "      <th>unemployment</th>\n",
       "      <th>unemployment_rate</th>\n",
       "      <th>year</th>\n",
       "      <th>month</th>\n",
       "    </tr>\n",
       "  </thead>\n",
       "  <tbody>\n",
       "    <tr>\n",
       "      <th>420</th>\n",
       "      <td>at</td>\n",
       "      <td>sa</td>\n",
       "      <td>2010.01</td>\n",
       "      <td>192000</td>\n",
       "      <td>4.5</td>\n",
       "      <td>2010</td>\n",
       "      <td>1</td>\n",
       "    </tr>\n",
       "    <tr>\n",
       "      <th>421</th>\n",
       "      <td>at</td>\n",
       "      <td>sa</td>\n",
       "      <td>2010.02</td>\n",
       "      <td>191000</td>\n",
       "      <td>4.5</td>\n",
       "      <td>2010</td>\n",
       "      <td>2</td>\n",
       "    </tr>\n",
       "    <tr>\n",
       "      <th>422</th>\n",
       "      <td>at</td>\n",
       "      <td>sa</td>\n",
       "      <td>2010.03</td>\n",
       "      <td>189000</td>\n",
       "      <td>4.5</td>\n",
       "      <td>2010</td>\n",
       "      <td>3</td>\n",
       "    </tr>\n",
       "    <tr>\n",
       "      <th>423</th>\n",
       "      <td>at</td>\n",
       "      <td>sa</td>\n",
       "      <td>2010.04</td>\n",
       "      <td>195000</td>\n",
       "      <td>4.6</td>\n",
       "      <td>2010</td>\n",
       "      <td>4</td>\n",
       "    </tr>\n",
       "    <tr>\n",
       "      <th>424</th>\n",
       "      <td>at</td>\n",
       "      <td>sa</td>\n",
       "      <td>2010.05</td>\n",
       "      <td>196000</td>\n",
       "      <td>4.6</td>\n",
       "      <td>2010</td>\n",
       "      <td>5</td>\n",
       "    </tr>\n",
       "  </tbody>\n",
       "</table>\n",
       "</div>"
      ],
      "text/plain": [
       "    country seasonality  year_month  unemployment  unemployment_rate  year  \\\n",
       "420      at          sa     2010.01        192000                4.5  2010   \n",
       "421      at          sa     2010.02        191000                4.5  2010   \n",
       "422      at          sa     2010.03        189000                4.5  2010   \n",
       "423      at          sa     2010.04        195000                4.6  2010   \n",
       "424      at          sa     2010.05        196000                4.6  2010   \n",
       "\n",
       "     month  \n",
       "420      1  \n",
       "421      2  \n",
       "422      3  \n",
       "423      4  \n",
       "424      5  "
      ]
     },
     "execution_count": 459,
     "metadata": {},
     "output_type": "execute_result"
    }
   ],
   "source": [
    "unemployment2010_sa.head()"
   ]
  },
  {
   "cell_type": "code",
   "execution_count": 460,
   "id": "05f2b367",
   "metadata": {},
   "outputs": [
    {
     "data": {
      "text/html": [
       "<div>\n",
       "<style scoped>\n",
       "    .dataframe tbody tr th:only-of-type {\n",
       "        vertical-align: middle;\n",
       "    }\n",
       "\n",
       "    .dataframe tbody tr th {\n",
       "        vertical-align: top;\n",
       "    }\n",
       "\n",
       "    .dataframe thead th {\n",
       "        text-align: right;\n",
       "    }\n",
       "</style>\n",
       "<table border=\"1\" class=\"dataframe\">\n",
       "  <thead>\n",
       "    <tr style=\"text-align: right;\">\n",
       "      <th></th>\n",
       "      <th>country</th>\n",
       "      <th>unemployment_rate</th>\n",
       "    </tr>\n",
       "  </thead>\n",
       "  <tbody>\n",
       "    <tr>\n",
       "      <th>0</th>\n",
       "      <td>at</td>\n",
       "      <td>4.55</td>\n",
       "    </tr>\n",
       "    <tr>\n",
       "      <th>1</th>\n",
       "      <td>be</td>\n",
       "      <td>8.40</td>\n",
       "    </tr>\n",
       "    <tr>\n",
       "      <th>2</th>\n",
       "      <td>bg</td>\n",
       "      <td>10.00</td>\n",
       "    </tr>\n",
       "    <tr>\n",
       "      <th>3</th>\n",
       "      <td>cy</td>\n",
       "      <td>6.95</td>\n",
       "    </tr>\n",
       "    <tr>\n",
       "      <th>4</th>\n",
       "      <td>cz</td>\n",
       "      <td>7.35</td>\n",
       "    </tr>\n",
       "  </tbody>\n",
       "</table>\n",
       "</div>"
      ],
      "text/plain": [
       "  country  unemployment_rate\n",
       "0      at               4.55\n",
       "1      be               8.40\n",
       "2      bg              10.00\n",
       "3      cy               6.95\n",
       "4      cz               7.35"
      ]
     },
     "execution_count": 460,
     "metadata": {},
     "output_type": "execute_result"
    }
   ],
   "source": [
    "#Group by country derive median\n",
    "median_unemployment = unemployment2010_sa.groupby(\"country\", as_index=False).unemployment_rate.median()\n",
    "median_unemployment.head()"
   ]
  },
  {
   "cell_type": "markdown",
   "id": "d68fac9f",
   "metadata": {},
   "source": [
    "`pandas` includes an easy-to-use `.merge()` function. Let's use it to **merge  `median_unemployment` and `happiness2010` using country codes**"
   ]
  },
  {
   "cell_type": "code",
   "execution_count": 461,
   "id": "cb25e0ab",
   "metadata": {},
   "outputs": [
    {
     "data": {
      "text/html": [
       "<div>\n",
       "<style scoped>\n",
       "    .dataframe tbody tr th:only-of-type {\n",
       "        vertical-align: middle;\n",
       "    }\n",
       "\n",
       "    .dataframe tbody tr th {\n",
       "        vertical-align: top;\n",
       "    }\n",
       "\n",
       "    .dataframe thead th {\n",
       "        text-align: right;\n",
       "    }\n",
       "</style>\n",
       "<table border=\"1\" class=\"dataframe\">\n",
       "  <thead>\n",
       "    <tr style=\"text-align: right;\">\n",
       "      <th></th>\n",
       "      <th>Country name</th>\n",
       "      <th>year</th>\n",
       "      <th>Life Ladder</th>\n",
       "      <th>Log GDP per capita</th>\n",
       "      <th>Social support</th>\n",
       "      <th>Healthy life expectancy at birth</th>\n",
       "      <th>Freedom to make life choices</th>\n",
       "      <th>Generosity</th>\n",
       "      <th>Perceptions of corruption</th>\n",
       "      <th>Positive affect</th>\n",
       "      <th>Negative affect</th>\n",
       "      <th>country_code_name</th>\n",
       "      <th>country</th>\n",
       "      <th>unemployment_rate</th>\n",
       "    </tr>\n",
       "  </thead>\n",
       "  <tbody>\n",
       "    <tr>\n",
       "      <th>0</th>\n",
       "      <td>Austria</td>\n",
       "      <td>2010</td>\n",
       "      <td>7.303</td>\n",
       "      <td>10.861</td>\n",
       "      <td>0.914</td>\n",
       "      <td>71.4</td>\n",
       "      <td>0.896</td>\n",
       "      <td>0.131</td>\n",
       "      <td>0.546</td>\n",
       "      <td>0.815</td>\n",
       "      <td>0.156</td>\n",
       "      <td>at</td>\n",
       "      <td>at</td>\n",
       "      <td>4.55</td>\n",
       "    </tr>\n",
       "    <tr>\n",
       "      <th>1</th>\n",
       "      <td>Belgium</td>\n",
       "      <td>2010</td>\n",
       "      <td>6.854</td>\n",
       "      <td>10.779</td>\n",
       "      <td>0.931</td>\n",
       "      <td>70.8</td>\n",
       "      <td>0.807</td>\n",
       "      <td>0.022</td>\n",
       "      <td>0.697</td>\n",
       "      <td>0.828</td>\n",
       "      <td>0.240</td>\n",
       "      <td>be</td>\n",
       "      <td>be</td>\n",
       "      <td>8.40</td>\n",
       "    </tr>\n",
       "    <tr>\n",
       "      <th>2</th>\n",
       "      <td>Bulgaria</td>\n",
       "      <td>2010</td>\n",
       "      <td>3.912</td>\n",
       "      <td>9.765</td>\n",
       "      <td>0.843</td>\n",
       "      <td>65.7</td>\n",
       "      <td>0.545</td>\n",
       "      <td>-0.144</td>\n",
       "      <td>0.941</td>\n",
       "      <td>0.546</td>\n",
       "      <td>0.238</td>\n",
       "      <td>bg</td>\n",
       "      <td>bg</td>\n",
       "      <td>10.00</td>\n",
       "    </tr>\n",
       "    <tr>\n",
       "      <th>3</th>\n",
       "      <td>Croatia</td>\n",
       "      <td>2010</td>\n",
       "      <td>5.596</td>\n",
       "      <td>10.091</td>\n",
       "      <td>0.796</td>\n",
       "      <td>67.9</td>\n",
       "      <td>0.564</td>\n",
       "      <td>-0.237</td>\n",
       "      <td>0.973</td>\n",
       "      <td>0.607</td>\n",
       "      <td>0.259</td>\n",
       "      <td>hr</td>\n",
       "      <td>hr</td>\n",
       "      <td>NaN</td>\n",
       "    </tr>\n",
       "    <tr>\n",
       "      <th>4</th>\n",
       "      <td>Cyprus</td>\n",
       "      <td>2010</td>\n",
       "      <td>6.387</td>\n",
       "      <td>10.551</td>\n",
       "      <td>0.822</td>\n",
       "      <td>72.4</td>\n",
       "      <td>0.755</td>\n",
       "      <td>0.073</td>\n",
       "      <td>0.833</td>\n",
       "      <td>0.786</td>\n",
       "      <td>0.296</td>\n",
       "      <td>cy</td>\n",
       "      <td>cy</td>\n",
       "      <td>6.95</td>\n",
       "    </tr>\n",
       "  </tbody>\n",
       "</table>\n",
       "</div>"
      ],
      "text/plain": [
       "  Country name  year  Life Ladder  Log GDP per capita  Social support  \\\n",
       "0      Austria  2010        7.303              10.861           0.914   \n",
       "1      Belgium  2010        6.854              10.779           0.931   \n",
       "2     Bulgaria  2010        3.912               9.765           0.843   \n",
       "3      Croatia  2010        5.596              10.091           0.796   \n",
       "4       Cyprus  2010        6.387              10.551           0.822   \n",
       "\n",
       "   Healthy life expectancy at birth  Freedom to make life choices  Generosity  \\\n",
       "0                              71.4                         0.896       0.131   \n",
       "1                              70.8                         0.807       0.022   \n",
       "2                              65.7                         0.545      -0.144   \n",
       "3                              67.9                         0.564      -0.237   \n",
       "4                              72.4                         0.755       0.073   \n",
       "\n",
       "   Perceptions of corruption  Positive affect  Negative affect  \\\n",
       "0                      0.546            0.815            0.156   \n",
       "1                      0.697            0.828            0.240   \n",
       "2                      0.941            0.546            0.238   \n",
       "3                      0.973            0.607            0.259   \n",
       "4                      0.833            0.786            0.296   \n",
       "\n",
       "  country_code_name country  unemployment_rate  \n",
       "0                at      at               4.55  \n",
       "1                be      be               8.40  \n",
       "2                bg      bg              10.00  \n",
       "3                hr      hr                NaN  \n",
       "4                cy      cy               6.95  "
      ]
     },
     "execution_count": 461,
     "metadata": {},
     "output_type": "execute_result"
    }
   ],
   "source": [
    "merged = pd.merge(happiness2010,median_unemployment, left_on=\"country_code_name\", right_on=\"country\")\n",
    "merged.head()"
   ]
  },
  {
   "cell_type": "markdown",
   "id": "b738a2d0",
   "metadata": {},
   "source": [
    "Merging is often more complex than this example. If you want to merge on multiple columns, you can pass a list of column names to the `on` parameter.\n",
    "\n",
    "```\n",
    "pd.merge(first, second, on=['name', 'id'])\n",
    "```\n",
    "\n",
    "The `how` parameter is set to \"inner\" which means that the output will only include values that appear in both of the columns the dataframes are being joined on.\n",
    "\n",
    "For more information on merging, check the [documentation](http://pandas.pydata.org/pandas-docs/stable/merging.html#database-style-dataframe-joining-merging)."
   ]
  },
  {
   "cell_type": "code",
   "execution_count": 462,
   "id": "f4a02461",
   "metadata": {},
   "outputs": [
    {
     "data": {
      "text/plain": [
       "(26, 14)"
      ]
     },
     "execution_count": 462,
     "metadata": {},
     "output_type": "execute_result"
    }
   ],
   "source": [
    "#Num rows can be a good indicator of how well our join did.\n",
    "merged.shape"
   ]
  },
  {
   "cell_type": "markdown",
   "id": "d137e1de",
   "metadata": {},
   "source": [
    "Is there a relationship between unemployment rate and other variables?"
   ]
  },
  {
   "cell_type": "code",
   "execution_count": 463,
   "id": "9fe60719",
   "metadata": {},
   "outputs": [
    {
     "data": {
      "text/plain": [
       "year                                     NaN\n",
       "Life Ladder                        -0.366709\n",
       "Log GDP per capita                 -0.386886\n",
       "Social support                      0.006593\n",
       "Healthy life expectancy at birth   -0.241728\n",
       "Freedom to make life choices       -0.470864\n",
       "Generosity                         -0.531349\n",
       "Perceptions of corruption           0.443022\n",
       "Positive affect                    -0.392526\n",
       "Negative affect                     0.307134\n",
       "unemployment_rate                   1.000000\n",
       "Name: unemployment_rate, dtype: float64"
      ]
     },
     "execution_count": 463,
     "metadata": {},
     "output_type": "execute_result"
    }
   ],
   "source": [
    "merged.corr()[\"unemployment_rate\"]"
   ]
  },
  {
   "cell_type": "markdown",
   "id": "62d3a618",
   "metadata": {},
   "source": [
    "We can save this dataset with the `.to_csv()` method"
   ]
  },
  {
   "cell_type": "code",
   "execution_count": 464,
   "id": "e9d770c4",
   "metadata": {},
   "outputs": [],
   "source": [
    "# merged.to_csv(\"happiness_unemployment.csv\")"
   ]
  },
  {
   "cell_type": "markdown",
   "id": "a79a9e2c",
   "metadata": {},
   "source": [
    "## 7. Plotting With Pandas  <a id=\"section7\"/>\n",
    "\n",
    "The best way to get a sense of this data is to **plot it.** Next, we'll start to look at some basic plotting with `pandas`. Before we begin, let's sort the data by country and date. This is good practice and is especially important when using `pandas`'s `.plot()` method because the x-axis values are based on the indices. When we sort, the index values remain unchanged. Thus, we need to reset them. The `drop` parameter tells `pandas` to construct a `DataFrame` *without* adding a column."
   ]
  },
  {
   "cell_type": "code",
   "execution_count": 465,
   "id": "154e8dee",
   "metadata": {},
   "outputs": [],
   "source": [
    "unemployment.sort_values(['country', 'year_month'], inplace=True)\n",
    "unemployment.reset_index(drop=True, inplace=True)"
   ]
  },
  {
   "cell_type": "markdown",
   "id": "77356f84",
   "metadata": {},
   "source": [
    "Let's take a look at Spain's unemployment rate (only because it was the highest) across time."
   ]
  },
  {
   "cell_type": "code",
   "execution_count": 466,
   "id": "9e575126",
   "metadata": {},
   "outputs": [
    {
     "name": "stderr",
     "output_type": "stream",
     "text": [
      "/usr/local/lib/python3.7/site-packages/ipykernel_launcher.py:4: SettingWithCopyWarning: \n",
      "A value is trying to be set on a copy of a slice from a DataFrame.\n",
      "Try using .loc[row_indexer,col_indexer] = value instead\n",
      "\n",
      "See the caveats in the documentation: https://pandas.pydata.org/pandas-docs/stable/user_guide/indexing.html#returning-a-view-versus-a-copy\n",
      "  after removing the cwd from sys.path.\n"
     ]
    }
   ],
   "source": [
    "spain = unemployment[(unemployment['country'] == 'es') &\n",
    "                     (unemployment['seasonality'] == 'sa')]\n",
    "\n",
    "spain[\"country\"] = \"Spain\""
   ]
  },
  {
   "cell_type": "code",
   "execution_count": 467,
   "id": "96aead43",
   "metadata": {},
   "outputs": [
    {
     "data": {
      "text/plain": [
       "<AxesSubplot:>"
      ]
     },
     "execution_count": 467,
     "metadata": {},
     "output_type": "execute_result"
    },
    {
     "data": {
      "image/png": "[encoded data removed]",
      "text/plain": [
       "<Figure size 720x576 with 1 Axes>"
      ]
     },
     "metadata": {},
     "output_type": "display_data"
    }
   ],
   "source": [
    "spain['unemployment_rate'].plot(figsize=(10, 8), color='#348ABD')"
   ]
  },
  {
   "cell_type": "markdown",
   "id": "c08d160f",
   "metadata": {},
   "source": [
    "Note that the values along the x-axis represent the indices associated with Spain in the sorted `unemployment` `DataFrame`. Wouldn't it be nice if, instead, we could **show the time period** associated with the various unemployment rates for Spain? It might also be interesting to **compare** Spain's unemployment rate with its neighbor to the west, Portugal.\n",
    "\n",
    "Let's first create a `DataFrame` that contains the unemployment data for both countries."
   ]
  },
  {
   "cell_type": "code",
   "execution_count": 468,
   "id": "e00db471",
   "metadata": {},
   "outputs": [],
   "source": [
    "ps = unemployment[(unemployment['country'].isin(['pt', 'es'])) &\n",
    "                  (unemployment['seasonality'] == 'sa')]"
   ]
  },
  {
   "cell_type": "markdown",
   "id": "f7567078",
   "metadata": {},
   "source": [
    "For a quick tasks that involving replacing data values, use a dictionary where the old values are the keys and the new ones are the values."
   ]
  },
  {
   "cell_type": "code",
   "execution_count": 469,
   "id": "cf83f00e",
   "metadata": {},
   "outputs": [
    {
     "name": "stderr",
     "output_type": "stream",
     "text": [
      "/usr/local/lib/python3.7/site-packages/ipykernel_launcher.py:4: SettingWithCopyWarning: \n",
      "A value is trying to be set on a copy of a slice from a DataFrame.\n",
      "Try using .loc[row_indexer,col_indexer] = value instead\n",
      "\n",
      "See the caveats in the documentation: https://pandas.pydata.org/pandas-docs/stable/user_guide/indexing.html#returning-a-view-versus-a-copy\n",
      "  after removing the cwd from sys.path.\n"
     ]
    }
   ],
   "source": [
    "#Initialize dictionary which we use to turn pt -> Portugal and es -> Spain\n",
    "country_map = {\"pt\":\"Portugal\", \"es\":\"Spain\"}\n",
    "\n",
    "ps[\"country\"] = ps[\"country\"].map(country_map)"
   ]
  },
  {
   "cell_type": "markdown",
   "id": "b6465a29",
   "metadata": {},
   "source": [
    "Next, we'll **generate time series data** by converting our years and months into `datetime` objects. `pandas` provides a `to_datetime()` function that makes this relatively simple. It converts an argument&mdash;a single value or an array of values&mdash;to `datetime`. (Note that the return value [depends on the input](http://pandas.pydata.org/pandas-docs/stable/generated/pandas.to_datetime.html).) If we were interested in March 23, 1868, for example, we could do the following."
   ]
  },
  {
   "cell_type": "code",
   "execution_count": 470,
   "id": "281e455f",
   "metadata": {},
   "outputs": [
    {
     "data": {
      "text/plain": [
       "Timestamp('1868-03-23 00:00:00')"
      ]
     },
     "execution_count": 470,
     "metadata": {},
     "output_type": "execute_result"
    }
   ],
   "source": [
    "pd.to_datetime('1868/3/23')"
   ]
  },
  {
   "cell_type": "markdown",
   "id": "156c755e",
   "metadata": {},
   "source": [
    "The argument doesn't necessarily have to be specified in the `yyyy/mm/dd` format. You could list it as `mm/dd/yyyy`, but it's a good idea to be explicit. As a result, we pass in a valid string format."
   ]
  },
  {
   "cell_type": "code",
   "execution_count": 471,
   "id": "65bd2784",
   "metadata": {},
   "outputs": [
    {
     "data": {
      "text/plain": [
       "Timestamp('1868-03-23 00:00:00')"
      ]
     },
     "execution_count": 471,
     "metadata": {},
     "output_type": "execute_result"
    }
   ],
   "source": [
    "pd.to_datetime('3/23/1868', format='%m/%d/%Y')"
   ]
  },
  {
   "cell_type": "markdown",
   "id": "2ac5d9b7",
   "metadata": {},
   "source": [
    "Let's create the `datetime` object and add it to the `DataFrame` as a column named `date`. For this, we'll use the `DataFrame.insert()` method."
   ]
  },
  {
   "cell_type": "code",
   "execution_count": 472,
   "id": "b29a6926",
   "metadata": {},
   "outputs": [],
   "source": [
    "ps.insert(loc=0, column='date',\n",
    "          value=pd.to_datetime(ps['year'].astype(str) + '/' + ps['month'].astype(str) + '/1'))"
   ]
  },
  {
   "cell_type": "markdown",
   "id": "6e351de3",
   "metadata": {},
   "source": [
    "Finally, let's only keep certain columns, rename them, and reshape the `DataFrame`."
   ]
  },
  {
   "cell_type": "code",
   "execution_count": 473,
   "id": "627aba73",
   "metadata": {},
   "outputs": [
    {
     "data": {
      "text/html": [
       "<div>\n",
       "<style scoped>\n",
       "    .dataframe tbody tr th:only-of-type {\n",
       "        vertical-align: middle;\n",
       "    }\n",
       "\n",
       "    .dataframe tbody tr th {\n",
       "        vertical-align: top;\n",
       "    }\n",
       "\n",
       "    .dataframe thead th {\n",
       "        text-align: right;\n",
       "    }\n",
       "</style>\n",
       "<table border=\"1\" class=\"dataframe\">\n",
       "  <thead>\n",
       "    <tr style=\"text-align: right;\">\n",
       "      <th>Country</th>\n",
       "      <th>Portugal</th>\n",
       "      <th>Spain</th>\n",
       "    </tr>\n",
       "    <tr>\n",
       "      <th>Time Period</th>\n",
       "      <th></th>\n",
       "      <th></th>\n",
       "    </tr>\n",
       "  </thead>\n",
       "  <tbody>\n",
       "    <tr>\n",
       "      <th>2010-08-01</th>\n",
       "      <td>11.1</td>\n",
       "      <td>20.5</td>\n",
       "    </tr>\n",
       "    <tr>\n",
       "      <th>2010-09-01</th>\n",
       "      <td>11.1</td>\n",
       "      <td>20.6</td>\n",
       "    </tr>\n",
       "    <tr>\n",
       "      <th>2010-10-01</th>\n",
       "      <td>11.0</td>\n",
       "      <td>20.6</td>\n",
       "    </tr>\n",
       "    <tr>\n",
       "      <th>2010-11-01</th>\n",
       "      <td>10.9</td>\n",
       "      <td>20.4</td>\n",
       "    </tr>\n",
       "    <tr>\n",
       "      <th>2010-12-01</th>\n",
       "      <td>10.9</td>\n",
       "      <td>20.2</td>\n",
       "    </tr>\n",
       "  </tbody>\n",
       "</table>\n",
       "</div>"
      ],
      "text/plain": [
       "Country      Portugal  Spain\n",
       "Time Period                 \n",
       "2010-08-01       11.1   20.5\n",
       "2010-09-01       11.1   20.6\n",
       "2010-10-01       11.0   20.6\n",
       "2010-11-01       10.9   20.4\n",
       "2010-12-01       10.9   20.2"
      ]
     },
     "execution_count": 473,
     "metadata": {},
     "output_type": "execute_result"
    }
   ],
   "source": [
    "ps = ps[['date', 'country', 'unemployment_rate']]\n",
    "ps.columns = ['Time Period', 'Country', 'Unemployment Rate']\n",
    "ps = ps.pivot(index='Time Period', columns='Country', values='Unemployment Rate')\n",
    "ps.tail()"
   ]
  },
  {
   "cell_type": "code",
   "execution_count": 474,
   "id": "8cd86961",
   "metadata": {},
   "outputs": [
    {
     "data": {
      "text/html": [
       "<div>\n",
       "<style scoped>\n",
       "    .dataframe tbody tr th:only-of-type {\n",
       "        vertical-align: middle;\n",
       "    }\n",
       "\n",
       "    .dataframe tbody tr th {\n",
       "        vertical-align: top;\n",
       "    }\n",
       "\n",
       "    .dataframe thead th {\n",
       "        text-align: right;\n",
       "    }\n",
       "</style>\n",
       "<table border=\"1\" class=\"dataframe\">\n",
       "  <thead>\n",
       "    <tr style=\"text-align: right;\">\n",
       "      <th>Country</th>\n",
       "      <th>Portugal</th>\n",
       "      <th>Spain</th>\n",
       "    </tr>\n",
       "    <tr>\n",
       "      <th>Time Period</th>\n",
       "      <th></th>\n",
       "      <th></th>\n",
       "    </tr>\n",
       "  </thead>\n",
       "  <tbody>\n",
       "    <tr>\n",
       "      <th>1983-01-01</th>\n",
       "      <td>7.5</td>\n",
       "      <td>NaN</td>\n",
       "    </tr>\n",
       "    <tr>\n",
       "      <th>1983-02-01</th>\n",
       "      <td>7.6</td>\n",
       "      <td>NaN</td>\n",
       "    </tr>\n",
       "    <tr>\n",
       "      <th>1983-03-01</th>\n",
       "      <td>7.7</td>\n",
       "      <td>NaN</td>\n",
       "    </tr>\n",
       "    <tr>\n",
       "      <th>1983-04-01</th>\n",
       "      <td>7.9</td>\n",
       "      <td>NaN</td>\n",
       "    </tr>\n",
       "    <tr>\n",
       "      <th>1983-05-01</th>\n",
       "      <td>8.0</td>\n",
       "      <td>NaN</td>\n",
       "    </tr>\n",
       "  </tbody>\n",
       "</table>\n",
       "</div>"
      ],
      "text/plain": [
       "Country      Portugal  Spain\n",
       "Time Period                 \n",
       "1983-01-01        7.5    NaN\n",
       "1983-02-01        7.6    NaN\n",
       "1983-03-01        7.7    NaN\n",
       "1983-04-01        7.9    NaN\n",
       "1983-05-01        8.0    NaN"
      ]
     },
     "execution_count": 474,
     "metadata": {},
     "output_type": "execute_result"
    }
   ],
   "source": [
    "ps.head()"
   ]
  },
  {
   "cell_type": "markdown",
   "id": "4494a536",
   "metadata": {},
   "source": [
    "Notice the indices."
   ]
  },
  {
   "cell_type": "code",
   "execution_count": 475,
   "id": "56efe950",
   "metadata": {},
   "outputs": [
    {
     "data": {
      "text/plain": [
       "<AxesSubplot:title={'center':'Unemployment Rate\\n'}, xlabel='Time Period'>"
      ]
     },
     "execution_count": 475,
     "metadata": {},
     "output_type": "execute_result"
    },
    {
     "data": {
      "image/png": "[encoded data removed]",
      "text/plain": [
       "<Figure size 720x576 with 1 Axes>"
      ]
     },
     "metadata": {},
     "output_type": "display_data"
    }
   ],
   "source": [
    "ps.plot(figsize=(10, 8), title='Unemployment Rate\\n')"
   ]
  }
 ],
 "metadata": {
  "kernelspec": {
   "display_name": "Python 3",
   "language": "python",
   "name": "python3"
  },
  "language_info": {
   "codemirror_mode": {
    "name": "ipython",
    "version": 3
   },
   "file_extension": ".py",
   "mimetype": "text/x-python",
   "name": "python",
   "nbconvert_exporter": "python",
   "pygments_lexer": "ipython3",
   "version": "3.7.7"
  }
 },
 "nbformat": 4,
 "nbformat_minor": 5
}
